{
 "cells": [
  {
   "cell_type": "markdown",
   "metadata": {},
   "source": [
    "# A character one hot based seq2seq neural network\n",
    "## For using as spell-checker, grammar checker, etc."
   ]
  },
  {
   "cell_type": "markdown",
   "metadata": {},
   "source": [
    "The notebook is based on the Spell-checker project.\n",
    "\n",
    "Data can be found as on Project Gutenberg or as cleaned wikipedia dumps. The neural net will learn, to repeat, that which is found in \"./books\" folder. The file, or files, will need to have one sentence per line.\n",
    "\n",
    "To save time for multiple runs, file are saved in folder \"./data\" and weights of the neural network are saved and reused. Note that reusing only works for the same symbol set and neural net configuration. If you have varying symbols in different data sets (books), run all of them at the same time (put them all in the books folder), and use the offset variable to chew through all of the data piece by piece.\n",
    "\n",
    "Results:"
   ]
  },
  {
   "cell_type": "markdown",
   "metadata": {},
   "source": [
    "Different sizes of data (Kilo (1000) sentences)\n",
    "\n",
    "<table>\n",
    "<tr><td><td><td><td>Highest<td>scores<td>sentences (10-40)\n",
    "<tr><td>Size<td>batch<td>tr_acc<td>val_acc<td>test_acc<td>dropout<td>\n",
    "<tr><td>1000K<td>32<td>99.84<td>99.81<td>OOM**<td>0.1, 0.1, 0.1\n",
    "<tr><td>1000K<td>1024<td>OOM**<td><td><td>0.1, 0.1, 0.1\n",
    "<tr><td>800K<td>1024<td>99.91<td>99.79<td>OOM<td>0.1, 0.1, 0.1\n",
    "<tr><td>600K<td>1024<td>99.93<td>99.77<td>99.77<td>0.1, 0.1, 0.1\n",
    "<tr><td>400K<td>1024<td>99.90<td>99.71<td>99.72<td>0.1, 0.1, 0.1\n",
    "<tr><td>200K<td>1024<td>99.91*<td>99.53<td>99.54<td>0.1, 0.1, 0.1\n",
    "<tr>\n",
    "<tr><td><td>     <td>      <td>       <td>        <td>*manually stopped\n",
    "<tr><td><td>     <td>      <td>       <td>        <td>**Out Of Memory\n",
    "</table> \n",
    "    \n",
    "    \n",
    "Different batch sizes\n",
    "    \n",
    "<table>\n",
    "<tr><td><td><td><td>Highest<td>scores 100K sentences (10-40)<td>\n",
    "<tr><td>batch<td>tr_acc<td>val_acc<td>test_acc<td>regularizers\n",
    "<tr><td>2048<td>99.76<td>98.79<td>98.78<td>dropout 0.1, 0.1, 0.1\n",
    "<tr><td>2048<td><td>98.64<td>98.62<td>kernel, bias, activity(only 1 of each)\n",
    "<tr><td>1024<td>99.80<td>99.04<td>99.04<td>dropout 0.1, 0.1, 0.1\n",
    "<tr><td>512<td><td>99.01<td>99.00<td>kernel, bias, activity(only 1 of each)\n",
    "<tr><td>32<td>1.0000<td>99.31<td>99.31<td>kernel, bias, activity(only 1 of each)\n",
    "</table> "
   ]
  },
  {
   "cell_type": "markdown",
   "metadata": {},
   "source": [
    "## Load libraries"
   ]
  },
  {
   "cell_type": "code",
   "execution_count": 1,
   "metadata": {},
   "outputs": [
    {
     "name": "stderr",
     "output_type": "stream",
     "text": [
      "2022-01-23 15:55:09.825137: I tensorflow/stream_executor/platform/default/dso_loader.cc:53] Successfully opened dynamic library libcudart.so.11.0\n"
     ]
    }
   ],
   "source": [
    "import bz2\n",
    "from   collections                import namedtuple\n",
    "from   __future__                 import print_function\n",
    "import numpy                      as     np\n",
    "import os\n",
    "from   os                         import listdir\n",
    "from   os.path                    import isfile, join\n",
    "import pandas                     as     pd\n",
    "import matplotlib.pyplot          as     plt\n",
    "import re\n",
    "from   sklearn.model_selection    import train_test_split\n",
    "import tensorflow                 as     tf\n",
    "from   tensorflow                 import keras\n",
    "from   tensorflow.keras           import regularizers\n",
    "from   tensorflow.keras.callbacks import EarlyStopping\n",
    "from   tensorflow.keras.layers    import (Activation, Bidirectional, Concatenate, Dense, \n",
    "                                         Input, LSTM)\n",
    "from   tensorflow.keras.models    import Model\n",
    "from   tensorflow.python.client   import device_lib\n",
    "import time\n",
    "\n"
   ]
  },
  {
   "cell_type": "code",
   "execution_count": 2,
   "metadata": {},
   "outputs": [],
   "source": [
    "batch_size  = 1024      # Limited by GPU memory. Larger is much faster, but uses more memory. Smaller usually gives better scores.\n",
    "epochs      = 200     # Number of epochs to train for. Smaller data sets\n",
    "                      # needs more runs than larger data sets. 1 is only\n",
    "                      # useful for testing. Less is better, an overtrained model is useless.\n",
    "input_dim   = 60      # time steps, ie number of letters\n",
    "\n",
    "max_length  = 60       # was 92 # Limit the data we will use to train our model\n",
    "min_length  = 10       # min/max on sentence lengths\n",
    "units       = 64\n",
    "output_size = 10\n",
    "latent_dim  = 256       # Latent dimensionality of the encoding space.\n",
    "num_samples = 100000    # Number of samples to train on. Used with the offset variable you can chew through\n",
    "                        # large data sets, without using much memory.100000\n",
    "threshold   = 0.95      # introduce 5 % errors, i.e. about once for every 20 chars.\n",
    "\n",
    "path        = './books/' # Paths to subfolders\n",
    "path_data   = './data/'"
   ]
  },
  {
   "cell_type": "markdown",
   "metadata": {},
   "source": [
    "## Uncomment to check hardware. Please note that a GPU is needed if you want to run anything but the smallest datasets."
   ]
  },
  {
   "cell_type": "code",
   "execution_count": 3,
   "metadata": {},
   "outputs": [],
   "source": [
    "# uncomment if you have GPU problems\n",
    "#physical_devices = tf.config.experimental.list_physical_devices('GPU')\n",
    "#tf.config.experimental.set_memory_growth(physical_devices[0], enable=True)"
   ]
  },
  {
   "cell_type": "code",
   "execution_count": 4,
   "metadata": {},
   "outputs": [],
   "source": [
    "# uncomment to see what hardware you have\n",
    "#print(device_lib.list_local_devices())"
   ]
  },
  {
   "cell_type": "code",
   "execution_count": 5,
   "metadata": {},
   "outputs": [],
   "source": [
    "# For loading of books, encoding needs to be defined \n",
    "# for other os than linux.\n",
    "\n",
    "def load_book(path):\n",
    "    \"\"\"Load a book from its file\"\"\"\n",
    "    input_file = os.path.join(path)\n",
    "    with open(input_file, encoding='utf-8') as f:\n",
    "        book = f.read()\n",
    "    return book\n",
    "\n",
    "# For loading of precomputed data\n",
    "def load_data(file, path):\n",
    "    \"\"\"Load data from its file\"\"\"\n",
    "    loaded_data = []\n",
    "    input_file = os.path.join(path, file)\n",
    "    print (input_file)\n",
    "    # Load and decompress data from file\n",
    "    with bz2.open(\"./data/sentences.bz2\", \"rt\") as f:\n",
    "        loaded_data = f.read()\n",
    "    return loaded_data\n",
    "\n",
    "def load_vocab_input(file, path):\n",
    "    \"\"\"Load data from its file\"\"\"\n",
    "    input_characters = set()\n",
    "    input_file = os.path.join(path, file)\n",
    "    # Load and decompress data from file\n",
    "    with bz2.open(\"./data/vocab_input.bz2\", \"rt\") as f:\n",
    "        loaded_data = f.read()\n",
    "    for char in loaded_data:\n",
    "        input_characters.add(char)\n",
    "    return input_characters\n",
    "\n",
    "def load_vocab_target(file, path):\n",
    "    \"\"\"Load data from its file\"\"\"\n",
    "    target_characters = set()\n",
    "    input_file = os.path.join(path, file)\n",
    "    # Load and decompress data from file\n",
    "    with bz2.open(\"./data/vocab_target.bz2\", \"rt\") as f:\n",
    "        loaded_data = f.read()\n",
    "    for char in loaded_data:\n",
    "        target_characters.add(char)\n",
    "    return target_characters"
   ]
  },
  {
   "cell_type": "code",
   "execution_count": 6,
   "metadata": {},
   "outputs": [],
   "source": [
    "def make_trainingdata (inp_texts, targ_texts, text_offset, num_samples, \n",
    "                       max_encoder_seq_length, num_encoder_tokens, max_decoder_seq_length, num_decoder_tokens):\n",
    "    enc_input_data = np.zeros(\n",
    "        (num_samples, max_encoder_seq_length, num_encoder_tokens), dtype=\"float32\"\n",
    "    ) #len(input_texts)\n",
    "    dec_input_data = np.zeros(\n",
    "        (num_samples, max_decoder_seq_length, num_decoder_tokens), dtype=\"float32\"\n",
    "    ) # len(input_texts)\n",
    "    dec_target_data = np.zeros(\n",
    "        (num_samples, max_decoder_seq_length, num_decoder_tokens), dtype=\"float32\"\n",
    "    ) # len(input_texts)\n",
    "    \n",
    "    for i, (inp_text, targ_text) in enumerate(zip(inp_texts[0+text_offset:num_samples+text_offset], targ_texts[0+text_offset:num_samples+text_offset])):\n",
    "        for t, char in enumerate(inp_text):\n",
    "            enc_input_data[i, t, input_token_index[char]] = 1.0\n",
    "        enc_input_data[i, t + 1 :, input_token_index[\" \"]] = 1.0\n",
    "        for t, char in enumerate(targ_text):\n",
    "            # decoder_target_data is ahead of decoder_input_data by one timestep\n",
    "            dec_input_data[i, t, target_token_index[char]] = 1.0\n",
    "            if t > 0:\n",
    "                # decoder_target_data will be ahead by one timestep\n",
    "                # and will not include the start character.\n",
    "                dec_target_data[i, t - 1, target_token_index[char]] = 1.0\n",
    "        dec_input_data[i, t + 1 :, target_token_index[\" \"]] = 1.0\n",
    "        dec_target_data[i, t:, target_token_index[\" \"]] = 1.0\n",
    "    return enc_input_data, dec_input_data, dec_target_data"
   ]
  },
  {
   "cell_type": "code",
   "execution_count": 7,
   "metadata": {},
   "outputs": [
    {
     "name": "stdout",
     "output_type": "stream",
     "text": [
      "./data/sentences.bz2\n",
      "Loaded sentences.\n",
      "Loaded vocab_input.\n",
      "Loaded vocab_target.\n"
     ]
    }
   ],
   "source": [
    "# Global variables\n",
    "# Check if data files exists\n",
    "# Using try is a cheat. Properly done the code would check if flie exists.\n",
    "try:\n",
    "    loaded_data = load_data('sentences.bz2', path_data)\n",
    "    sentences_exist = True\n",
    "    print('Loaded sentences.')\n",
    "    sentences = []\n",
    "    for line in loaded_data.splitlines():\n",
    "        sentences.append(line)\n",
    "except:\n",
    "    sentences_exist = False\n",
    "    print('No sentences found to load. Going to load books.')\n",
    "    \n",
    "try:\n",
    "    vocab_input = load_vocab_input('vocab_input.bz2', path_data)\n",
    "    vocab_input_exists = True\n",
    "    print('Loaded vocab_input.')\n",
    "    vocab_target = load_vocab_target('vocab_target.bz2', path_data)\n",
    "    print('Loaded vocab_target.')\n",
    "    vocab_target_exists = True\n",
    "except:\n",
    "    vocab_target_exists = vocab_input_exists = False"
   ]
  },
  {
   "cell_type": "markdown",
   "metadata": {},
   "source": [
    "## Define file loading functions"
   ]
  },
  {
   "cell_type": "code",
   "execution_count": 8,
   "metadata": {},
   "outputs": [],
   "source": [
    "# Collect all of the book file names\n",
    "if sentences_exist == False:\n",
    "    book_files = [f for f in listdir(path) if isfile(join(path, f))]\n",
    "    book_files = book_files[0:]"
   ]
  },
  {
   "cell_type": "code",
   "execution_count": 9,
   "metadata": {},
   "outputs": [],
   "source": [
    "# Load the books using the file names\n",
    "if sentences_exist == False:\n",
    "    books = []\n",
    "    for book in book_files:\n",
    "        books.append(load_book(path+book))"
   ]
  },
  {
   "cell_type": "code",
   "execution_count": 10,
   "metadata": {},
   "outputs": [],
   "source": [
    "# Compare the number of words in each book \n",
    "if sentences_exist == False:\n",
    "    for i in range(len(books)):\n",
    "        print(\"There are {} words in {}.\".format(len(books[i].split()), book_files[i]))"
   ]
  },
  {
   "cell_type": "code",
   "execution_count": 11,
   "metadata": {},
   "outputs": [],
   "source": [
    "# Check to ensure the text looks alright\n",
    "if sentences_exist == False:\n",
    "    print(books[0][:500],\"/.../\")"
   ]
  },
  {
   "cell_type": "markdown",
   "metadata": {},
   "source": [
    "## Preparing the Data"
   ]
  },
  {
   "cell_type": "code",
   "execution_count": 12,
   "metadata": {},
   "outputs": [],
   "source": [
    "def clean_text(text):\n",
    "    '''Remove unwanted characters and extra spaces from the text'''\n",
    "    #text = re.sub(r'\\n', ' ', text) \n",
    "    text = re.sub(r'[{}@_*>()\\\\#%+=\\[\\]]','', text)\n",
    "    text = re.sub('a0','', text)\n",
    "    text = re.sub('\\'92t','\\'t', text)\n",
    "    text = re.sub('\\'92s','\\'s', text)\n",
    "    text = re.sub('\\'92m','\\'m', text)\n",
    "    text = re.sub('\\'92ll','\\'ll', text)\n",
    "    text = re.sub('\\'91','', text)\n",
    "    text = re.sub('\\'92','', text)\n",
    "    text = re.sub('\\'93','', text)\n",
    "    text = re.sub('\\'94','', text)\n",
    "    #text = re.sub('\\.','. ', text)\n",
    "    #text = re.sub('\\!','! ', text)\n",
    "    #text = re.sub('\\?','? ', text)\n",
    "    text = re.sub(' +',' ', text)\n",
    "    #text = [text.islower()]\n",
    "    return text"
   ]
  },
  {
   "cell_type": "code",
   "execution_count": 13,
   "metadata": {},
   "outputs": [],
   "source": [
    "# Clean the text of the books\n",
    "if sentences_exist == False:\n",
    "    clean_books = []\n",
    "    for book in books:\n",
    "        clean_books.append(clean_text(book))"
   ]
  },
  {
   "cell_type": "code",
   "execution_count": 14,
   "metadata": {},
   "outputs": [],
   "source": [
    "# Check to ensure the text has been cleaned properly\n",
    "if sentences_exist == False:\n",
    "    print(clean_books[0][:500],\"/.../\")"
   ]
  },
  {
   "cell_type": "code",
   "execution_count": 15,
   "metadata": {},
   "outputs": [],
   "source": [
    "# Split the text from the books into sentences.\n",
    "# Choose whether only lower case or not below.\n",
    "if sentences_exist == False:\n",
    "    sentences = []\n",
    "    save_sentences = \"\"\n",
    "    for book in clean_books:\n",
    "        for sentence in book.splitlines():\n",
    "            #sentence = sentence.lower() # lower case to halve the nr of symbols\n",
    "            sentences.append(sentence)\n",
    "            save_sentences += (sentence + '\\n')\n",
    "    print(\"There are {} sentences.\".format(len(sentences)))\n",
    "    # Write compressed data to file\n",
    "    with bz2.open(\"./data/sentences.bz2\", \"wt\") as bzip_file:\n",
    "        unused = bzip_file.write(save_sentences)\n",
    "        #unused = bzip_file.write(save_sentences.encode())     \n",
    "        # encoding=’utf8′, errors=’strict’\n",
    "    save_sentences = \"\""
   ]
  },
  {
   "cell_type": "code",
   "execution_count": 16,
   "metadata": {},
   "outputs": [
    {
     "name": "stdout",
     "output_type": "stream",
     "text": [
      "['I ändelser kan även u och o kvarstå.', 'Här säger man alltså skojin och sättjin.', 'Den har runt ansikte med runda ögon.', 'Kroppen är kort och kraftig.', 'Scottish fold är lugna och vänliga.']\n"
     ]
    }
   ],
   "source": [
    "# Check to ensure the text has been split correctly.\n",
    "print(sentences[:5])"
   ]
  },
  {
   "cell_type": "code",
   "execution_count": 17,
   "metadata": {},
   "outputs": [],
   "source": [
    "# Find the length of each sentence\n",
    "lengths = []\n",
    "for sentence in sentences:\n",
    "    lengths.append(len(sentence))\n",
    "lengths = pd.DataFrame(lengths, columns=[\"counts\"])"
   ]
  },
  {
   "cell_type": "code",
   "execution_count": 18,
   "metadata": {},
   "outputs": [
    {
     "data": {
      "text/html": [
       "<div>\n",
       "<style scoped>\n",
       "    .dataframe tbody tr th:only-of-type {\n",
       "        vertical-align: middle;\n",
       "    }\n",
       "\n",
       "    .dataframe tbody tr th {\n",
       "        vertical-align: top;\n",
       "    }\n",
       "\n",
       "    .dataframe thead th {\n",
       "        text-align: right;\n",
       "    }\n",
       "</style>\n",
       "<table border=\"1\" class=\"dataframe\">\n",
       "  <thead>\n",
       "    <tr style=\"text-align: right;\">\n",
       "      <th></th>\n",
       "      <th>counts</th>\n",
       "    </tr>\n",
       "  </thead>\n",
       "  <tbody>\n",
       "    <tr>\n",
       "      <th>count</th>\n",
       "      <td>2.228165e+06</td>\n",
       "    </tr>\n",
       "    <tr>\n",
       "      <th>mean</th>\n",
       "      <td>3.364417e+01</td>\n",
       "    </tr>\n",
       "    <tr>\n",
       "      <th>std</th>\n",
       "      <td>4.520924e+00</td>\n",
       "    </tr>\n",
       "    <tr>\n",
       "      <th>min</th>\n",
       "      <td>1.000000e+01</td>\n",
       "    </tr>\n",
       "    <tr>\n",
       "      <th>25%</th>\n",
       "      <td>3.000000e+01</td>\n",
       "    </tr>\n",
       "    <tr>\n",
       "      <th>50%</th>\n",
       "      <td>3.400000e+01</td>\n",
       "    </tr>\n",
       "    <tr>\n",
       "      <th>75%</th>\n",
       "      <td>3.800000e+01</td>\n",
       "    </tr>\n",
       "    <tr>\n",
       "      <th>max</th>\n",
       "      <td>4.000000e+01</td>\n",
       "    </tr>\n",
       "  </tbody>\n",
       "</table>\n",
       "</div>"
      ],
      "text/plain": [
       "             counts\n",
       "count  2.228165e+06\n",
       "mean   3.364417e+01\n",
       "std    4.520924e+00\n",
       "min    1.000000e+01\n",
       "25%    3.000000e+01\n",
       "50%    3.400000e+01\n",
       "75%    3.800000e+01\n",
       "max    4.000000e+01"
      ]
     },
     "execution_count": 18,
     "metadata": {},
     "output_type": "execute_result"
    }
   ],
   "source": [
    "lengths.describe()"
   ]
  },
  {
   "cell_type": "code",
   "execution_count": 19,
   "metadata": {},
   "outputs": [
    {
     "name": "stdout",
     "output_type": "stream",
     "text": [
      "We will use 2228165 sentences to train and test our model.\n"
     ]
    }
   ],
   "source": [
    "# Get the chosen length of sentences\n",
    "good_sentences = []\n",
    "\n",
    "for sentence in sentences:\n",
    "    if len(sentence) <= max_length and len(sentence) >= min_length:\n",
    "        good_sentences.append(sentence)\n",
    "\n",
    "# Find the length of each sentence\n",
    "lengths = []\n",
    "for sentence in good_sentences:\n",
    "    lengths.append(len(sentence))\n",
    "lengths = pd.DataFrame(lengths, columns=[\"counts\"])\n",
    "print(\"We will use {} sentences to train and test our model.\".format(len(good_sentences)))"
   ]
  },
  {
   "cell_type": "code",
   "execution_count": 20,
   "metadata": {},
   "outputs": [
    {
     "data": {
      "text/html": [
       "<div>\n",
       "<style scoped>\n",
       "    .dataframe tbody tr th:only-of-type {\n",
       "        vertical-align: middle;\n",
       "    }\n",
       "\n",
       "    .dataframe tbody tr th {\n",
       "        vertical-align: top;\n",
       "    }\n",
       "\n",
       "    .dataframe thead th {\n",
       "        text-align: right;\n",
       "    }\n",
       "</style>\n",
       "<table border=\"1\" class=\"dataframe\">\n",
       "  <thead>\n",
       "    <tr style=\"text-align: right;\">\n",
       "      <th></th>\n",
       "      <th>counts</th>\n",
       "    </tr>\n",
       "  </thead>\n",
       "  <tbody>\n",
       "    <tr>\n",
       "      <th>count</th>\n",
       "      <td>2.228165e+06</td>\n",
       "    </tr>\n",
       "    <tr>\n",
       "      <th>mean</th>\n",
       "      <td>3.364417e+01</td>\n",
       "    </tr>\n",
       "    <tr>\n",
       "      <th>std</th>\n",
       "      <td>4.520924e+00</td>\n",
       "    </tr>\n",
       "    <tr>\n",
       "      <th>min</th>\n",
       "      <td>1.000000e+01</td>\n",
       "    </tr>\n",
       "    <tr>\n",
       "      <th>25%</th>\n",
       "      <td>3.000000e+01</td>\n",
       "    </tr>\n",
       "    <tr>\n",
       "      <th>50%</th>\n",
       "      <td>3.400000e+01</td>\n",
       "    </tr>\n",
       "    <tr>\n",
       "      <th>75%</th>\n",
       "      <td>3.800000e+01</td>\n",
       "    </tr>\n",
       "    <tr>\n",
       "      <th>max</th>\n",
       "      <td>4.000000e+01</td>\n",
       "    </tr>\n",
       "  </tbody>\n",
       "</table>\n",
       "</div>"
      ],
      "text/plain": [
       "             counts\n",
       "count  2.228165e+06\n",
       "mean   3.364417e+01\n",
       "std    4.520924e+00\n",
       "min    1.000000e+01\n",
       "25%    3.000000e+01\n",
       "50%    3.400000e+01\n",
       "75%    3.800000e+01\n",
       "max    4.000000e+01"
      ]
     },
     "execution_count": 20,
     "metadata": {},
     "output_type": "execute_result"
    }
   ],
   "source": [
    "lengths.describe()"
   ]
  },
  {
   "cell_type": "code",
   "execution_count": 21,
   "metadata": {},
   "outputs": [
    {
     "name": "stdout",
     "output_type": "stream",
     "text": [
      "Number of training sentences: 2005348\n",
      "Number of testing sentences:  222817\n"
     ]
    }
   ],
   "source": [
    "# Split the data into training and testing sentences (testing is for\n",
    "# inferencing). There will be three data sets; training which is split\n",
    "# into training and validation during fit, and testing for inferencing.\n",
    "# Note that inferencing does not use the test set, as of yet.\n",
    "training, testing = train_test_split(good_sentences, test_size = 0.1, random_state = 2)\n",
    "\n",
    "print(\"Number of training sentences:\", len(training))\n",
    "print(\"Number of testing sentences: \", len(testing))"
   ]
  },
  {
   "cell_type": "code",
   "execution_count": 22,
   "metadata": {},
   "outputs": [],
   "source": [
    "letters = ['a','b','c','d','e','f','g','h','i','j','k','l','m','n','o',\n",
    "           'p','q','r','s','t','u','v','w','x','y','z','å','ä','ö',' ','.']\n",
    "\n",
    "# Note that caps and numbers are not introduced as errors, because the data does not contain them.\n",
    "#           'A','B','C','D','E','F','G','H','I','J','K','L','M','N','O','P',\n",
    "#           'Q','R','S','T','U','V','X','Y','Z','Å','Ä','Ö',\n",
    "\n",
    "def noise_maker(sentence, threshold):\n",
    "    '''Relocate, remove, or add characters to create spelling mistakes'''\n",
    "    noisy_sentence = \"\"\n",
    "    i = 0\n",
    "    while i < len(sentence):\n",
    "        random = np.random.uniform(0,1,1)\n",
    "        # Most characters will be correct since the threshold value is high\n",
    "        if random < threshold:\n",
    "            noisy_sentence+=sentence[i]\n",
    "        else:\n",
    "            new_random = np.random.uniform(0,1,1)\n",
    "            # ~20% chance characters will swap locations\n",
    "            if new_random > 0.8:\n",
    "                if i == (len(sentence) - 1):\n",
    "                    # If last character in sentence, it will not be typed\n",
    "                    continue\n",
    "                else:\n",
    "                    # if any other character, swap order with following character\n",
    "                    noisy_sentence+=sentence[i+1]\n",
    "                    noisy_sentence+=sentence[i]\n",
    "                    i += 1\n",
    "            # ~20% chance an extra letter will be added to the sentence\n",
    "            elif new_random > 0.60:\n",
    "                noisy_sentence+=sentence[i]\n",
    "                noisy_sentence+=sentence[i]\n",
    "                #random_letter = np.random.choice(letters, 1)[0]\n",
    "                #noisy_sentence.append(vocab_to_int[random_letter])\n",
    "            # ~40% chance a letter will be substituted for another\n",
    "            elif new_random > 0.20:\n",
    "                noisy_sentence+=sentence[i]\n",
    "                #random_letter = np.random.choice(letters, 1)[0]\n",
    "                #noisy_sentence.append(vocab_to_int[random_letter])\n",
    "            # 20% chance a character will not be typed\n",
    "            else:\n",
    "                pass     \n",
    "        i += 1\n",
    "    return noisy_sentence"
   ]
  },
  {
   "cell_type": "markdown",
   "metadata": {},
   "source": [
    "*Note: The noise_maker function is used to create spelling mistakes that are similar to those we would make. Sometimes we forget to type a letter, type a letter in the wrong location, or add an extra letter.*"
   ]
  },
  {
   "cell_type": "code",
   "execution_count": 23,
   "metadata": {},
   "outputs": [
    {
     "name": "stdout",
     "output_type": "stream",
     "text": [
      "Lac Gatelier är en sjö i Kanada.\n",
      "Lac Gtelier är en sj öi Kanada.\n",
      "\n",
      "Medelhavsklimat råder i trakten.\n",
      "Medelhavsklima råder i trakten.\n",
      "\n",
      "Falls Brook är ett vattendrag i Kanada.\n",
      "Falls Brok är ett vattendrag i Kanada.\n",
      "\n",
      "Orijärvi är en sjö i Finland.\n",
      "Orijärvi  är en sjö i Fnland.\n",
      "\n",
      "Tejgaon är en ort i Bangladesh.\n",
      "Tejgaon är en ort i Bangladesh.\n",
      "\n"
     ]
    }
   ],
   "source": [
    "# Check to ensure noise_maker is making mistakes correctly.\n",
    "\n",
    "for sentence in training[:5]:\n",
    "    print(sentence)\n",
    "    print(noise_maker(sentence, threshold))\n",
    "    print()"
   ]
  },
  {
   "cell_type": "markdown",
   "metadata": {
    "collapsed": true
   },
   "source": [
    "# the Model data"
   ]
  },
  {
   "cell_type": "markdown",
   "metadata": {},
   "source": [
    "## Initialize and save space"
   ]
  },
  {
   "cell_type": "code",
   "execution_count": 24,
   "metadata": {},
   "outputs": [],
   "source": [
    "input_texts = []\n",
    "target_texts = []\n",
    "\n",
    "if vocab_target_exists:\n",
    "    target_characters = vocab_target\n",
    "    target_characters = sorted(list(target_characters))\n",
    "else: \n",
    "    target_characters = set()\n",
    "\n",
    "if vocab_input_exists:\n",
    "    input_characters = vocab_input\n",
    "    input_characters = sorted(list(input_characters))\n",
    "else:\n",
    "    input_characters = set()\n",
    "\n",
    "lines = training\n",
    "training = []\n",
    "good_sentences = []\n",
    "sentences = []"
   ]
  },
  {
   "cell_type": "code",
   "execution_count": 25,
   "metadata": {},
   "outputs": [],
   "source": [
    "added_characters = False\n",
    "# offset for large datasets, if you want to run it piece by piece\n",
    "line_offset = 0\n",
    "\n",
    "for line in lines[line_offset: min((num_samples+line_offset), len(lines) - 1)]:\n",
    "    target_text = str (line)\n",
    "    input_text = noise_maker(line, threshold)\n",
    "    # We use \"tab\" as the \"start sequence\" character\n",
    "    # for the targets, and \"\\n\" as \"end sequence\" character.\n",
    "    target_text = \"\\t\" + target_text + \"\\n\"\n",
    "    input_texts.append(input_text)\n",
    "    target_texts.append(target_text)\n",
    "    \n",
    "    for char in input_text:\n",
    "        if char not in input_characters:\n",
    "            input_characters.add(char)\n",
    "            added_characters = True\n",
    "    for char in target_text:\n",
    "        if char not in target_characters:\n",
    "            target_characters.add(char)\n",
    "            added_characters = True"
   ]
  },
  {
   "cell_type": "code",
   "execution_count": 26,
   "metadata": {},
   "outputs": [],
   "source": [
    "# Make test texts\n",
    "test_x = []\n",
    "test_y = []\n",
    "\n",
    "# test texts, same vocab\n",
    "\n",
    "for line in testing: #[line_offset: min((num_samples+line_offset), len(training) - 1)]:\n",
    "    y = str (line)\n",
    "    x = noise_maker(line, threshold)\n",
    "    # We use \"tab\" as the \"start sequence\" character\n",
    "    # for the targets, and \"\\n\" as \"end sequence\" character.\n",
    "    y = \"\\t\" + y + \"\\n\"\n",
    "    test_x.append(x)\n",
    "    test_y.append(y)\n",
    "    for char in x:\n",
    "        if char not in input_characters:\n",
    "            input_characters.add(char)#append(char)#add(char)\n",
    "            added_characters = True\n",
    "    for char in y:\n",
    "        if char not in target_characters:\n",
    "            target_characters.add(char)#append(char)#add(char)\n",
    "            added_characters = True"
   ]
  },
  {
   "cell_type": "code",
   "execution_count": 27,
   "metadata": {},
   "outputs": [],
   "source": [
    "if not vocab_input_exists:\n",
    "    print('saving vocab')\n",
    "    input_characters = sorted(list(input_characters))\n",
    "    vocab_input=\"\"\n",
    "    for char in input_characters:\n",
    "        vocab_input += char\n",
    "    with bz2.open(\"./data/vocab_input.bz2\", \"wt\") as bzip_file:\n",
    "        unused = bzip_file.write(vocab_input)\n",
    "    added_characters = False\n",
    "\n",
    "if not vocab_target_exists:\n",
    "    print('saving vocab')\n",
    "    target_characters = sorted(list(target_characters))\n",
    "    vocab_target=\"\"\n",
    "    for char in target_characters:\n",
    "        vocab_target += char\n",
    "    with bz2.open(\"./data/vocab_target.bz2\", \"wt\") as bzip_file:\n",
    "        unused = bzip_file.write(vocab_target)\n",
    "    added_characters = False"
   ]
  },
  {
   "cell_type": "code",
   "execution_count": 28,
   "metadata": {},
   "outputs": [],
   "source": [
    "# Note that added characters (new characters in new datasets) are\n",
    "# save correctly, but read incorrectly and then sorted. This is a bug.\n",
    "# It is better to use a fixed vocabulary (list of symbols), that are \n",
    "# always guaranteed to remain in the same order, even when data \n",
    "# sets (texts/books), contain different characters/symbols.\n",
    "if added_characters:\n",
    "    vocab_input=\"\"\n",
    "    for char in input_characters:\n",
    "        vocab_input += char\n",
    "    with bz2.open(\"./data/vocab_input.bz2\", \"wt\") as bzip_file:\n",
    "        unused = bzip_file.write(vocab_input)\n",
    "    vocab_target=\"\"\n",
    "    for char in target_characters:\n",
    "        vocab_target += char\n",
    "    with bz2.open(\"./data/vocab_target.bz2\", \"wt\") as bzip_file:\n",
    "        unused = bzip_file.write(target_characters)"
   ]
  },
  {
   "cell_type": "code",
   "execution_count": 29,
   "metadata": {},
   "outputs": [
    {
     "name": "stdout",
     "output_type": "stream",
     "text": [
      "Number of samples: 2005348\n",
      "Number of unique input tokens: 62\n",
      "Number of unique output tokens: 64\n",
      "Max sequence length for inputs: 71\n",
      "Max sequence length for outputs: 73\n"
     ]
    }
   ],
   "source": [
    "num_encoder_tokens = len(input_characters)\n",
    "num_decoder_tokens = len(target_characters)\n",
    "max_encoder_seq_length = max_length + 11 # max([len(txt) for txt in clean_books])\n",
    "max_decoder_seq_length = max_encoder_seq_length + 2 # max([len(txt) for txt in target_texts])\n",
    "\n",
    "print(\"Number of samples:\", len(lines))\n",
    "print(\"Number of unique input tokens:\", num_encoder_tokens)\n",
    "print(\"Number of unique output tokens:\", num_decoder_tokens)\n",
    "print(\"Max sequence length for inputs:\", max_encoder_seq_length)\n",
    "print(\"Max sequence length for outputs:\", max_decoder_seq_length)"
   ]
  },
  {
   "cell_type": "code",
   "execution_count": 30,
   "metadata": {},
   "outputs": [
    {
     "name": "stdout",
     "output_type": "stream",
     "text": [
      "{' ': 0, '!': 1, '.': 2, '?': 3, 'A': 4, 'B': 5, 'C': 6, 'D': 7, 'E': 8, 'F': 9, 'G': 10, 'H': 11, 'I': 12, 'J': 13, 'K': 14, 'L': 15, 'M': 16, 'N': 17, 'O': 18, 'P': 19, 'Q': 20, 'R': 21, 'S': 22, 'T': 23, 'U': 24, 'V': 25, 'W': 26, 'X': 27, 'Y': 28, 'Z': 29, 'a': 30, 'b': 31, 'c': 32, 'd': 33, 'e': 34, 'f': 35, 'g': 36, 'h': 37, 'i': 38, 'j': 39, 'k': 40, 'l': 41, 'm': 42, 'n': 43, 'o': 44, 'p': 45, 'q': 46, 'r': 47, 's': 48, 't': 49, 'u': 50, 'v': 51, 'w': 52, 'x': 53, 'y': 54, 'z': 55, 'Ä': 56, 'Å': 57, 'Ö': 58, 'ä': 59, 'å': 60, 'ö': 61}\n",
      "{'\\t': 0, '\\n': 1, ' ': 2, '!': 3, '.': 4, '?': 5, 'A': 6, 'B': 7, 'C': 8, 'D': 9, 'E': 10, 'F': 11, 'G': 12, 'H': 13, 'I': 14, 'J': 15, 'K': 16, 'L': 17, 'M': 18, 'N': 19, 'O': 20, 'P': 21, 'Q': 22, 'R': 23, 'S': 24, 'T': 25, 'U': 26, 'V': 27, 'W': 28, 'X': 29, 'Y': 30, 'Z': 31, 'a': 32, 'b': 33, 'c': 34, 'd': 35, 'e': 36, 'f': 37, 'g': 38, 'h': 39, 'i': 40, 'j': 41, 'k': 42, 'l': 43, 'm': 44, 'n': 45, 'o': 46, 'p': 47, 'q': 48, 'r': 49, 's': 50, 't': 51, 'u': 52, 'v': 53, 'w': 54, 'x': 55, 'y': 56, 'z': 57, 'Ä': 58, 'Å': 59, 'Ö': 60, 'ä': 61, 'å': 62, 'ö': 63}\n"
     ]
    }
   ],
   "source": [
    "input_token_index = dict([(char, i) for i, char in enumerate(input_characters)])\n",
    "target_token_index = dict([(char, i) for i, char in enumerate(target_characters)])\n",
    "\n",
    "print(input_token_index)\n",
    "print(target_token_index)\n",
    "\n",
    "# One hot\n",
    "encoder_input_data = np.zeros(\n",
    "    (len(input_texts), max_encoder_seq_length, num_encoder_tokens), dtype=\"float32\"\n",
    ")\n",
    "decoder_input_data = np.zeros(\n",
    "    (len(input_texts), max_decoder_seq_length, num_decoder_tokens), dtype=\"float32\"\n",
    ")\n",
    "decoder_target_data = np.zeros(\n",
    "    (len(input_texts), max_decoder_seq_length, num_decoder_tokens), dtype=\"float32\"\n",
    ")"
   ]
  },
  {
   "cell_type": "code",
   "execution_count": 31,
   "metadata": {},
   "outputs": [],
   "source": [
    "# One hot\n",
    "for i, (input_text, target_text) in enumerate(zip(input_texts, target_texts)):\n",
    "    for t, char in enumerate(input_text):\n",
    "        encoder_input_data[i, t, input_token_index[char]] = 1.0\n",
    "    encoder_input_data[i, t + 1 :, input_token_index[\" \"]] = 1.0\n",
    "    for t, char in enumerate(target_text):\n",
    "        # decoder_target_data is ahead of decoder_input_data by one timestep\n",
    "        decoder_input_data[i, t, target_token_index[char]] = 1.0\n",
    "        if t > 0:\n",
    "            # decoder_target_data will be ahead by one timestep\n",
    "            # and will not include the start character.\n",
    "            decoder_target_data[i, t - 1, target_token_index[char]] = 1.0\n",
    "    decoder_input_data[i, t + 1 :, target_token_index[\" \"]] = 1.0\n",
    "    decoder_target_data[i, t:, target_token_index[\" \"]] = 1.0"
   ]
  },
  {
   "cell_type": "markdown",
   "metadata": {},
   "source": [
    "# Build the RNN model"
   ]
  },
  {
   "cell_type": "code",
   "execution_count": 44,
   "metadata": {},
   "outputs": [],
   "source": [
    "# Functional model \n",
    "# Define an input sequence and process it.\n",
    "encoder_inputs = Input(shape=(None, num_encoder_tokens))\n",
    "encoder_1 = Bidirectional(LSTM(latent_dim, return_sequences=True, \n",
    "                               dropout=0.1, \n",
    "                               #kernel_regularizer=regularizers.l1_l2(l1=1e-5, l2=1e-4), \n",
    "                               #bias_regularizer=regularizers.l2(1e-4), \n",
    "                               #activity_regularizer=regularizers.l2(1e-5)\n",
    "                               ))(encoder_inputs)\n",
    "encoder_2 = Bidirectional(LSTM(latent_dim, return_sequences=True, \n",
    "                               dropout=0.1, \n",
    "                               #kernel_regularizer=regularizers.l1_l2(l1=1e-5, l2=1e-4), \n",
    "                               #bias_regularizer=regularizers.l2(1e-4), \n",
    "                               #activity_regularizer=regularizers.l2(1e-5)\n",
    "                               ))(encoder_1)\n",
    "encoder_3 = Bidirectional(LSTM(latent_dim, return_state=True, \n",
    "                               dropout=0.1,\n",
    "                               #kernel_regularizer=regularizers.l1_l2(l1=1e-5, l2=1e-4), \n",
    "                               #bias_regularizer=regularizers.l2(1e-4),\n",
    "                               #activity_regularizer=regularizers.l2(1e-5)\n",
    "                               ))\n",
    "encoder_outputs, forward_h, forward_c, backward_h, backward_c  = encoder_3(encoder_2)\n",
    "state_h = Concatenate()([forward_h, backward_h]) #Average()([forward_h, backward_h])\n",
    "state_c = Concatenate()([forward_c, backward_c]) #Average()([forward_c, backward_c])\n",
    "\n",
    "# We discard `encoder_outputs` and only keep the states.\n",
    "encoder_states = [state_h, state_c]\n",
    "\n",
    "# Set up the decoder, using `encoder_states` as initial state.\n",
    "decoder_inputs = Input(shape=(None, num_decoder_tokens))\n",
    "\n",
    "# We set up our decoder to return full output sequences,\n",
    "# and to return internal states as well. We don't use the\n",
    "# return states in the training model, but we will use them in inference.\n",
    "decoder_lstm = LSTM(latent_dim*2, return_sequences=True, return_state=True)  # *2 because of concat on Bidirectional\n",
    "decoder_output, final_memory_state, final_carry_state  = decoder_lstm(decoder_inputs, initial_state=encoder_states)\n",
    "decoder_dense = Dense(num_decoder_tokens, activation=\"softmax\") \n",
    "decoder_outputs = decoder_dense(decoder_output)"
   ]
  },
  {
   "cell_type": "code",
   "execution_count": 33,
   "metadata": {},
   "outputs": [
    {
     "name": "stdout",
     "output_type": "stream",
     "text": [
      "Model: \"model\"\n",
      "__________________________________________________________________________________________________\n",
      "Layer (type)                    Output Shape         Param #     Connected to                     \n",
      "==================================================================================================\n",
      "input_1 (InputLayer)            [(None, None, 62)]   0                                            \n",
      "__________________________________________________________________________________________________\n",
      "bidirectional (Bidirectional)   (None, None, 512)    653312      input_1[0][0]                    \n",
      "__________________________________________________________________________________________________\n",
      "bidirectional_1 (Bidirectional) (None, None, 512)    1574912     bidirectional[0][0]              \n",
      "__________________________________________________________________________________________________\n",
      "bidirectional_2 (Bidirectional) [(None, 512), (None, 1574912     bidirectional_1[0][0]            \n",
      "__________________________________________________________________________________________________\n",
      "input_2 (InputLayer)            [(None, None, 64)]   0                                            \n",
      "__________________________________________________________________________________________________\n",
      "concatenate (Concatenate)       (None, 512)          0           bidirectional_2[0][1]            \n",
      "                                                                 bidirectional_2[0][3]            \n",
      "__________________________________________________________________________________________________\n",
      "concatenate_1 (Concatenate)     (None, 512)          0           bidirectional_2[0][2]            \n",
      "                                                                 bidirectional_2[0][4]            \n",
      "__________________________________________________________________________________________________\n",
      "lstm_3 (LSTM)                   [(None, None, 512),  1181696     input_2[0][0]                    \n",
      "                                                                 concatenate[0][0]                \n",
      "                                                                 concatenate_1[0][0]              \n",
      "__________________________________________________________________________________________________\n",
      "dense (Dense)                   (None, None, 64)     32832       lstm_3[0][0]                     \n",
      "==================================================================================================\n",
      "Total params: 5,017,664\n",
      "Trainable params: 5,017,664\n",
      "Non-trainable params: 0\n",
      "__________________________________________________________________________________________________\n"
     ]
    }
   ],
   "source": [
    "model = Model([encoder_inputs, decoder_inputs], decoder_outputs)\n",
    "model.summary()"
   ]
  },
  {
   "cell_type": "code",
   "execution_count": 34,
   "metadata": {},
   "outputs": [
    {
     "data": {
      "image/png": "[encoded data removed]",
      "text/plain": [
       "<IPython.core.display.Image object>"
      ]
     },
     "execution_count": 34,
     "metadata": {},
     "output_type": "execute_result"
    }
   ],
   "source": [
    "# Let us see the model in graphical form\n",
    "tf.keras.utils.plot_model(model, show_shapes=True, show_layer_names=True)"
   ]
  },
  {
   "cell_type": "markdown",
   "metadata": {
    "collapsed": true
   },
   "source": [
    "## Training the Model"
   ]
  },
  {
   "cell_type": "code",
   "execution_count": 35,
   "metadata": {},
   "outputs": [],
   "source": [
    "model.compile(\n",
    "    optimizer=\"rmsprop\", loss=\"categorical_crossentropy\", metrics=['accuracy']) \n",
    "# Alternatives: rmsprop, Adam (bad), Nadam (not good on multilayer)"
   ]
  },
  {
   "cell_type": "code",
   "execution_count": 36,
   "metadata": {},
   "outputs": [],
   "source": [
    "callback_stopping = tf.keras.callbacks.EarlyStopping(monitor='val_accuracy', patience=10, restore_best_weights=True)\n",
    "lr_scheduler = keras.callbacks.ReduceLROnPlateau(factor=0.4, patience=5)"
   ]
  },
  {
   "cell_type": "code",
   "execution_count": 37,
   "metadata": {},
   "outputs": [],
   "source": [
    "# Do not run this line if no weights are saved!\n",
    "#status = model.load_weights('weights') "
   ]
  },
  {
   "cell_type": "code",
   "execution_count": 38,
   "metadata": {
    "scrolled": true
   },
   "outputs": [
    {
     "name": "stderr",
     "output_type": "stream",
     "text": [
      "2022-01-23 15:56:21.235473: I tensorflow/compiler/mlir/mlir_graph_optimization_pass.cc:176] None of the MLIR Optimization Passes are enabled (registered 2)\n",
      "2022-01-23 15:56:21.254380: I tensorflow/core/platform/profile_utils/cpu_utils.cc:114] CPU Frequency: 2999675000 Hz\n"
     ]
    },
    {
     "name": "stdout",
     "output_type": "stream",
     "text": [
      "Epoch 1/500\n"
     ]
    },
    {
     "name": "stderr",
     "output_type": "stream",
     "text": [
      "2022-01-23 15:56:27.199511: I tensorflow/stream_executor/platform/default/dso_loader.cc:53] Successfully opened dynamic library libcudnn.so.8\n",
      "2022-01-23 15:56:27.650729: I tensorflow/stream_executor/cuda/cuda_dnn.cc:359] Loaded cuDNN version 8100\n",
      "2022-01-23 15:56:27.890869: I tensorflow/stream_executor/platform/default/dso_loader.cc:53] Successfully opened dynamic library libcublas.so.11\n",
      "2022-01-23 15:56:28.437647: I tensorflow/stream_executor/platform/default/dso_loader.cc:53] Successfully opened dynamic library libcublasLt.so.11\n",
      "2022-01-23 15:56:28.437718: I tensorflow/stream_executor/cuda/cuda_blas.cc:1838] TensorFloat-32 will be used for the matrix multiplication. This will only be logged once.\n"
     ]
    },
    {
     "name": "stdout",
     "output_type": "stream",
     "text": [
      "79/79 [==============================] - 22s 183ms/step - loss: 1.7295 - accuracy: 0.5756 - val_loss: 1.4013 - val_accuracy: 0.6184\n",
      "Epoch 2/500\n",
      "79/79 [==============================] - 14s 172ms/step - loss: 1.2179 - accuracy: 0.6724 - val_loss: 1.0194 - val_accuracy: 0.7275\n",
      "Epoch 3/500\n",
      "79/79 [==============================] - 13s 166ms/step - loss: 0.9052 - accuracy: 0.7607 - val_loss: 0.7654 - val_accuracy: 0.8020\n",
      "Epoch 4/500\n",
      "79/79 [==============================] - 13s 169ms/step - loss: 0.6985 - accuracy: 0.8181 - val_loss: 0.6143 - val_accuracy: 0.8425\n",
      "Epoch 5/500\n",
      "79/79 [==============================] - 13s 162ms/step - loss: 0.5652 - accuracy: 0.8538 - val_loss: 0.4961 - val_accuracy: 0.8703\n",
      "Epoch 6/500\n",
      "79/79 [==============================] - 14s 172ms/step - loss: 0.4804 - accuracy: 0.8732 - val_loss: 0.4610 - val_accuracy: 0.8787\n",
      "Epoch 7/500\n",
      "79/79 [==============================] - 13s 163ms/step - loss: 0.4259 - accuracy: 0.8853 - val_loss: 0.4055 - val_accuracy: 0.8900\n",
      "Epoch 8/500\n",
      "79/79 [==============================] - 13s 162ms/step - loss: 0.3828 - accuracy: 0.8953 - val_loss: 0.3847 - val_accuracy: 0.8934\n",
      "Epoch 9/500\n",
      "79/79 [==============================] - 13s 169ms/step - loss: 0.3510 - accuracy: 0.9029 - val_loss: 0.3468 - val_accuracy: 0.9044\n",
      "Epoch 10/500\n",
      "79/79 [==============================] - 13s 167ms/step - loss: 0.3242 - accuracy: 0.9094 - val_loss: 0.3220 - val_accuracy: 0.9107\n",
      "Epoch 11/500\n",
      "79/79 [==============================] - 13s 165ms/step - loss: 0.3010 - accuracy: 0.9156 - val_loss: 0.2975 - val_accuracy: 0.9165\n",
      "Epoch 12/500\n",
      "79/79 [==============================] - 13s 163ms/step - loss: 0.2805 - accuracy: 0.9210 - val_loss: 0.2743 - val_accuracy: 0.9233\n",
      "Epoch 13/500\n",
      "79/79 [==============================] - 13s 169ms/step - loss: 0.2616 - accuracy: 0.9261 - val_loss: 0.2578 - val_accuracy: 0.9276\n",
      "Epoch 14/500\n",
      "79/79 [==============================] - 13s 167ms/step - loss: 0.2435 - accuracy: 0.9310 - val_loss: 0.2389 - val_accuracy: 0.9321\n",
      "Epoch 15/500\n",
      "79/79 [==============================] - 13s 163ms/step - loss: 0.2261 - accuracy: 0.9358 - val_loss: 0.2251 - val_accuracy: 0.9354\n",
      "Epoch 16/500\n",
      "79/79 [==============================] - 13s 168ms/step - loss: 0.2090 - accuracy: 0.9407 - val_loss: 0.2043 - val_accuracy: 0.9424\n",
      "Epoch 17/500\n",
      "79/79 [==============================] - 13s 169ms/step - loss: 0.1916 - accuracy: 0.9456 - val_loss: 0.1855 - val_accuracy: 0.9469\n",
      "Epoch 18/500\n",
      "79/79 [==============================] - 13s 166ms/step - loss: 0.1760 - accuracy: 0.9499 - val_loss: 0.1750 - val_accuracy: 0.9497\n",
      "Epoch 19/500\n",
      "79/79 [==============================] - 13s 165ms/step - loss: 0.1613 - accuracy: 0.9538 - val_loss: 0.1607 - val_accuracy: 0.9536\n",
      "Epoch 20/500\n",
      "79/79 [==============================] - 13s 165ms/step - loss: 0.1481 - accuracy: 0.9575 - val_loss: 0.1456 - val_accuracy: 0.9580\n",
      "Epoch 21/500\n",
      "79/79 [==============================] - 13s 165ms/step - loss: 0.1354 - accuracy: 0.9610 - val_loss: 0.1295 - val_accuracy: 0.9623\n",
      "Epoch 22/500\n",
      "79/79 [==============================] - 13s 167ms/step - loss: 0.1231 - accuracy: 0.9645 - val_loss: 0.1201 - val_accuracy: 0.9652\n",
      "Epoch 23/500\n",
      "79/79 [==============================] - 13s 167ms/step - loss: 0.1125 - accuracy: 0.9675 - val_loss: 0.1082 - val_accuracy: 0.9686\n",
      "Epoch 24/500\n",
      "79/79 [==============================] - 13s 168ms/step - loss: 0.1026 - accuracy: 0.9702 - val_loss: 0.1083 - val_accuracy: 0.9684\n",
      "Epoch 25/500\n",
      "79/79 [==============================] - 13s 168ms/step - loss: 0.0947 - accuracy: 0.9725 - val_loss: 0.0932 - val_accuracy: 0.9729\n",
      "Epoch 26/500\n",
      "79/79 [==============================] - 13s 165ms/step - loss: 0.0868 - accuracy: 0.9746 - val_loss: 0.0906 - val_accuracy: 0.9737\n",
      "Epoch 27/500\n",
      "79/79 [==============================] - 13s 169ms/step - loss: 0.0804 - accuracy: 0.9765 - val_loss: 0.0846 - val_accuracy: 0.9751\n",
      "Epoch 28/500\n",
      "79/79 [==============================] - 13s 169ms/step - loss: 0.0747 - accuracy: 0.9781 - val_loss: 0.0852 - val_accuracy: 0.9752\n",
      "Epoch 29/500\n",
      "79/79 [==============================] - 13s 166ms/step - loss: 0.0702 - accuracy: 0.9796 - val_loss: 0.0737 - val_accuracy: 0.9787\n",
      "Epoch 30/500\n",
      "79/79 [==============================] - 13s 166ms/step - loss: 0.0658 - accuracy: 0.9806 - val_loss: 0.0747 - val_accuracy: 0.9779\n",
      "Epoch 31/500\n",
      "79/79 [==============================] - 13s 166ms/step - loss: 0.0611 - accuracy: 0.9820 - val_loss: 0.0761 - val_accuracy: 0.9780\n",
      "Epoch 32/500\n",
      "79/79 [==============================] - 13s 164ms/step - loss: 0.0575 - accuracy: 0.9830 - val_loss: 0.0679 - val_accuracy: 0.9797\n",
      "Epoch 33/500\n",
      "79/79 [==============================] - 13s 168ms/step - loss: 0.0540 - accuracy: 0.9841 - val_loss: 0.0635 - val_accuracy: 0.9814\n",
      "Epoch 34/500\n",
      "79/79 [==============================] - 13s 168ms/step - loss: 0.0506 - accuracy: 0.9850 - val_loss: 0.0668 - val_accuracy: 0.9802\n",
      "Epoch 35/500\n",
      "79/79 [==============================] - 13s 167ms/step - loss: 0.0477 - accuracy: 0.9860 - val_loss: 0.0589 - val_accuracy: 0.9829\n",
      "Epoch 36/500\n",
      "79/79 [==============================] - 13s 167ms/step - loss: 0.0450 - accuracy: 0.9868 - val_loss: 0.0630 - val_accuracy: 0.9813\n",
      "Epoch 37/500\n",
      "79/79 [==============================] - 13s 165ms/step - loss: 0.0428 - accuracy: 0.9874 - val_loss: 0.0530 - val_accuracy: 0.9843\n",
      "Epoch 38/500\n",
      "79/79 [==============================] - 13s 165ms/step - loss: 0.0402 - accuracy: 0.9881 - val_loss: 0.0510 - val_accuracy: 0.9852\n",
      "Epoch 39/500\n",
      "79/79 [==============================] - 13s 166ms/step - loss: 0.0381 - accuracy: 0.9888 - val_loss: 0.0547 - val_accuracy: 0.9845\n",
      "Epoch 40/500\n",
      "79/79 [==============================] - 13s 165ms/step - loss: 0.0362 - accuracy: 0.9893 - val_loss: 0.0508 - val_accuracy: 0.9853\n",
      "Epoch 41/500\n",
      "79/79 [==============================] - 13s 169ms/step - loss: 0.0411 - accuracy: 0.9879 - val_loss: 0.0438 - val_accuracy: 0.9874\n",
      "Epoch 42/500\n",
      "79/79 [==============================] - 13s 167ms/step - loss: 0.0287 - accuracy: 0.9918 - val_loss: 0.0573 - val_accuracy: 0.9834\n",
      "Epoch 43/500\n",
      "79/79 [==============================] - 13s 165ms/step - loss: 0.0312 - accuracy: 0.9908 - val_loss: 0.0576 - val_accuracy: 0.9835\n",
      "Epoch 44/500\n",
      "79/79 [==============================] - 13s 167ms/step - loss: 0.0298 - accuracy: 0.9913 - val_loss: 0.0523 - val_accuracy: 0.9850\n",
      "Epoch 45/500\n",
      "79/79 [==============================] - 13s 166ms/step - loss: 0.0286 - accuracy: 0.9916 - val_loss: 0.0491 - val_accuracy: 0.9860\n",
      "Epoch 46/500\n",
      "79/79 [==============================] - 13s 166ms/step - loss: 0.0268 - accuracy: 0.9922 - val_loss: 0.0491 - val_accuracy: 0.9862\n",
      "Epoch 47/500\n",
      "79/79 [==============================] - 13s 166ms/step - loss: 0.0194 - accuracy: 0.9947 - val_loss: 0.0393 - val_accuracy: 0.9889\n",
      "Epoch 48/500\n",
      "79/79 [==============================] - 13s 165ms/step - loss: 0.0176 - accuracy: 0.9953 - val_loss: 0.0397 - val_accuracy: 0.9889\n",
      "Epoch 49/500\n",
      "79/79 [==============================] - 13s 166ms/step - loss: 0.0167 - accuracy: 0.9956 - val_loss: 0.0388 - val_accuracy: 0.9892\n",
      "Epoch 50/500\n",
      "79/79 [==============================] - 13s 165ms/step - loss: 0.0159 - accuracy: 0.9958 - val_loss: 0.0388 - val_accuracy: 0.9893\n",
      "Epoch 51/500\n",
      "79/79 [==============================] - 13s 165ms/step - loss: 0.0152 - accuracy: 0.9960 - val_loss: 0.0391 - val_accuracy: 0.9893\n",
      "Epoch 52/500\n",
      "79/79 [==============================] - 13s 171ms/step - loss: 0.0147 - accuracy: 0.9962 - val_loss: 0.0392 - val_accuracy: 0.9893\n",
      "Epoch 53/500\n",
      "79/79 [==============================] - 13s 168ms/step - loss: 0.0142 - accuracy: 0.9963 - val_loss: 0.0395 - val_accuracy: 0.9893\n",
      "Epoch 54/500\n",
      "79/79 [==============================] - 13s 166ms/step - loss: 0.0137 - accuracy: 0.9964 - val_loss: 0.0388 - val_accuracy: 0.9895\n",
      "Epoch 55/500\n",
      "79/79 [==============================] - 13s 166ms/step - loss: 0.0121 - accuracy: 0.9971 - val_loss: 0.0367 - val_accuracy: 0.9902\n",
      "Epoch 56/500\n",
      "79/79 [==============================] - 13s 166ms/step - loss: 0.0117 - accuracy: 0.9972 - val_loss: 0.0366 - val_accuracy: 0.9902\n",
      "Epoch 57/500\n"
     ]
    },
    {
     "name": "stdout",
     "output_type": "stream",
     "text": [
      "79/79 [==============================] - 13s 167ms/step - loss: 0.0111 - accuracy: 0.9974 - val_loss: 0.0367 - val_accuracy: 0.9902\n",
      "Epoch 58/500\n",
      "79/79 [==============================] - 13s 170ms/step - loss: 0.0110 - accuracy: 0.9974 - val_loss: 0.0368 - val_accuracy: 0.9903\n",
      "Epoch 59/500\n",
      "79/79 [==============================] - 13s 167ms/step - loss: 0.0109 - accuracy: 0.9975 - val_loss: 0.0371 - val_accuracy: 0.9902\n",
      "Epoch 60/500\n",
      "79/79 [==============================] - 13s 166ms/step - loss: 0.0105 - accuracy: 0.9975 - val_loss: 0.0371 - val_accuracy: 0.9901\n",
      "Epoch 61/500\n",
      "79/79 [==============================] - 13s 167ms/step - loss: 0.0102 - accuracy: 0.9977 - val_loss: 0.0363 - val_accuracy: 0.9904\n",
      "Epoch 62/500\n",
      "79/79 [==============================] - 13s 165ms/step - loss: 0.0099 - accuracy: 0.9978 - val_loss: 0.0366 - val_accuracy: 0.9904\n",
      "Epoch 63/500\n",
      "79/79 [==============================] - 13s 165ms/step - loss: 0.0099 - accuracy: 0.9978 - val_loss: 0.0367 - val_accuracy: 0.9904\n",
      "Epoch 64/500\n",
      "79/79 [==============================] - 13s 165ms/step - loss: 0.0097 - accuracy: 0.9978 - val_loss: 0.0366 - val_accuracy: 0.9904\n",
      "Epoch 65/500\n",
      "79/79 [==============================] - 13s 170ms/step - loss: 0.0096 - accuracy: 0.9979 - val_loss: 0.0366 - val_accuracy: 0.9904\n",
      "Epoch 66/500\n",
      "79/79 [==============================] - 13s 166ms/step - loss: 0.0094 - accuracy: 0.9979 - val_loss: 0.0367 - val_accuracy: 0.9904\n",
      "Epoch 67/500\n",
      "79/79 [==============================] - 13s 169ms/step - loss: 0.0094 - accuracy: 0.9979 - val_loss: 0.0366 - val_accuracy: 0.9904\n",
      "Epoch 68/500\n",
      "79/79 [==============================] - 13s 168ms/step - loss: 0.0093 - accuracy: 0.9979 - val_loss: 0.0367 - val_accuracy: 0.9904\n",
      "Epoch 69/500\n",
      "79/79 [==============================] - 13s 166ms/step - loss: 0.0092 - accuracy: 0.9980 - val_loss: 0.0367 - val_accuracy: 0.9904\n",
      "Epoch 70/500\n",
      "79/79 [==============================] - 13s 166ms/step - loss: 0.0091 - accuracy: 0.9980 - val_loss: 0.0366 - val_accuracy: 0.9904\n",
      "Epoch 71/500\n",
      "79/79 [==============================] - 13s 166ms/step - loss: 0.0093 - accuracy: 0.9980 - val_loss: 0.0365 - val_accuracy: 0.9904\n"
     ]
    }
   ],
   "source": [
    "history = model.fit(\n",
    "    [encoder_input_data, decoder_input_data],\n",
    "    decoder_target_data,\n",
    "    batch_size=batch_size,\n",
    "    epochs=epochs,\n",
    "    callbacks=[callback_stopping, lr_scheduler],\n",
    "    validation_split=0.2)"
   ]
  },
  {
   "cell_type": "code",
   "execution_count": 39,
   "metadata": {},
   "outputs": [],
   "source": [
    "# Save weights\n",
    "model.save_weights('weights')"
   ]
  },
  {
   "cell_type": "code",
   "execution_count": 40,
   "metadata": {},
   "outputs": [
    {
     "name": "stdout",
     "output_type": "stream",
     "text": [
      "All scores\n"
     ]
    },
    {
     "data": {
      "image/png": "[encoded data removed]",
      "text/plain": [
       "<Figure size 576x360 with 1 Axes>"
      ]
     },
     "metadata": {
      "needs_background": "light"
     },
     "output_type": "display_data"
    },
    {
     "name": "stdout",
     "output_type": "stream",
     "text": [
      "Only accuracy scores\n"
     ]
    },
    {
     "data": {
      "image/png": "[encoded data removed]",
      "text/plain": [
       "<Figure size 432x288 with 1 Axes>"
      ]
     },
     "metadata": {
      "needs_background": "light"
     },
     "output_type": "display_data"
    },
    {
     "name": "stdout",
     "output_type": "stream",
     "text": [
      "Only loss scores\n"
     ]
    },
    {
     "data": {
      "image/png": "[encoded data removed]",
      "text/plain": [
       "<Figure size 432x288 with 1 Axes>"
      ]
     },
     "metadata": {
      "needs_background": "light"
     },
     "output_type": "display_data"
    },
    {
     "name": "stdout",
     "output_type": "stream",
     "text": [
      "Learning rate\n"
     ]
    },
    {
     "data": {
      "image/png": "[encoded data removed]",
      "text/plain": [
       "<Figure size 432x288 with 1 Axes>"
      ]
     },
     "metadata": {
      "needs_background": "light"
     },
     "output_type": "display_data"
    }
   ],
   "source": [
    "# Evaluate model\n",
    "print(\"All scores\")\n",
    "pd.DataFrame(history.history).plot(figsize=(8,5))\n",
    "plt.show()\n",
    "\n",
    "print(\"Only accuracy scores\")\n",
    "plt.plot(history.history['accuracy'], label='accuracy')\n",
    "plt.plot(history.history['val_accuracy'], label = 'val_accuracy')\n",
    "plt.show()\n",
    "\n",
    "print(\"Only loss scores\")\n",
    "plt.plot(history.history['loss'], label='loss')\n",
    "plt.plot(history.history['val_loss'], label = 'val_los')\n",
    "plt.show()\n",
    "\n",
    "print(\"Learning rate\")\n",
    "plt.plot(history.history['lr'], label='learning_rate')\n",
    "plt.show()"
   ]
  },
  {
   "cell_type": "code",
   "execution_count": 41,
   "metadata": {},
   "outputs": [
    {
     "name": "stdout",
     "output_type": "stream",
     "text": [
      "6963/6963 [==============================] - 132s 19ms/step - loss: 0.0362 - accuracy: 0.9904\n",
      "Test loss: 0.03622233122587204\n",
      "Test accuracy: 0.9903622269630432\n"
     ]
    }
   ],
   "source": [
    "x_test1, x_test2, y_test = make_trainingdata(test_x, \n",
    "                           test_y, 0, len(test_x)-1,\n",
    "                           max_encoder_seq_length, num_encoder_tokens, max_decoder_seq_length, num_decoder_tokens) \n",
    "\n",
    "score = model.evaluate([x_test1, x_test2], y_test)\n",
    "\n",
    "print('Test loss: {}'.format(score[0]))\n",
    "print('Test accuracy: {}'.format(score[1]))"
   ]
  },
  {
   "cell_type": "markdown",
   "metadata": {
    "collapsed": true
   },
   "source": [
    "## Fixing Custom Sentences"
   ]
  },
  {
   "cell_type": "code",
   "execution_count": 42,
   "metadata": {},
   "outputs": [
    {
     "name": "stdout",
     "output_type": "stream",
     "text": [
      "From training set:\n",
      "-\n",
      "Input   sentence: Lac Gatelier är en sjö i Kanada.\n",
      "Decoded sentence: Lac Gatelier är en sjö i Kanada.\n",
      "\n",
      "-\n",
      "Input   sentence: Medelhavsklimat råder i trakten.\n",
      "Decoded sentence: Medelhavsklimat råder i trakten.\n",
      "\n",
      "-\n",
      "Input   sentence: Falls Brook är ett vattendrag i Kanada.\n",
      "Decoded sentence: Falls Brook är ett vattendrag i Kanada.\n",
      "\n",
      "-\n",
      "Input   sentence: Orijärvi är en sjö i Finland.\n",
      "Decoded sentence: Orijärvi är en sjö i Finland.\n",
      "\n",
      "-\n",
      "Input   sentence: Tejgaon är en ort i Bangladesh.\n",
      "Decoded sentence: Tejgaon är en ort i Bangladesh.\n",
      "\n",
      "-\n",
      "Input   sentence: Medelhavsklimat råder i trakten.\n",
      "Decoded sentence: Medelhavsklimat råder i trakten.\n",
      "\n",
      "-\n",
      "Input   sentence: Inga underarter fins listade.\n",
      "Decoded sentence: Inga underarter finns listade.\n",
      "\n",
      "-\n",
      "Input   sentence: Mahli Mnor är en kanali Indien.\n",
      "Decoded sentence: Mahli Minor är en kanal i Indien.\n",
      "\n",
      "-\n",
      "Input   sentence: I trakten råder ett hett ökenkilmat.\n",
      "Decoded sentence: I trakten råder ett hett ökenklimat.\n",
      "\n",
      "-\n",
      "Input   sentence: Cerro Blanco är ett brgg i Chile.\n",
      "Decoded sentence: Cerro Blanco är ett berg i Chile.\n",
      "\n",
      "-\n",
      "Input   sentence: Terrängen runt Kuala Geukueh är platt.\n",
      "Decoded sentence: Terrängen runt Kuala Geukueh är platt.\n",
      "\n",
      "-\n",
      "Input   sentence: Jonga är et berrg i Angola.\n",
      "Decoded sentence: Jonga är ett berg i Angola.\n",
      "\n",
      "-\n",
      "Input   sentence: Trakten ingår i den boreala klimaatzonen.\n",
      "Decoded sentence: Trakten ingår i den boreala klimatzonen.\n",
      "\n",
      "-\n",
      "Input   sentence: Savannklimat råder i trakten.\n",
      "Decoded sentence: Savannklimat råder i trakten.\n",
      "\n",
      "-\n",
      "Input   sentence: Trithemis groutii är en ttrollsländeart.\n",
      "Decoded sentence: Trithemis grouti är en trollsländeart.\n",
      "\n",
      "-\n",
      "Input   sentence: Savannklimat råder i trakten.\n",
      "Decoded sentence: Savannklimat råder i trakten.\n",
      "\n",
      "-\n",
      "Input   sentence: Det finns inga samhhällen i närheten.\n",
      "Decoded sentence: Det finns inga samhällen i närheten.\n",
      "\n",
      "-\n",
      "Input   sentence: Cooloola ingår i familjen Cooloolidae.\n",
      "Decoded sentence: Cooloola ingår i familjen Cooloolidae.\n",
      "\n",
      "-\n",
      "Input   sentence: Sjungen på franska.\n",
      "Decoded sentence: Sjungen på franska.\n",
      "\n",
      "-\n",
      "Input   sentence: Devadurga är en ort i Indien.\n",
      "Decoded sentence: Devadurga är en ort i Indien.\n",
      "\n"
     ]
    }
   ],
   "source": [
    "# Next: inference mode (sampling).\n",
    "# Here's the drill:\n",
    "# 1) encode input and retrieve initial decoder state\n",
    "# 2) run one step of decoder with this initial state\n",
    "# and a \"start of sequence\" token as target.\n",
    "# Output will be the next target token\n",
    "# 3) Repeat with the current target token and current states\n",
    "\n",
    "# Define sampling models\n",
    "encoder_model = Model(encoder_inputs, encoder_states)\n",
    "\n",
    "decoder_state_input_h = Input(shape=(latent_dim*2,)) # *2 because of concat on Bidirectional\n",
    "decoder_state_input_c = Input(shape=(latent_dim*2,)) # *2 because of concat on Bidirectional\n",
    "decoder_states_inputs = [decoder_state_input_h, decoder_state_input_c]\n",
    "decoder_output, state_h, state_c = decoder_lstm(\n",
    "    decoder_inputs, initial_state=decoder_states_inputs)\n",
    "decoder_states = [state_h, state_c]\n",
    "decoder_outputs = decoder_dense(decoder_output)\n",
    "decoder_model = Model(\n",
    "    [decoder_inputs] + decoder_states_inputs,\n",
    "    [decoder_outputs] + decoder_states)\n",
    "\n",
    "# Reverse-lookup token index to decode sequences back to\n",
    "# something readable.\n",
    "reverse_input_char_index = dict(\n",
    "    (i, char) for char, i in input_token_index.items())\n",
    "reverse_target_char_index = dict(\n",
    "    (i, char) for char, i in target_token_index.items())\n",
    "\n",
    "\n",
    "def decode_sequence(input_seq):\n",
    "    # Encode the input as state vectors.\n",
    "    states_value = encoder_model.predict(input_seq)\n",
    "\n",
    "    # Generate empty target sequence of length 1.\n",
    "    target_seq = np.zeros((1, 1, num_decoder_tokens))\n",
    "    # Populate the first character of target sequence with the start character.\n",
    "    target_seq[0, 0, target_token_index['\\t']] = 1.\n",
    "\n",
    "    # Sampling loop for a batch of sequences\n",
    "    # (to simplify, here we assume a batch of size 1).\n",
    "    stop_condition = False\n",
    "    decoded_sentence = ''\n",
    "    while not stop_condition:\n",
    "        output_tokens, h, c = decoder_model.predict(\n",
    "            [target_seq] + states_value)\n",
    "\n",
    "        # Sample a token\n",
    "        sampled_token_index = np.argmax(output_tokens[0, -1, :])\n",
    "        sampled_char = reverse_target_char_index[sampled_token_index]\n",
    "        decoded_sentence += sampled_char\n",
    "\n",
    "        # Exit condition: either hit max length\n",
    "        # or find stop character.\n",
    "        if (sampled_char == '\\n' or\n",
    "           len(decoded_sentence) > max_decoder_seq_length):\n",
    "            stop_condition = True\n",
    "\n",
    "        # Update the target sequence (of length 1).\n",
    "        target_seq = np.zeros((1, 1, num_decoder_tokens))\n",
    "        target_seq[0, 0, sampled_token_index] = 1.\n",
    "\n",
    "        # Update states\n",
    "        states_value = [h, c]\n",
    "\n",
    "    return decoded_sentence\n",
    "\n",
    "print(\"From training set:\")\n",
    "for seq_index in range(20):\n",
    "    # Take one sequence (part of the training set)\n",
    "    # for trying out decoding.\n",
    "    input_seq = encoder_input_data[seq_index: seq_index + 1]\n",
    "    decoded_sentence = decode_sequence(input_seq)\n",
    "    print('-')\n",
    "    print('Input   sentence:', input_texts[seq_index])\n",
    "    print('Decoded sentence:', decoded_sentence)"
   ]
  },
  {
   "cell_type": "code",
   "execution_count": 43,
   "metadata": {},
   "outputs": [
    {
     "name": "stdout",
     "output_type": "stream",
     "text": [
      "\n",
      "From test set:\n",
      "-\n",
      "Input   sentence: Klimtförhållandean i områdt är arida.\n",
      "Decoded sentence: Klimatförhållandena i området är arida.\n",
      "\n",
      "-\n",
      "Input   sentence: På den tiden bodde han i Genua.\n",
      "Decoded sentence: På den tiden boden ha i Genau.\n",
      "\n",
      "-\n",
      "Input   sentence: Terrängen på Otok Olib  är platt.\n",
      "Decoded sentence: Terrängen på Okot Olibi är platt.\n",
      "\n",
      "-\n",
      "Input   sentence: Elit eHockey Prospects.\n",
      "Decoded sentence: Elit Hecocker Porscet.\n",
      "\n",
      "-\n",
      "Input   sentence: Arten är reproducerande i Sverige.\n",
      "Decoded sentence: Arten är reproducerande i Sverige.\n",
      "\n",
      "-\n",
      "Input   sentence: Klimatet i området är tempererat.\n",
      "Decoded sentence: Klimatet i området är tempererat.\n",
      "\n",
      "-\n",
      "Input   sentence: Inlanndsklimat råder i  trakten.\n",
      "Decoded sentence: Inlandsklimat råder i trakten.\n",
      "\n",
      "-\n",
      "Input   sentence: Punta Tasbapauni är  en udde i Honduras.\n",
      "Decoded sentence: Punta Tasbapanui är en udde i Honduras.\n",
      "\n",
      "-\n",
      "Input   sentence: Geografiskt ligger örana i Melanesien.\n",
      "Decoded sentence: Geografiskt ligger öarna i Melanesien.\n",
      "\n",
      "-\n",
      "Input   sentence: Monte  Wager ligger på ön Isla Wager.\n",
      "Decoded sentence: Monte Wager ligger på ön Isla Wiegra.\n",
      "\n",
      "-\n",
      "Input   sentence: Snowcap Icefield lligger uppe på en höjd.\n",
      "Decoded sentence: Snowca pecefiell del ued i ep  löd hen.\n",
      "\n",
      "-\n",
      "Input   sentence: Bud Lake är en sjö i Kanada.\n",
      "Decoded sentence: Bud Lake är en sjö i Kanada.\n",
      "\n",
      "-\n",
      "Input   sentence: Medelhavsklimat råder i trakten.\n",
      "Decoded sentence: Medelhavsklimat råder i trakten.\n",
      "\n",
      "-\n",
      "Input   sentence: En historia från Ådalana.\n",
      "Decoded sentence: En historia från delana.\n",
      "\n",
      "-\n",
      "Input   sentence: Kustklimat råder i rtakten.\n",
      "Decoded sentence: Kustklimat råder i trakten.\n",
      "\n",
      "-\n",
      "Input   sentence: Phou Talanien är ett berg i Laos.\n",
      "Decoded sentence: Phou Talanien är ett berg i Laos.\n",
      "\n",
      "-\n",
      "Input   sentence: Kustklimat råder i trakten.\n",
      "Decoded sentence: Kustklimat råder i trakten.\n",
      "\n",
      "-\n",
      "Input   sentence: Inga underarter finns listade.\n",
      "Decoded sentence: Inga underarter finns listade.\n",
      "\n",
      "-\n",
      "Input   sentence: It rakten råder ett kallt ökenklimat\n",
      "Decoded sentence: I trakten råder ett kallt ökenklimat.\n",
      "\n",
      "-\n",
      "Input   sentence: Puerto el Aire är en ort i Mexiko.\n",
      "Decoded sentence: Puerto el Aire är en ort i Mexiko.\n",
      "\n"
     ]
    }
   ],
   "source": [
    "print()\n",
    "print(\"From test set:\")\n",
    "for seq_index in range(20):\n",
    "    # Take one sequence (part of the test set)\n",
    "    # for trying out decoding.\n",
    "    input_seq = x_test1[seq_index: seq_index + 1]\n",
    "    decoded_sentence = decode_sequence(input_seq)\n",
    "    print('-')\n",
    "    print('Input   sentence:', test_x[seq_index])\n",
    "    print('Decoded sentence:', decoded_sentence)\n",
    "    "
   ]
  },
  {
   "cell_type": "code",
   "execution_count": null,
   "metadata": {},
   "outputs": [],
   "source": []
  }
 ],
 "metadata": {
  "anaconda-cloud": {},
  "kernelspec": {
   "display_name": "Python 3",
   "language": "python",
   "name": "python3"
  },
  "language_info": {
   "codemirror_mode": {
    "name": "ipython",
    "version": 3
   },
   "file_extension": ".py",
   "mimetype": "text/x-python",
   "name": "python",
   "nbconvert_exporter": "python",
   "pygments_lexer": "ipython3",
   "version": "3.9.7"
  }
 },
 "nbformat": 4,
 "nbformat_minor": 1
}
