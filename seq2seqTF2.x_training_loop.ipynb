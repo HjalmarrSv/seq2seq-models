{
 "cells": [
  {
   "cell_type": "markdown",
   "metadata": {},
   "source": [
    "# A character one hot based seq2seq neural network\n",
    "## For using as spell-checker, grammar checker, etc."
   ]
  },
  {
   "cell_type": "markdown",
   "metadata": {},
   "source": [
    "The notebook is based on the Spell-checker project.\n",
    "\n",
    "Data can be found as on Project Gutenberg or as cleaned wikipedia dumps. The neural net will learn, to repeat, that which is found in \"./books\" folder. The file, or files, will need to have one sentence per line.\n",
    "\n",
    "To save time for multiple runs, file are saved in folder \"./data\" and weights of the neural network are saved and reused. Note that reusing only works for the same symbol set and neural net configuration. If you have varying symbols in different data sets (books), run all of them at the same time (put them all in the books folder), and use the offset variable to chew through all of the data piece by piece.\n",
    "\n",
    "Results:\n"
   ]
  },
  {
   "cell_type": "markdown",
   "metadata": {},
   "source": [
    "Masking layer + training loop, all the data (Kilo (1000) sentences)\n",
    "\n",
    "<table>\n",
    "<tr><td><td><td><td>Highest<td>scores<td>sentences (10-40)\n",
    "<tr><td>Size<td>batch<td>tr_acc<td>val_acc<td>test_acc<td>dropout<td>\n",
    "<tr><td>2000K<td>2048<td><td><td><td>0.1, 0.1, 0.1  \n",
    "<tr><td>2000K<td>1024<td>99.65<td>99.70<td>99.69<td>0.1, 0.1, 0.1 \n",
    "<tr><td>2000K<td>512<td>99.80<td>99.78<td>99.79<td>0.05, 0.05, 0.05\n",
    "</table> \n",
    "\n",
    "\n",
    "Masking layer + mixed precision different sizes of data (Kilo (1000) sentences)\n",
    "\n",
    "<table>\n",
    "<tr><td><td><td><td>Highest<td>scores<td>sentences (10-40)\n",
    "<tr><td>Size<td>batch<td>tr_acc<td>val_acc<td>test_acc<td>dropout<td>\n",
    "<tr><td>200K<td>2048<td>99.91<td>99.24<td>99.23<td>0.1, 0.1, 0.1  \n",
    "<tr><td>200K<td>1024<td>99.90<td>99.53<td>99.54<td>0.1, 0.1, 0.1 \n",
    "<tr><td>100K<td>4096<td>99.52<td>98.90<td>98.90<td>0.1, 0.1, 0.1  \n",
    "<tr><td>100K<td>1024<td>99.82<td>99.01<td>99.01<td>0.1, 0.1, 0.1\n",
    "</table> \n",
    "\n",
    "\n",
    "Mixed precision different sizes of data (Kilo (1000) sentences)\n",
    "\n",
    "<table>\n",
    "<tr><td><td><td><td>Highest<td>scores<td>sentences (10-40)\n",
    "<tr><td>Size<td>batch<td>tr_acc<td>val_acc<td>test_acc<td>dropout<td>\n",
    "<tr><td>1000K<td>1024<td>OOM     \n",
    "<tr><td>200K<td>512<td>99.93<td>99.63<td>99.63<td>0.1, 0.1, 0.1    \n",
    "<tr><td>100K<td>4096<td>99.36<td>98.91<td>98.91<td>0.1, 0.1, 0.1\n",
    "</table> \n",
    "\n",
    "    \n",
    "Different sizes of data (Kilo (1000) sentences)\n",
    "\n",
    "<table>\n",
    "<tr><td><td><td><td>Highest<td>scores<td>sentences (10-40)\n",
    "<tr><td>Size<td>batch<td>tr_acc<td>val_acc<td>test_acc<td>dropout<td>\n",
    "<tr><td>1000K<td>32<td>99.84<td>99.81<td>OOM**<td>0.1, 0.1, 0.1\n",
    "<tr><td>1000K<td>1024<td>OOM**<td><td><td>0.1, 0.1, 0.1\n",
    "<tr><td>800K<td>1024<td>99.91<td>99.79<td>OOM<td>0.1, 0.1, 0.1\n",
    "<tr><td>600K<td>1024<td>99.93<td>99.77<td>99.77<td>0.1, 0.1, 0.1\n",
    "<tr><td>400K<td>1024<td>99.90<td>99.71<td>99.72<td>0.1, 0.1, 0.1\n",
    "<tr><td>200K<td>2048<td>99.89<td>99.50<td>99.51<td>0.1, 0.1, 0.1     \n",
    "<tr><td>200K<td>1024<td>99.91*<td>99.53<td>99.54<td>0.1, 0.1, 0.1\n",
    "<tr><td>100K<td>4096<td>OOM<td><td><td>0.1, 0.1, 0.1\n",
    "<tr><td>100K<td>3072<td>99.57<td>99.11<td>99.10<td>0.1, 0.1, 0.1\n",
    "<tr><td>100K<td>2048<td>99.69<td>99.10<td>99.11<td>0.1, 0.1, 0.1\n",
    "<tr><td>100K<td>1024<td>99.88<td>99.09<td>99.08<td>0.1, 0.1, 0.1\n",
    "<tr><td>100K<td>768<td>99.86<td>99.25<td>99.24<td>0.1, 0.1, 0.1\n",
    "<tr><td>100K<td>512<td>99.92<td>99.21<td>99.21<td>0.1, 0.1, 0.1\n",
    "<tr>\n",
    "<tr><td><td>     <td>      <td>       <td>        <td>*manually stopped\n",
    "<tr><td><td>     <td>      <td>       <td>        <td>**Out Of Memory\n",
    "</table> \n",
    "    \n",
    "    \n",
    "Different batch sizes\n",
    "    \n",
    "<table>\n",
    "<tr><td><td><td><td>Highest<td>scores 100K sentences (10-40)<td>\n",
    "<tr><td>batch<td>tr_acc<td>val_acc<td>test_acc<td>regularizers\n",
    "<tr><td>2048<td>99.76<td>98.79<td>98.78<td>dropout 0.1, 0.1, 0.1\n",
    "<tr><td>2048<td><td>98.64<td>98.62<td>kernel, bias, activity(only 1 of each)\n",
    "<tr><td>1024<td>99.80<td>99.04<td>99.04<td>dropout 0.1, 0.1, 0.1\n",
    "<tr><td>512<td><td>99.01<td>99.00<td>kernel, bias, activity(only 1 of each)\n",
    "<tr><td>32<td>1.0000<td>99.31<td>99.31<td>kernel, bias, activity(only 1 of each)\n",
    "</table> "
   ]
  },
  {
   "cell_type": "markdown",
   "metadata": {},
   "source": [
    "## Load libraries"
   ]
  },
  {
   "cell_type": "code",
   "execution_count": 1,
   "metadata": {},
   "outputs": [
    {
     "name": "stderr",
     "output_type": "stream",
     "text": [
      "2022-02-26 02:01:34.436442: I tensorflow/stream_executor/platform/default/dso_loader.cc:53] Successfully opened dynamic library libcudart.so.11.0\n"
     ]
    }
   ],
   "source": [
    "import bz2\n",
    "from   collections                import namedtuple\n",
    "from   __future__                 import print_function\n",
    "import numpy                      as     np\n",
    "import os\n",
    "from   os                         import listdir\n",
    "from   os.path                    import isfile, join\n",
    "import pandas                     as     pd\n",
    "import matplotlib.pyplot          as     plt\n",
    "import re\n",
    "from   sklearn.model_selection    import train_test_split\n",
    "import tensorflow                 as     tf\n",
    "from   tensorflow                 import keras\n",
    "from   tensorflow.keras           import mixed_precision, regularizers\n",
    "from   tensorflow.keras.callbacks import EarlyStopping, ReduceLROnPlateau\n",
    "from   tensorflow.keras.layers    import (Activation, Bidirectional, Concatenate, Dense, \n",
    "                                         Input, LSTM, Masking)\n",
    "from   tensorflow.keras.models    import Model\n",
    "from   tensorflow.python.client   import device_lib\n",
    "import time"
   ]
  },
  {
   "cell_type": "code",
   "execution_count": 2,
   "metadata": {},
   "outputs": [],
   "source": [
    "#gpus = tf.config.list_physical_devices('GPU')\n",
    "#if gpus:\n",
    "  # Restrict TensorFlow to only use the first GPU\n",
    "#  try:\n",
    "#    tf.config.set_visible_devices(gpus[0], 'GPU')\n",
    "#    logical_gpus = tf.config.list_logical_devices('GPU')\n",
    "#    print(len(gpus), \"Physical GPUs,\", len(logical_gpus), \"Logical GPU\")\n",
    "#  except RuntimeError as e:\n",
    "    # Visible devices must be set before GPUs have been initialized\n",
    "#    print(e)\n"
   ]
  },
  {
   "cell_type": "code",
   "execution_count": 3,
   "metadata": {},
   "outputs": [],
   "source": [
    "#If your gpu runs out of memory, due to earlier runs, you can try uncommenting lines below (a fix for emptying gpu memory)\n",
    "#https://github.com/tensorflow/tensorflow/issues/36465\n",
    "#from numba import cuda\n",
    "#cuda.select_device(0)\n",
    "#cuda.close()"
   ]
  },
  {
   "cell_type": "code",
   "execution_count": 4,
   "metadata": {
    "scrolled": true
   },
   "outputs": [],
   "source": [
    "# Save memory by going down on precision at times, from TF32 to TF16.\n",
    "# Actually no ram memory saved - but gpu memory and double GPU speed.\n",
    "# Note that softmax needs dtype='float32', TF16 is too low precision.\n",
    "# Mixed precision does not work on all versions of Tensorflow\n",
    "#policy = mixed_precision.Policy('mixed_float16')\n",
    "#mixed_precision.set_global_policy(policy) "
   ]
  },
  {
   "cell_type": "code",
   "execution_count": 5,
   "metadata": {},
   "outputs": [],
   "source": [
    "batch_size  = 512  # Limited by GPU memory. Larger is much faster, but uses more memory. Smaller usually gives better scores.\n",
    "epochs      = 5   # Number of epochs to train for. Smaller data sets\n",
    "                    # needs more runs than larger data sets. 1 is only\n",
    "                    # useful for testing. Less is better, an overtrained model is useless.\n",
    "input_dim   = 60    # time steps, ie number of letters\n",
    "\n",
    "max_length  = 60    # was 92 # Limit the data we will use to train our model\n",
    "min_length  = 10    # min/max on sentence lengths\n",
    "units       = 64\n",
    "output_size = 10\n",
    "latent_dim  = 256     # Latent dimensionality of the encoding space.\n",
    "num_samples = 100000  # Number of samples to train on. Used with the offset variable you can chew through\n",
    "                      # large data sets, without using much memory.100000\n",
    "threshold = 0.95      # introduce 5 % errors, i.e. about once for every 20 chars.\n",
    "\n",
    "path      = './books/' # Paths to subfolders\n",
    "path_data = './data/'"
   ]
  },
  {
   "cell_type": "markdown",
   "metadata": {},
   "source": [
    "## Uncomment to check hardware. Please note that a GPU is needed if you want to run anything but the smallest datasets."
   ]
  },
  {
   "cell_type": "markdown",
   "metadata": {},
   "source": [
    "# uncomment if you have GPU problems\n",
    "physical_devices = tf.config.experimental.list_physical_devices('GPU')\n",
    "tf.config.experimental.set_memory_growth(physical_devices[0], enable=True)\n",
    "tf.config.experimental.set_memory_growth(physical_devices[1], enable=True)"
   ]
  },
  {
   "cell_type": "code",
   "execution_count": 6,
   "metadata": {},
   "outputs": [],
   "source": [
    "#session_config=tf.compat.v1.ConfigProto(\n",
    "#    gpu_options=tf.GPUOptions(per_process_gpu_memory_fraction=0.9))"
   ]
  },
  {
   "cell_type": "code",
   "execution_count": 7,
   "metadata": {},
   "outputs": [],
   "source": [
    "# uncomment to see what hardware you have\n",
    "#print(device_lib.list_local_devices())"
   ]
  },
  {
   "cell_type": "code",
   "execution_count": 8,
   "metadata": {},
   "outputs": [],
   "source": [
    "# For loading of books, encoding needs to be defined for other os than linux.\n",
    "\n",
    "def load_book(path):\n",
    "    \"\"\"Load a book from its file\"\"\"\n",
    "    input_file = os.path.join(path)\n",
    "    with open(input_file, encoding='utf-8') as f:\n",
    "        book = f.read()\n",
    "    return book\n",
    "\n",
    "# For loading of precomputed data\n",
    "def load_data(file, path):\n",
    "    \"\"\"Load data from its file\"\"\"\n",
    "    loaded_data = []\n",
    "    input_file = os.path.join(path, file)\n",
    "    print (input_file)\n",
    "    # Load and decompress data from file\n",
    "    with bz2.open(\"./data/sentences.bz2\", \"rt\") as f:\n",
    "        loaded_data = f.read()\n",
    "    return loaded_data\n",
    "\n",
    "def load_vocab_input(file, path):\n",
    "    \"\"\"Load data from its file\"\"\"\n",
    "    input_characters = set()\n",
    "    input_file = os.path.join(path, file)\n",
    "    # Load and decompress data from file\n",
    "    with bz2.open(\"./data/vocab_input.bz2\", \"rt\") as f:\n",
    "        loaded_data = f.read()\n",
    "    for char in loaded_data:\n",
    "        input_characters.add(char)\n",
    "    return input_characters\n",
    "\n",
    "def load_vocab_target(file, path):\n",
    "    \"\"\"Load data from its file\"\"\"\n",
    "    target_characters = set()\n",
    "    input_file = os.path.join(path, file)\n",
    "    # Load and decompress data from file\n",
    "    with bz2.open(\"./data/vocab_target.bz2\", \"rt\") as f:\n",
    "        loaded_data = f.read()\n",
    "    for char in loaded_data:\n",
    "        target_characters.add(char)\n",
    "    return target_characters"
   ]
  },
  {
   "cell_type": "code",
   "execution_count": 9,
   "metadata": {},
   "outputs": [],
   "source": [
    "def make_trainingdata (lines, text_offset, num_samples, \n",
    "                       max_encoder_seq_length, num_encoder_tokens, max_decoder_seq_length, num_decoder_tokens): #inp_texts, targ_texts,\n",
    "    inp_texts  = []\n",
    "    targ_texts = []\n",
    "    \n",
    "    enc_input_data = np.zeros(\n",
    "        (num_samples, max_encoder_seq_length, num_encoder_tokens), dtype=\"float32\"\n",
    "    ) #len(input_texts)\n",
    "    dec_input_data = np.zeros(\n",
    "        (num_samples, max_decoder_seq_length, num_decoder_tokens), dtype=\"float32\"\n",
    "    ) # len(input_texts)\n",
    "    dec_target_data = np.zeros(\n",
    "        (num_samples, max_decoder_seq_length, num_decoder_tokens), dtype=\"float32\"\n",
    "    ) # len(input_texts)\n",
    "    \n",
    "    for line in lines[text_offset: min((num_samples+text_offset), len(lines) - 1)]:\n",
    "        target_text = str(line)\n",
    "        input_text = noise_maker(target_text, threshold)\n",
    "        # We use \"tab\" as the \"start sequence\" character\n",
    "        # for the targets, and \"\\n\" as \"end sequence\" character.\n",
    "        target_text = \"\\t\" + target_text + \"\\n\"\n",
    "        inp_texts.append(input_text)\n",
    "        targ_texts.append(target_text)\n",
    "    \n",
    "    for i, (inp_text, targ_text) in enumerate(zip(inp_texts, targ_texts)):\n",
    "        for t, char in enumerate(inp_text):\n",
    "            enc_input_data[i, t, input_token_index[char]] = 1.0\n",
    "        enc_input_data[i, t + 1 :, input_token_index[\" \"]] = 1.0\n",
    "        for t, char in enumerate(targ_text):\n",
    "            # decoder_target_data is ahead of decoder_input_data by one timestep\n",
    "            dec_input_data[i, t, target_token_index[char]] = 1.0\n",
    "            if t > 0:\n",
    "                # decoder_target_data will be ahead by one timestep\n",
    "                # and will not include the start character.\n",
    "                dec_target_data[i, t - 1, target_token_index[char]] = 1.0\n",
    "        dec_input_data[i, t + 1 :, target_token_index[\" \"]] = 1.0\n",
    "        dec_target_data[i, t:, target_token_index[\" \"]] = 1.0\n",
    "    return enc_input_data, dec_input_data, dec_target_data"
   ]
  },
  {
   "cell_type": "code",
   "execution_count": 10,
   "metadata": {},
   "outputs": [],
   "source": [
    "def make_testdata (input_texts, target_texts, text_offset, num_samples, \n",
    "                       max_encoder_seq_length, num_encoder_tokens, max_decoder_seq_length, num_decoder_tokens): #inp_texts, targ_texts,\n",
    "    inp_texts  = []\n",
    "    targ_texts = []\n",
    "    \n",
    "    enc_input_data = np.zeros(\n",
    "        (num_samples, max_encoder_seq_length, num_encoder_tokens), dtype=\"float32\"\n",
    "    ) #len(input_texts)\n",
    "    dec_input_data = np.zeros(\n",
    "        (num_samples, max_decoder_seq_length, num_decoder_tokens), dtype=\"float32\"\n",
    "    ) # len(input_texts)\n",
    "    dec_target_data = np.zeros(\n",
    "        (num_samples, max_decoder_seq_length, num_decoder_tokens), dtype=\"float32\"\n",
    "    ) # len(input_texts)\n",
    "    \n",
    "    for i, (inp_text, targ_text) in enumerate(zip(input_texts[0+text_offset:num_samples+text_offset], target_texts[0+text_offset:num_samples+text_offset])):\n",
    "        for t, char in enumerate(inp_text):\n",
    "            enc_input_data[i, t, input_token_index[char]] = 1.0\n",
    "        enc_input_data[i, t + 1 :, input_token_index[\" \"]] = 1.0\n",
    "        for t, char in enumerate(targ_text):\n",
    "            # decoder_target_data is ahead of decoder_input_data by one timestep\n",
    "            dec_input_data[i, t, target_token_index[char]] = 1.0\n",
    "            if t > 0:\n",
    "                # decoder_target_data will be ahead by one timestep\n",
    "                # and will not include the start character.\n",
    "                dec_target_data[i, t - 1, target_token_index[char]] = 1.0\n",
    "        dec_input_data[i, t + 1 :, target_token_index[\" \"]] = 1.0\n",
    "        dec_target_data[i, t:, target_token_index[\" \"]] = 1.0\n",
    "    return enc_input_data, dec_input_data, dec_target_data"
   ]
  },
  {
   "cell_type": "code",
   "execution_count": 11,
   "metadata": {},
   "outputs": [
    {
     "name": "stdout",
     "output_type": "stream",
     "text": [
      "./data/sentences.bz2\n",
      "Loaded sentences.\n",
      "Loaded vocab_input.\n",
      "Loaded vocab_target.\n"
     ]
    }
   ],
   "source": [
    "# Global variables\n",
    "# Check if data files exists\n",
    "# Using try is a cheat. Properly done the code would check if file exists.\n",
    "try:\n",
    "    loaded_data = load_data('sentences.bz2', path_data)\n",
    "    sentences_exist = True\n",
    "    print('Loaded sentences.')\n",
    "    sentences = []\n",
    "    for line in loaded_data.splitlines():\n",
    "        sentences.append(line)\n",
    "except:\n",
    "    sentences_exist = False\n",
    "    print('No sentences found to load. Going to load books.')\n",
    "    \n",
    "try:\n",
    "    vocab_input = load_vocab_input('vocab_input.bz2', path_data)\n",
    "    vocab_input_exists = True\n",
    "    print('Loaded vocab_input.')\n",
    "    vocab_target = load_vocab_target('vocab_target.bz2', path_data)\n",
    "    print('Loaded vocab_target.')\n",
    "    vocab_target_exists = True\n",
    "except:\n",
    "    vocab_target_exists = vocab_input_exists = False"
   ]
  },
  {
   "cell_type": "markdown",
   "metadata": {},
   "source": [
    "## Define file loading functions"
   ]
  },
  {
   "cell_type": "code",
   "execution_count": 12,
   "metadata": {},
   "outputs": [],
   "source": [
    "# Collect all of the book file names\n",
    "if sentences_exist == False:\n",
    "    book_files = [f for f in listdir(path) if isfile(join(path, f))]\n",
    "    book_files = book_files[0:]"
   ]
  },
  {
   "cell_type": "code",
   "execution_count": 13,
   "metadata": {},
   "outputs": [],
   "source": [
    "# Load the books using the file names\n",
    "if sentences_exist == False:\n",
    "    books = []\n",
    "    for book in book_files:\n",
    "        books.append(load_book(path+book))"
   ]
  },
  {
   "cell_type": "code",
   "execution_count": 14,
   "metadata": {},
   "outputs": [],
   "source": [
    "# Compare the number of words in each book \n",
    "if sentences_exist == False:\n",
    "    for i in range(len(books)):\n",
    "        print(\"There are {} words in {}.\".format(len(books[i].split()), book_files[i]))"
   ]
  },
  {
   "cell_type": "code",
   "execution_count": 15,
   "metadata": {},
   "outputs": [],
   "source": [
    "# Check to ensure the text looks alright\n",
    "if sentences_exist == False:\n",
    "    print(books[0][:500],\"/.../\")"
   ]
  },
  {
   "cell_type": "markdown",
   "metadata": {},
   "source": [
    "## Preparing the Data"
   ]
  },
  {
   "cell_type": "code",
   "execution_count": 16,
   "metadata": {},
   "outputs": [],
   "source": [
    "def clean_text(text):\n",
    "    '''Remove unwanted characters and extra spaces from the text'''\n",
    "    # The following have to be removed:\n",
    "    # \\x01 [start of heading, SOH] used as padding char\n",
    "    # \\x02 [start of text, SOT] used as unk char\n",
    "    # \\t used as start char\n",
    "    # \\n used as end char (do not remove here)\n",
    "    #text = re.sub(r'\\n', ' ', text) # do not use\n",
    "    text = re.sub(r'\\x01', '')       # \\x01 [start of heading, SOH] used as padding char\n",
    "    text = re.sub(r'\\x02', '')       # \\x02 [start of text, SOT] used as unk char\n",
    "    text = re.sub(r'\\t',' ')         # \\t used as start char\n",
    "    text = re.sub(r'[{}@_*>()\\\\#%+=\\[\\]]','', text)\n",
    "    text = re.sub('a0','', text)\n",
    "    text = re.sub('\\'92t','\\'t', text)\n",
    "    text = re.sub('\\'92s','\\'s', text)\n",
    "    text = re.sub('\\'92m','\\'m', text)\n",
    "    text = re.sub('\\'92ll','\\'ll', text)\n",
    "    text = re.sub('\\'91','', text)\n",
    "    text = re.sub('\\'92','', text)\n",
    "    text = re.sub('\\'93','', text)\n",
    "    text = re.sub('\\'94','', text)\n",
    "    #text = re.sub('\\.','. ', text)\n",
    "    #text = re.sub('\\!','! ', text)\n",
    "    #text = re.sub('\\?','? ', text)\n",
    "    text = re.sub(' +',' ', text)\n",
    "    #text = [text.islower()]\n",
    "    return text"
   ]
  },
  {
   "cell_type": "code",
   "execution_count": 17,
   "metadata": {},
   "outputs": [],
   "source": [
    "# Clean the text of the books\n",
    "if sentences_exist == False:\n",
    "    clean_books = []\n",
    "    for book in books:\n",
    "        clean_books.append(clean_text(book))"
   ]
  },
  {
   "cell_type": "code",
   "execution_count": 18,
   "metadata": {},
   "outputs": [],
   "source": [
    "# Check to ensure the text has been cleaned properly\n",
    "if sentences_exist == False:\n",
    "    print(clean_books[0][:500],\"/.../\")"
   ]
  },
  {
   "cell_type": "code",
   "execution_count": 19,
   "metadata": {},
   "outputs": [],
   "source": [
    "# Split the text from the books into sentences.\n",
    "# Choose whether only lower case or not below.\n",
    "if sentences_exist == False:\n",
    "    sentences = []\n",
    "    save_sentences = \"\"\n",
    "    for book in clean_books:\n",
    "        for sentence in book.splitlines():\n",
    "            #sentence = sentence.lower() # lower case to halve the nr of symbols\n",
    "            sentences.append(sentence)\n",
    "            save_sentences += (sentence + '\\n')\n",
    "    print(\"There are {} sentences.\".format(len(sentences)))\n",
    "    # Write compressed data to file\n",
    "    with bz2.open(\"./data/sentences.bz2\", \"wt\") as bzip_file:\n",
    "        unused = bzip_file.write(save_sentences)\n",
    "        #unused = bzip_file.write(save_sentences.encode())     \n",
    "        # encoding=’utf8′, errors=’strict’\n",
    "    save_sentences = \"\""
   ]
  },
  {
   "cell_type": "code",
   "execution_count": 20,
   "metadata": {},
   "outputs": [
    {
     "name": "stdout",
     "output_type": "stream",
     "text": [
      "['I ändelser kan även u och o kvarstå.', 'Här säger man alltså skojin och sättjin.', 'Den har runt ansikte med runda ögon.', 'Kroppen är kort och kraftig.', 'Scottish fold är lugna och vänliga.']\n"
     ]
    }
   ],
   "source": [
    "# Check to ensure the text has been split correctly.\n",
    "print(sentences[:5])"
   ]
  },
  {
   "cell_type": "code",
   "execution_count": 21,
   "metadata": {},
   "outputs": [],
   "source": [
    "# Find the length of each sentence\n",
    "lengths = []\n",
    "for sentence in sentences:\n",
    "    lengths.append(len(sentence))\n",
    "lengths = pd.DataFrame(lengths, columns=[\"counts\"])"
   ]
  },
  {
   "cell_type": "code",
   "execution_count": 22,
   "metadata": {},
   "outputs": [
    {
     "data": {
      "text/html": [
       "<div>\n",
       "<style scoped>\n",
       "    .dataframe tbody tr th:only-of-type {\n",
       "        vertical-align: middle;\n",
       "    }\n",
       "\n",
       "    .dataframe tbody tr th {\n",
       "        vertical-align: top;\n",
       "    }\n",
       "\n",
       "    .dataframe thead th {\n",
       "        text-align: right;\n",
       "    }\n",
       "</style>\n",
       "<table border=\"1\" class=\"dataframe\">\n",
       "  <thead>\n",
       "    <tr style=\"text-align: right;\">\n",
       "      <th></th>\n",
       "      <th>counts</th>\n",
       "    </tr>\n",
       "  </thead>\n",
       "  <tbody>\n",
       "    <tr>\n",
       "      <th>count</th>\n",
       "      <td>2.228165e+06</td>\n",
       "    </tr>\n",
       "    <tr>\n",
       "      <th>mean</th>\n",
       "      <td>3.364417e+01</td>\n",
       "    </tr>\n",
       "    <tr>\n",
       "      <th>std</th>\n",
       "      <td>4.520924e+00</td>\n",
       "    </tr>\n",
       "    <tr>\n",
       "      <th>min</th>\n",
       "      <td>1.000000e+01</td>\n",
       "    </tr>\n",
       "    <tr>\n",
       "      <th>25%</th>\n",
       "      <td>3.000000e+01</td>\n",
       "    </tr>\n",
       "    <tr>\n",
       "      <th>50%</th>\n",
       "      <td>3.400000e+01</td>\n",
       "    </tr>\n",
       "    <tr>\n",
       "      <th>75%</th>\n",
       "      <td>3.800000e+01</td>\n",
       "    </tr>\n",
       "    <tr>\n",
       "      <th>max</th>\n",
       "      <td>4.000000e+01</td>\n",
       "    </tr>\n",
       "  </tbody>\n",
       "</table>\n",
       "</div>"
      ],
      "text/plain": [
       "             counts\n",
       "count  2.228165e+06\n",
       "mean   3.364417e+01\n",
       "std    4.520924e+00\n",
       "min    1.000000e+01\n",
       "25%    3.000000e+01\n",
       "50%    3.400000e+01\n",
       "75%    3.800000e+01\n",
       "max    4.000000e+01"
      ]
     },
     "execution_count": 22,
     "metadata": {},
     "output_type": "execute_result"
    }
   ],
   "source": [
    "lengths.describe()"
   ]
  },
  {
   "cell_type": "code",
   "execution_count": 23,
   "metadata": {},
   "outputs": [
    {
     "name": "stdout",
     "output_type": "stream",
     "text": [
      "We will use 2228165 sentences to train and test our model.\n"
     ]
    }
   ],
   "source": [
    "# Get the chosen length of sentences\n",
    "good_sentences = []\n",
    "\n",
    "for sentence in sentences:\n",
    "    if len(sentence) <= max_length and len(sentence) >= min_length:\n",
    "        good_sentences.append(sentence)\n",
    "\n",
    "# Find the length of each sentence\n",
    "lengths = []\n",
    "for sentence in good_sentences:\n",
    "    lengths.append(len(sentence))\n",
    "lengths = pd.DataFrame(lengths, columns=[\"counts\"])\n",
    "print(\"We will use {} sentences to train and test our model.\".format(len(good_sentences)))"
   ]
  },
  {
   "cell_type": "code",
   "execution_count": 24,
   "metadata": {},
   "outputs": [
    {
     "data": {
      "text/html": [
       "<div>\n",
       "<style scoped>\n",
       "    .dataframe tbody tr th:only-of-type {\n",
       "        vertical-align: middle;\n",
       "    }\n",
       "\n",
       "    .dataframe tbody tr th {\n",
       "        vertical-align: top;\n",
       "    }\n",
       "\n",
       "    .dataframe thead th {\n",
       "        text-align: right;\n",
       "    }\n",
       "</style>\n",
       "<table border=\"1\" class=\"dataframe\">\n",
       "  <thead>\n",
       "    <tr style=\"text-align: right;\">\n",
       "      <th></th>\n",
       "      <th>counts</th>\n",
       "    </tr>\n",
       "  </thead>\n",
       "  <tbody>\n",
       "    <tr>\n",
       "      <th>count</th>\n",
       "      <td>2.228165e+06</td>\n",
       "    </tr>\n",
       "    <tr>\n",
       "      <th>mean</th>\n",
       "      <td>3.364417e+01</td>\n",
       "    </tr>\n",
       "    <tr>\n",
       "      <th>std</th>\n",
       "      <td>4.520924e+00</td>\n",
       "    </tr>\n",
       "    <tr>\n",
       "      <th>min</th>\n",
       "      <td>1.000000e+01</td>\n",
       "    </tr>\n",
       "    <tr>\n",
       "      <th>25%</th>\n",
       "      <td>3.000000e+01</td>\n",
       "    </tr>\n",
       "    <tr>\n",
       "      <th>50%</th>\n",
       "      <td>3.400000e+01</td>\n",
       "    </tr>\n",
       "    <tr>\n",
       "      <th>75%</th>\n",
       "      <td>3.800000e+01</td>\n",
       "    </tr>\n",
       "    <tr>\n",
       "      <th>max</th>\n",
       "      <td>4.000000e+01</td>\n",
       "    </tr>\n",
       "  </tbody>\n",
       "</table>\n",
       "</div>"
      ],
      "text/plain": [
       "             counts\n",
       "count  2.228165e+06\n",
       "mean   3.364417e+01\n",
       "std    4.520924e+00\n",
       "min    1.000000e+01\n",
       "25%    3.000000e+01\n",
       "50%    3.400000e+01\n",
       "75%    3.800000e+01\n",
       "max    4.000000e+01"
      ]
     },
     "execution_count": 24,
     "metadata": {},
     "output_type": "execute_result"
    }
   ],
   "source": [
    "lengths.describe()"
   ]
  },
  {
   "cell_type": "code",
   "execution_count": 25,
   "metadata": {},
   "outputs": [
    {
     "name": "stdout",
     "output_type": "stream",
     "text": [
      "Number of training sentences: 2005348\n",
      "Number of testing sentences:  222817\n"
     ]
    }
   ],
   "source": [
    "# Split the data into training and testing sentences (testing is for\n",
    "# inferencing). There will be three data sets; training which is split\n",
    "# into training and validation during fit, and testing for inferencing.\n",
    "# Note that inferencing does not use the test set, as of yet.\n",
    "training, testing = train_test_split(good_sentences, test_size = 0.1, random_state = 2)\n",
    "\n",
    "print(\"Number of training sentences:\", len(training))\n",
    "print(\"Number of testing sentences: \", len(testing))"
   ]
  },
  {
   "cell_type": "code",
   "execution_count": 26,
   "metadata": {},
   "outputs": [],
   "source": [
    "# Letters for introducing errors, they are added to both vocabs, so no need to exist in books.\n",
    "# '\\x02' is letter for unk (unknown)\n",
    "letters = ['\\x02', 'a','b','c','d','e','f','g','h','i','j','k','l','m','n','o',\n",
    "           'p','q','r','s','t','u','v','w','x','y','z','å','ä','ö',' ','.']\n",
    "\n",
    "# Note that caps and numbers are not introduced as errors, because the data does not contain them.\n",
    "#           'A','B','C','D','E','F','G','H','I','J','K','L','M','N','O','P',\n",
    "#           'Q','R','S','T','U','V','X','Y','Z','Å','Ä','Ö',\n",
    "\n",
    "def noise_maker(sentence, threshold):\n",
    "    '''Relocate, remove, or add characters to create spelling mistakes'''\n",
    "    noisy_sentence = \"\"\n",
    "    i = 0\n",
    "    while i < len(sentence):\n",
    "        random = np.random.uniform(0,1,1)\n",
    "        # Most characters will be correct since the threshold value is high\n",
    "        if random < threshold:\n",
    "            noisy_sentence+=sentence[i]\n",
    "        else:\n",
    "            new_random = np.random.uniform(0,1,1)\n",
    "            # ~20% chance characters will swap locations\n",
    "            if new_random > 0.8:\n",
    "                if i == (len(sentence) - 1):\n",
    "                    # If last character in sentence, it will not be typed\n",
    "                    continue\n",
    "                else:\n",
    "                    # if any other character, swap order with following character\n",
    "                    noisy_sentence+=sentence[i+1]\n",
    "                    noisy_sentence+=sentence[i]\n",
    "                    i += 1\n",
    "            # ~20% chance an extra letter will be added to the sentence\n",
    "            elif new_random > 0.60:\n",
    "                noisy_sentence+=sentence[i]\n",
    "                noisy_sentence+=sentence[i]\n",
    "                #random_letter = np.random.choice(letters, 1)[0]\n",
    "                #noisy_sentence.append(vocab_to_int[random_letter])\n",
    "            # ~40% chance a letter will be substituted for another\n",
    "            elif new_random > 0.20:\n",
    "                noisy_sentence+=sentence[i]\n",
    "                #random_letter = np.random.choice(letters, 1)[0]\n",
    "                #noisy_sentence.append(vocab_to_int[random_letter])\n",
    "            # 20% chance a character will not be typed\n",
    "            else:\n",
    "                pass     \n",
    "        i += 1\n",
    "    return noisy_sentence"
   ]
  },
  {
   "cell_type": "markdown",
   "metadata": {},
   "source": [
    "*Note: The noise_maker function is used to create spelling mistakes that are similar to those we would make. Sometimes we forget to type a letter, type a letter in the wrong location, or add an extra letter.*"
   ]
  },
  {
   "cell_type": "code",
   "execution_count": 27,
   "metadata": {},
   "outputs": [
    {
     "name": "stdout",
     "output_type": "stream",
     "text": [
      "Lac Gatelier är en sjö i Kanada.\n",
      "Lac Gatelie är een sjö i Kanada.\n",
      "\n",
      "Medelhavsklimat råder i trakten.\n",
      "Medelhavsklimat råder i trakte.\n",
      "\n",
      "Falls Brook är ett vattendrag i Kanada.\n",
      "Faalls Brook ä ett vattendarg i Kanada.\n",
      "\n",
      "Orijärvi är en sjö i Finland.\n",
      "Orijärvi är en sjö  i Finland.\n",
      "\n",
      "Tejgaon är en ort i Bangladesh.\n",
      "Tejgaon är en ort i Bangladeesh.\n",
      "\n"
     ]
    }
   ],
   "source": [
    "# Check to ensure noise_maker is making mistakes correctly.\n",
    "\n",
    "for sentence in training[:5]:\n",
    "    print(sentence)\n",
    "    print(noise_maker(sentence, threshold))\n",
    "    print()"
   ]
  },
  {
   "cell_type": "markdown",
   "metadata": {
    "collapsed": true
   },
   "source": [
    "# the Model data"
   ]
  },
  {
   "cell_type": "markdown",
   "metadata": {},
   "source": [
    "## Initialize and save space"
   ]
  },
  {
   "cell_type": "code",
   "execution_count": 28,
   "metadata": {},
   "outputs": [],
   "source": [
    "input_texts = []\n",
    "target_texts = []\n",
    "\n",
    "if vocab_target_exists:\n",
    "    target_characters = vocab_target\n",
    "    target_characters = sorted(list(target_characters))\n",
    "else: \n",
    "    target_characters = set()\n",
    "\n",
    "if vocab_input_exists:\n",
    "    input_characters = vocab_input\n",
    "    input_characters = sorted(list(input_characters))\n",
    "else:\n",
    "    input_characters = set()\n",
    "\n",
    "lines = training\n",
    "training = []\n",
    "good_sentences = []\n",
    "sentences = []"
   ]
  },
  {
   "cell_type": "code",
   "execution_count": 29,
   "metadata": {},
   "outputs": [],
   "source": [
    "# add all different characters to vocabs\n",
    "added_characters = False\n",
    "for line in lines: #\n",
    "    for char in line: #input_text:\n",
    "        if char not in input_characters:\n",
    "            input_characters.add(char)\n",
    "            added_characters = True\n",
    "    for char in line: # target_text:\n",
    "        if char not in target_characters:\n",
    "            target_characters.add(char)\n",
    "            added_characters = True\n",
    "            \n",
    "    # add characters from letters to both vocabs\n",
    "    for char in letters:\n",
    "        if char not in input_characters:\n",
    "            input_characters.add(char)\n",
    "            added_characters = True\n",
    "        if char not in target_characters:\n",
    "            target_characters.add(char)\n",
    "            added_characters = True        "
   ]
  },
  {
   "cell_type": "code",
   "execution_count": 30,
   "metadata": {},
   "outputs": [],
   "source": [
    "# Make test texts\n",
    "test_x = []\n",
    "test_y = []\n",
    "\n",
    "# test texts, same vocab\n",
    "\n",
    "for line in testing: #[line_offset: min((num_samples+line_offset), len(training) - 1)]:\n",
    "    y = str (line)\n",
    "    x = noise_maker(line, threshold)\n",
    "    # We use \"tab\" as the \"start sequence\" character\n",
    "    # for the targets, and \"\\n\" as \"end sequence\" character.\n",
    "    y = \"\\t\" + y + \"\\n\"\n",
    "    test_x.append(x)\n",
    "    test_y.append(y)\n",
    "    for char in x:\n",
    "        if char not in input_characters:\n",
    "            input_characters.add(char)#append(char)#add(char)\n",
    "            added_characters = True\n",
    "    for char in y:\n",
    "        if char not in target_characters:\n",
    "            target_characters.add(char)#append(char)#add(char)\n",
    "            added_characters = True"
   ]
  },
  {
   "cell_type": "code",
   "execution_count": 31,
   "metadata": {},
   "outputs": [],
   "source": [
    "if not vocab_input_exists:\n",
    "    print('saving vocab')\n",
    "    input_characters = sorted(list(input_characters))\n",
    "    vocab_input=\"\"\n",
    "    for char in input_characters:\n",
    "        vocab_input += char\n",
    "    with bz2.open(\"./data/vocab_input.bz2\", \"wt\") as bzip_file:\n",
    "        unused = bzip_file.write(vocab_input)\n",
    "    added_characters = False\n",
    "\n",
    "if not vocab_target_exists:\n",
    "    print('saving vocab')\n",
    "    target_characters = sorted(list(target_characters))\n",
    "    vocab_target=\"\"\n",
    "    for char in target_characters:\n",
    "        vocab_target += char\n",
    "    with bz2.open(\"./data/vocab_target.bz2\", \"wt\") as bzip_file:\n",
    "        unused = bzip_file.write(vocab_target)\n",
    "    added_characters = False"
   ]
  },
  {
   "cell_type": "code",
   "execution_count": 32,
   "metadata": {},
   "outputs": [],
   "source": [
    "# Note that added characters (new characters in new datasets) are\n",
    "# save correctly, but read incorrectly and then sorted. This is a bug.\n",
    "# It is better to use a fixed vocabulary (list of symbols), that are \n",
    "# always guaranteed to remain in the same order, even when data \n",
    "# sets (texts/books), contain different characters/symbols.\n",
    "if added_characters:\n",
    "    vocab_input=\"\"\n",
    "    for char in input_characters:\n",
    "        vocab_input += char\n",
    "    with bz2.open(\"./data/vocab_input.bz2\", \"wt\") as bzip_file:\n",
    "        unused = bzip_file.write(vocab_input)\n",
    "    vocab_target=\"\"\n",
    "    for char in target_characters:\n",
    "        vocab_target += char\n",
    "    with bz2.open(\"./data/vocab_target.bz2\", \"wt\") as bzip_file:\n",
    "        unused = bzip_file.write(target_characters)"
   ]
  },
  {
   "cell_type": "code",
   "execution_count": 33,
   "metadata": {},
   "outputs": [
    {
     "name": "stdout",
     "output_type": "stream",
     "text": [
      "Number of samples: 2005348\n",
      "Number of unique input tokens: 63\n",
      "Number of unique output tokens: 65\n",
      "Max sequence length for inputs: 71\n",
      "Max sequence length for outputs: 73\n"
     ]
    }
   ],
   "source": [
    "num_encoder_tokens = len(input_characters)\n",
    "num_decoder_tokens = len(target_characters)\n",
    "max_encoder_seq_length = max_length + 11 # max([len(txt) for txt in clean_books])\n",
    "max_decoder_seq_length = max_encoder_seq_length + 2 # max([len(txt) for txt in target_texts])\n",
    "\n",
    "print(\"Number of samples:\", len(lines))\n",
    "print(\"Number of unique input tokens:\", num_encoder_tokens)\n",
    "print(\"Number of unique output tokens:\", num_decoder_tokens)\n",
    "print(\"Max sequence length for inputs:\", max_encoder_seq_length)\n",
    "print(\"Max sequence length for outputs:\", max_decoder_seq_length)"
   ]
  },
  {
   "cell_type": "code",
   "execution_count": 34,
   "metadata": {},
   "outputs": [
    {
     "name": "stdout",
     "output_type": "stream",
     "text": [
      "{'\\x02': 0, ' ': 1, '!': 2, '.': 3, '?': 4, 'A': 5, 'B': 6, 'C': 7, 'D': 8, 'E': 9, 'F': 10, 'G': 11, 'H': 12, 'I': 13, 'J': 14, 'K': 15, 'L': 16, 'M': 17, 'N': 18, 'O': 19, 'P': 20, 'Q': 21, 'R': 22, 'S': 23, 'T': 24, 'U': 25, 'V': 26, 'W': 27, 'X': 28, 'Y': 29, 'Z': 30, 'a': 31, 'b': 32, 'c': 33, 'd': 34, 'e': 35, 'f': 36, 'g': 37, 'h': 38, 'i': 39, 'j': 40, 'k': 41, 'l': 42, 'm': 43, 'n': 44, 'o': 45, 'p': 46, 'q': 47, 'r': 48, 's': 49, 't': 50, 'u': 51, 'v': 52, 'w': 53, 'x': 54, 'y': 55, 'z': 56, 'Ä': 57, 'Å': 58, 'Ö': 59, 'ä': 60, 'å': 61, 'ö': 62}\n",
      "{'\\x02': 0, '\\t': 1, '\\n': 2, ' ': 3, '!': 4, '.': 5, '?': 6, 'A': 7, 'B': 8, 'C': 9, 'D': 10, 'E': 11, 'F': 12, 'G': 13, 'H': 14, 'I': 15, 'J': 16, 'K': 17, 'L': 18, 'M': 19, 'N': 20, 'O': 21, 'P': 22, 'Q': 23, 'R': 24, 'S': 25, 'T': 26, 'U': 27, 'V': 28, 'W': 29, 'X': 30, 'Y': 31, 'Z': 32, 'a': 33, 'b': 34, 'c': 35, 'd': 36, 'e': 37, 'f': 38, 'g': 39, 'h': 40, 'i': 41, 'j': 42, 'k': 43, 'l': 44, 'm': 45, 'n': 46, 'o': 47, 'p': 48, 'q': 49, 'r': 50, 's': 51, 't': 52, 'u': 53, 'v': 54, 'w': 55, 'x': 56, 'y': 57, 'z': 58, 'Ä': 59, 'Å': 60, 'Ö': 61, 'ä': 62, 'å': 63, 'ö': 64}\n"
     ]
    }
   ],
   "source": [
    "input_token_index = dict([(char, i) for i, char in enumerate(input_characters)])\n",
    "target_token_index = dict([(char, i) for i, char in enumerate(target_characters)])\n",
    "\n",
    "print(input_token_index)\n",
    "print(target_token_index)"
   ]
  },
  {
   "cell_type": "markdown",
   "metadata": {},
   "source": [
    "# Build the RNN model"
   ]
  },
  {
   "cell_type": "code",
   "execution_count": 35,
   "metadata": {},
   "outputs": [
    {
     "name": "stderr",
     "output_type": "stream",
     "text": [
      "2022-02-26 02:04:12.546771: I tensorflow/stream_executor/platform/default/dso_loader.cc:53] Successfully opened dynamic library libcuda.so.1\n",
      "2022-02-26 02:04:12.641369: I tensorflow/core/common_runtime/gpu/gpu_device.cc:1733] Found device 0 with properties: \n",
      "pciBusID: 0000:0a:00.0 name: NVIDIA GeForce RTX 3090 computeCapability: 8.6\n",
      "coreClock: 1.695GHz coreCount: 82 deviceMemorySize: 23.70GiB deviceMemoryBandwidth: 871.81GiB/s\n",
      "2022-02-26 02:04:12.642054: I tensorflow/core/common_runtime/gpu/gpu_device.cc:1733] Found device 1 with properties: \n",
      "pciBusID: 0000:42:00.0 name: NVIDIA GeForce GTX 970 computeCapability: 5.2\n",
      "coreClock: 1.253GHz coreCount: 13 deviceMemorySize: 3.94GiB deviceMemoryBandwidth: 208.91GiB/s\n",
      "2022-02-26 02:04:12.642080: I tensorflow/stream_executor/platform/default/dso_loader.cc:53] Successfully opened dynamic library libcudart.so.11.0\n",
      "2022-02-26 02:04:12.649798: I tensorflow/stream_executor/platform/default/dso_loader.cc:53] Successfully opened dynamic library libcublas.so.11\n",
      "2022-02-26 02:04:12.649869: I tensorflow/stream_executor/platform/default/dso_loader.cc:53] Successfully opened dynamic library libcublasLt.so.11\n",
      "2022-02-26 02:04:12.652738: I tensorflow/stream_executor/platform/default/dso_loader.cc:53] Successfully opened dynamic library libcufft.so.10\n",
      "2022-02-26 02:04:12.653838: I tensorflow/stream_executor/platform/default/dso_loader.cc:53] Successfully opened dynamic library libcurand.so.10\n",
      "2022-02-26 02:04:12.655248: I tensorflow/stream_executor/platform/default/dso_loader.cc:53] Successfully opened dynamic library libcusolver.so.11\n",
      "2022-02-26 02:04:12.657380: I tensorflow/stream_executor/platform/default/dso_loader.cc:53] Successfully opened dynamic library libcusparse.so.11\n",
      "2022-02-26 02:04:12.657737: I tensorflow/stream_executor/platform/default/dso_loader.cc:53] Successfully opened dynamic library libcudnn.so.8\n",
      "2022-02-26 02:04:12.662368: I tensorflow/core/common_runtime/gpu/gpu_device.cc:1871] Adding visible gpu devices: 0, 1\n",
      "2022-02-26 02:04:12.663102: I tensorflow/core/platform/cpu_feature_guard.cc:142] This TensorFlow binary is optimized with oneAPI Deep Neural Network Library (oneDNN) to use the following CPU instructions in performance-critical operations:  AVX2 FMA\n",
      "To enable them in other operations, rebuild TensorFlow with the appropriate compiler flags.\n",
      "2022-02-26 02:04:12.792763: I tensorflow/core/common_runtime/gpu/gpu_device.cc:1733] Found device 0 with properties: \n",
      "pciBusID: 0000:0a:00.0 name: NVIDIA GeForce RTX 3090 computeCapability: 8.6\n",
      "coreClock: 1.695GHz coreCount: 82 deviceMemorySize: 23.70GiB deviceMemoryBandwidth: 871.81GiB/s\n",
      "2022-02-26 02:04:12.793291: I tensorflow/core/common_runtime/gpu/gpu_device.cc:1733] Found device 1 with properties: \n",
      "pciBusID: 0000:42:00.0 name: NVIDIA GeForce GTX 970 computeCapability: 5.2\n",
      "coreClock: 1.253GHz coreCount: 13 deviceMemorySize: 3.94GiB deviceMemoryBandwidth: 208.91GiB/s\n",
      "2022-02-26 02:04:12.796967: I tensorflow/core/common_runtime/gpu/gpu_device.cc:1871] Adding visible gpu devices: 0, 1\n",
      "2022-02-26 02:04:12.797160: I tensorflow/stream_executor/platform/default/dso_loader.cc:53] Successfully opened dynamic library libcudart.so.11.0\n",
      "2022-02-26 02:04:13.602915: I tensorflow/core/common_runtime/gpu/gpu_device.cc:1258] Device interconnect StreamExecutor with strength 1 edge matrix:\n",
      "2022-02-26 02:04:13.602958: I tensorflow/core/common_runtime/gpu/gpu_device.cc:1264]      0 1 \n",
      "2022-02-26 02:04:13.602965: I tensorflow/core/common_runtime/gpu/gpu_device.cc:1277] 0:   N N \n",
      "2022-02-26 02:04:13.602969: I tensorflow/core/common_runtime/gpu/gpu_device.cc:1277] 1:   N N \n",
      "2022-02-26 02:04:13.606880: I tensorflow/core/common_runtime/gpu/gpu_device.cc:1418] Created TensorFlow device (/job:localhost/replica:0/task:0/device:GPU:0 with 22308 MB memory) -> physical GPU (device: 0, name: NVIDIA GeForce RTX 3090, pci bus id: 0000:0a:00.0, compute capability: 8.6)\n",
      "2022-02-26 02:04:13.608053: I tensorflow/core/common_runtime/gpu/gpu_device.cc:1418] Created TensorFlow device (/job:localhost/replica:0/task:0/device:GPU:1 with 3145 MB memory) -> physical GPU (device: 1, name: NVIDIA GeForce GTX 970, pci bus id: 0000:42:00.0, compute capability: 5.2)\n"
     ]
    }
   ],
   "source": [
    "# Functional model \n",
    "# Define an input sequence and process it.\n",
    "encoder_inputs = Input(shape=(max_encoder_seq_length, num_encoder_tokens))\n",
    "encoder_masking_layer = Masking(mask_value=0., input_shape=(max_encoder_seq_length, num_encoder_tokens))\n",
    "encoder_masked_inputs = encoder_masking_layer(encoder_inputs)\n",
    "encoder_1 = Bidirectional(LSTM(latent_dim, return_sequences=True, \n",
    "                               dropout=0.05, \n",
    "                               #kernel_regularizer=regularizers.l1_l2(l1=1e-5, l2=1e-4), \n",
    "                               #bias_regularizer=regularizers.l2(1e-4), \n",
    "                               #activity_regularizer=regularizers.l2(1e-5), \n",
    "                               input_shape=(max_encoder_seq_length, num_encoder_tokens)\n",
    "                               ))(encoder_masked_inputs)\n",
    "encoder_2 = Bidirectional(LSTM(latent_dim, return_sequences=True, \n",
    "                               dropout=0.05, \n",
    "                               #kernel_regularizer=regularizers.l1_l2(l1=1e-5, l2=1e-4), \n",
    "                               #bias_regularizer=regularizers.l2(1e-4), \n",
    "                               #activity_regularizer=regularizers.l2(1e-5)\n",
    "                               ))(encoder_1)\n",
    "encoder_3 = Bidirectional(LSTM(latent_dim, return_state=True, \n",
    "                               dropout=0.05,\n",
    "                               #kernel_regularizer=regularizers.l1_l2(l1=1e-5, l2=1e-4), \n",
    "                               #bias_regularizer=regularizers.l2(1e-4),\n",
    "                               #activity_regularizer=regularizers.l2(1e-5)\n",
    "                               ))\n",
    "encoder_outputs, forward_h, forward_c, backward_h, backward_c  = encoder_3(encoder_2)\n",
    "state_h = Concatenate()([forward_h, backward_h]) #Average()([forward_h, backward_h])\n",
    "state_c = Concatenate()([forward_c, backward_c]) #Average()([forward_c, backward_c])\n",
    "\n",
    "# We discard `encoder_outputs` and only keep the states.\n",
    "encoder_states = [state_h, state_c]\n",
    "\n",
    "# Set up the decoder, using `encoder_states` as initial state.\n",
    "decoder_inputs = Input(shape=(None, num_decoder_tokens))\n",
    "decoder_masking_layer = Masking(mask_value=0., input_shape=(None, num_decoder_tokens))\n",
    "decoder_masked_inputs = decoder_masking_layer(decoder_inputs)\n",
    "\n",
    "# We set up our decoder to return full output sequences,\n",
    "# and to return internal states as well. We don't use the\n",
    "# return states in the training model, but we will use them in inference.\n",
    "decoder_lstm = LSTM(latent_dim*2, return_sequences=True, return_state=True)  # *2 because of concat on Bidirectional\n",
    "decoder_output, final_memory_state, final_carry_state  = decoder_lstm(decoder_masked_inputs, initial_state=encoder_states)\n",
    "#decoder_dense = Dense(num_decoder_tokens, activation=\"softmax\") \n",
    "#decoder_outputs = decoder_dense(decoder_output)\n",
    "\n",
    "decoder_dense = Dense(num_decoder_tokens)(decoder_output)\n",
    "decoder_outputs = Activation('softmax', dtype='float32', name='predictions')(decoder_dense)\n"
   ]
  },
  {
   "cell_type": "code",
   "execution_count": 36,
   "metadata": {},
   "outputs": [
    {
     "name": "stdout",
     "output_type": "stream",
     "text": [
      "Model: \"model\"\n",
      "__________________________________________________________________________________________________\n",
      "Layer (type)                    Output Shape         Param #     Connected to                     \n",
      "==================================================================================================\n",
      "input_1 (InputLayer)            [(None, 71, 63)]     0                                            \n",
      "__________________________________________________________________________________________________\n",
      "masking (Masking)               (None, 71, 63)       0           input_1[0][0]                    \n",
      "__________________________________________________________________________________________________\n",
      "bidirectional (Bidirectional)   (None, 71, 512)      655360      masking[0][0]                    \n",
      "__________________________________________________________________________________________________\n",
      "bidirectional_1 (Bidirectional) (None, 71, 512)      1574912     bidirectional[0][0]              \n",
      "__________________________________________________________________________________________________\n",
      "input_2 (InputLayer)            [(None, None, 65)]   0                                            \n",
      "__________________________________________________________________________________________________\n",
      "bidirectional_2 (Bidirectional) [(None, 512), (None, 1574912     bidirectional_1[0][0]            \n",
      "__________________________________________________________________________________________________\n",
      "masking_1 (Masking)             (None, None, 65)     0           input_2[0][0]                    \n",
      "__________________________________________________________________________________________________\n",
      "concatenate (Concatenate)       (None, 512)          0           bidirectional_2[0][1]            \n",
      "                                                                 bidirectional_2[0][3]            \n",
      "__________________________________________________________________________________________________\n",
      "concatenate_1 (Concatenate)     (None, 512)          0           bidirectional_2[0][2]            \n",
      "                                                                 bidirectional_2[0][4]            \n",
      "__________________________________________________________________________________________________\n",
      "lstm_3 (LSTM)                   [(None, None, 512),  1183744     masking_1[0][0]                  \n",
      "                                                                 concatenate[0][0]                \n",
      "                                                                 concatenate_1[0][0]              \n",
      "__________________________________________________________________________________________________\n",
      "dense (Dense)                   (None, None, 65)     33345       lstm_3[0][0]                     \n",
      "__________________________________________________________________________________________________\n",
      "predictions (Activation)        (None, None, 65)     0           dense[0][0]                      \n",
      "==================================================================================================\n",
      "Total params: 5,022,273\n",
      "Trainable params: 5,022,273\n",
      "Non-trainable params: 0\n",
      "__________________________________________________________________________________________________\n"
     ]
    }
   ],
   "source": [
    "model = Model([encoder_inputs, decoder_inputs], decoder_outputs)\n",
    "model.summary()"
   ]
  },
  {
   "cell_type": "code",
   "execution_count": 37,
   "metadata": {},
   "outputs": [
    {
     "data": {
      "image/png": "[encoded data removed]",
      "text/plain": [
       "<IPython.core.display.Image object>"
      ]
     },
     "execution_count": 37,
     "metadata": {},
     "output_type": "execute_result"
    }
   ],
   "source": [
    "# Let us see the model in graphical form\n",
    "tf.keras.utils.plot_model(model, show_shapes=True, show_layer_names=True)"
   ]
  },
  {
   "cell_type": "markdown",
   "metadata": {
    "collapsed": true
   },
   "source": [
    "## Training the Model"
   ]
  },
  {
   "cell_type": "code",
   "execution_count": 38,
   "metadata": {},
   "outputs": [],
   "source": [
    "model.compile(\n",
    "    optimizer=\"rmsprop\", loss=\"categorical_crossentropy\", metrics=['accuracy']) \n",
    "# Alternatives: rmsprop, Adam (bad), Nadam (not good on multilayer)"
   ]
  },
  {
   "cell_type": "markdown",
   "metadata": {},
   "source": [
    "callback_stopping = EarlyStopping(monitor='val_accuracy', patience=10, restore_best_weights=True)\n",
    "lr_scheduler      = ReduceLROnPlateau(factor=0.6, patience=4)"
   ]
  },
  {
   "cell_type": "code",
   "execution_count": 39,
   "metadata": {},
   "outputs": [],
   "source": [
    "# Do not run this line if no weights are saved!\n",
    "#status = model.load_weights('weights') "
   ]
  },
  {
   "cell_type": "code",
   "execution_count": 40,
   "metadata": {},
   "outputs": [
    {
     "name": "stdout",
     "output_type": "stream",
     "text": [
      "Epoch: 1\n",
      "Lines to train on: 2005347\n",
      "Line start: 0  Line end:  100000\n"
     ]
    },
    {
     "name": "stderr",
     "output_type": "stream",
     "text": [
      "2022-02-26 02:04:38.370897: I tensorflow/compiler/mlir/mlir_graph_optimization_pass.cc:176] None of the MLIR Optimization Passes are enabled (registered 2)\n",
      "2022-02-26 02:04:38.391784: I tensorflow/core/platform/profile_utils/cpu_utils.cc:114] CPU Frequency: 2999620000 Hz\n",
      "2022-02-26 02:04:53.255613: I tensorflow/stream_executor/platform/default/dso_loader.cc:53] Successfully opened dynamic library libcudnn.so.8\n",
      "2022-02-26 02:04:53.853145: I tensorflow/stream_executor/cuda/cuda_dnn.cc:359] Loaded cuDNN version 8100\n",
      "2022-02-26 02:04:54.894460: I tensorflow/stream_executor/platform/default/dso_loader.cc:53] Successfully opened dynamic library libcublas.so.11\n",
      "2022-02-26 02:04:55.638265: I tensorflow/stream_executor/platform/default/dso_loader.cc:53] Successfully opened dynamic library libcublasLt.so.11\n",
      "2022-02-26 02:04:55.638336: I tensorflow/stream_executor/cuda/cuda_blas.cc:1838] TensorFloat-32 will be used for the matrix multiplication. This will only be logged once.\n"
     ]
    },
    {
     "name": "stdout",
     "output_type": "stream",
     "text": [
      "157/157 [==============================] - 42s 152ms/step - loss: 1.5032 - accuracy: 0.6165 - val_loss: 1.0570 - val_accuracy: 0.7216\n",
      "Line start: 100000  Line end:  200000\n",
      "157/157 [==============================] - 18s 114ms/step - loss: 0.7936 - accuracy: 0.7916 - val_loss: 0.6237 - val_accuracy: 0.8411\n",
      "Line start: 200000  Line end:  300000\n",
      "157/157 [==============================] - 18s 115ms/step - loss: 0.5010 - accuracy: 0.8685 - val_loss: 0.4224 - val_accuracy: 0.8859\n",
      "Line start: 300000  Line end:  400000\n",
      "157/157 [==============================] - 18s 115ms/step - loss: 0.3782 - accuracy: 0.8965 - val_loss: 0.3538 - val_accuracy: 0.9013\n",
      "Line start: 400000  Line end:  500000\n",
      "157/157 [==============================] - 18s 115ms/step - loss: 0.3186 - accuracy: 0.9108 - val_loss: 0.2940 - val_accuracy: 0.9168\n",
      "Line start: 500000  Line end:  600000\n",
      "157/157 [==============================] - 18s 113ms/step - loss: 0.2715 - accuracy: 0.9236 - val_loss: 0.2622 - val_accuracy: 0.9259\n",
      "Line start: 600000  Line end:  700000\n",
      "157/157 [==============================] - 18s 113ms/step - loss: 0.2367 - accuracy: 0.9334 - val_loss: 0.2153 - val_accuracy: 0.9391\n",
      "Line start: 700000  Line end:  800000\n",
      "157/157 [==============================] - 18s 114ms/step - loss: 0.2039 - accuracy: 0.9423 - val_loss: 0.1899 - val_accuracy: 0.9464\n",
      "Line start: 800000  Line end:  900000\n",
      "157/157 [==============================] - 18s 116ms/step - loss: 0.1737 - accuracy: 0.9505 - val_loss: 0.1616 - val_accuracy: 0.9536\n",
      "Line start: 900000  Line end:  1000000\n",
      "157/157 [==============================] - 18s 113ms/step - loss: 0.1461 - accuracy: 0.9583 - val_loss: 0.1250 - val_accuracy: 0.9646\n",
      "Line start: 1000000  Line end:  1100000\n",
      "157/157 [==============================] - 18s 114ms/step - loss: 0.1230 - accuracy: 0.9647 - val_loss: 0.1049 - val_accuracy: 0.9702\n",
      "Line start: 1100000  Line end:  1200000\n",
      "157/157 [==============================] - 18s 113ms/step - loss: 0.1042 - accuracy: 0.9700 - val_loss: 0.0876 - val_accuracy: 0.9746\n",
      "Line start: 1200000  Line end:  1300000\n",
      "157/157 [==============================] - 18s 113ms/step - loss: 0.0880 - accuracy: 0.9745 - val_loss: 0.0797 - val_accuracy: 0.9769\n",
      "Line start: 1300000  Line end:  1400000\n",
      "157/157 [==============================] - 18s 113ms/step - loss: 0.0776 - accuracy: 0.9775 - val_loss: 0.0705 - val_accuracy: 0.9797\n",
      "Line start: 1400000  Line end:  1500000\n",
      "157/157 [==============================] - 18s 113ms/step - loss: 0.0677 - accuracy: 0.9803 - val_loss: 0.0606 - val_accuracy: 0.9820\n",
      "Line start: 1500000  Line end:  1600000\n",
      "157/157 [==============================] - 18s 114ms/step - loss: 0.0608 - accuracy: 0.9824 - val_loss: 0.0641 - val_accuracy: 0.9814\n",
      "Line start: 1600000  Line end:  1700000\n",
      "157/157 [==============================] - 18s 113ms/step - loss: 0.0552 - accuracy: 0.9841 - val_loss: 0.0565 - val_accuracy: 0.9834\n",
      "Line start: 1700000  Line end:  1800000\n",
      "157/157 [==============================] - 18s 114ms/step - loss: 0.0501 - accuracy: 0.9856 - val_loss: 0.0482 - val_accuracy: 0.9859\n",
      "Line start: 1800000  Line end:  1900000\n",
      "157/157 [==============================] - 18s 117ms/step - loss: 0.0460 - accuracy: 0.9869 - val_loss: 0.0440 - val_accuracy: 0.9870\n",
      "Line start: 1900000  Line end:  2000000\n",
      "157/157 [==============================] - 18s 114ms/step - loss: 0.0431 - accuracy: 0.9878 - val_loss: 0.0414 - val_accuracy: 0.9883\n",
      "Line start: 1905347  Line end:  2005347\n",
      "157/157 [==============================] - 18s 114ms/step - loss: 0.0386 - accuracy: 0.9891 - val_loss: 0.0395 - val_accuracy: 0.9887\n",
      "Epoch: 2\n",
      "Lines to train on: 2005347\n",
      "Line start: 0  Line end:  100000\n",
      "157/157 [==============================] - 18s 113ms/step - loss: 0.0379 - accuracy: 0.9894 - val_loss: 0.0363 - val_accuracy: 0.9897\n",
      "Line start: 100000  Line end:  200000\n",
      "157/157 [==============================] - 18s 114ms/step - loss: 0.0353 - accuracy: 0.9901 - val_loss: 0.0344 - val_accuracy: 0.9902\n",
      "Line start: 200000  Line end:  300000\n",
      "157/157 [==============================] - 18s 114ms/step - loss: 0.0327 - accuracy: 0.9910 - val_loss: 0.0312 - val_accuracy: 0.9912\n",
      "Line start: 300000  Line end:  400000\n",
      "157/157 [==============================] - 18s 114ms/step - loss: 0.0310 - accuracy: 0.9915 - val_loss: 0.0368 - val_accuracy: 0.9893\n",
      "Line start: 400000  Line end:  500000\n",
      "157/157 [==============================] - 19s 117ms/step - loss: 0.0298 - accuracy: 0.9919 - val_loss: 0.0290 - val_accuracy: 0.9919\n",
      "Line start: 500000  Line end:  600000\n",
      "157/157 [==============================] - 18s 115ms/step - loss: 0.0280 - accuracy: 0.9924 - val_loss: 0.0295 - val_accuracy: 0.9920\n",
      "Line start: 600000  Line end:  700000\n",
      "157/157 [==============================] - 18s 113ms/step - loss: 0.0266 - accuracy: 0.9929 - val_loss: 0.0290 - val_accuracy: 0.9919\n",
      "Line start: 700000  Line end:  800000\n",
      "157/157 [==============================] - 18s 115ms/step - loss: 0.0259 - accuracy: 0.9931 - val_loss: 0.0272 - val_accuracy: 0.9925\n",
      "Line start: 800000  Line end:  900000\n",
      "157/157 [==============================] - 18s 113ms/step - loss: 0.0260 - accuracy: 0.9932 - val_loss: 0.0222 - val_accuracy: 0.9942\n",
      "Line start: 900000  Line end:  1000000\n",
      "157/157 [==============================] - 18s 113ms/step - loss: 0.0236 - accuracy: 0.9939 - val_loss: 0.0255 - val_accuracy: 0.9931\n",
      "Line start: 1000000  Line end:  1100000\n",
      "157/157 [==============================] - 18s 113ms/step - loss: 0.0230 - accuracy: 0.9940 - val_loss: 0.0262 - val_accuracy: 0.9928\n",
      "Line start: 1100000  Line end:  1200000\n",
      "157/157 [==============================] - 18s 113ms/step - loss: 0.0224 - accuracy: 0.9942 - val_loss: 0.0248 - val_accuracy: 0.9933\n",
      "Line start: 1200000  Line end:  1300000\n",
      "157/157 [==============================] - 18s 113ms/step - loss: 0.0211 - accuracy: 0.9945 - val_loss: 0.0259 - val_accuracy: 0.9930\n",
      "Line start: 1300000  Line end:  1400000\n",
      "157/157 [==============================] - 18s 112ms/step - loss: 0.0225 - accuracy: 0.9943 - val_loss: 0.0180 - val_accuracy: 0.9956\n",
      "Line start: 1400000  Line end:  1500000\n",
      "157/157 [==============================] - 18s 116ms/step - loss: 0.0198 - accuracy: 0.9950 - val_loss: 0.0195 - val_accuracy: 0.9949\n",
      "Line start: 1500000  Line end:  1600000\n",
      "157/157 [==============================] - 18s 113ms/step - loss: 0.0197 - accuracy: 0.9950 - val_loss: 0.0220 - val_accuracy: 0.9940\n",
      "Line start: 1600000  Line end:  1700000\n",
      "157/157 [==============================] - 18s 113ms/step - loss: 0.0189 - accuracy: 0.9953 - val_loss: 0.0190 - val_accuracy: 0.9951\n",
      "Line start: 1700000  Line end:  1800000\n",
      "157/157 [==============================] - 18s 113ms/step - loss: 0.0187 - accuracy: 0.9954 - val_loss: 0.0193 - val_accuracy: 0.9951\n",
      "Line start: 1800000  Line end:  1900000\n",
      "157/157 [==============================] - 18s 113ms/step - loss: 0.0178 - accuracy: 0.9956 - val_loss: 0.0181 - val_accuracy: 0.9954\n",
      "Line start: 1900000  Line end:  2000000\n",
      "157/157 [==============================] - 18s 112ms/step - loss: 0.0175 - accuracy: 0.9957 - val_loss: 0.0191 - val_accuracy: 0.9952\n",
      "Line start: 1905347  Line end:  2005347\n",
      "157/157 [==============================] - 18s 112ms/step - loss: 0.0165 - accuracy: 0.9960 - val_loss: 0.0201 - val_accuracy: 0.9947\n",
      "Epoch: 3\n",
      "Lines to train on: 2005347\n",
      "Line start: 0  Line end:  100000\n",
      "157/157 [==============================] - 18s 114ms/step - loss: 0.0170 - accuracy: 0.9958 - val_loss: 0.0163 - val_accuracy: 0.9960\n",
      "Line start: 100000  Line end:  200000\n",
      "157/157 [==============================] - 18s 112ms/step - loss: 0.0168 - accuracy: 0.9959 - val_loss: 0.0172 - val_accuracy: 0.9958\n",
      "Line start: 200000  Line end:  300000\n",
      "157/157 [==============================] - 18s 113ms/step - loss: 0.0160 - accuracy: 0.9961 - val_loss: 0.0167 - val_accuracy: 0.9959\n",
      "Line start: 300000  Line end:  400000\n",
      "157/157 [==============================] - 18s 114ms/step - loss: 0.0161 - accuracy: 0.9961 - val_loss: 0.0168 - val_accuracy: 0.9960\n",
      "Line start: 400000  Line end:  500000\n",
      "157/157 [==============================] - 18s 113ms/step - loss: 0.0158 - accuracy: 0.9962 - val_loss: 0.0162 - val_accuracy: 0.9960\n",
      "Line start: 500000  Line end:  600000\n"
     ]
    },
    {
     "name": "stdout",
     "output_type": "stream",
     "text": [
      "157/157 [==============================] - 18s 112ms/step - loss: 0.0155 - accuracy: 0.9963 - val_loss: 0.0158 - val_accuracy: 0.9961\n",
      "Line start: 600000  Line end:  700000\n",
      "157/157 [==============================] - 18s 112ms/step - loss: 0.0151 - accuracy: 0.9964 - val_loss: 0.0171 - val_accuracy: 0.9957\n",
      "Line start: 700000  Line end:  800000\n",
      "157/157 [==============================] - 18s 113ms/step - loss: 0.0153 - accuracy: 0.9964 - val_loss: 0.0145 - val_accuracy: 0.9965\n",
      "Line start: 800000  Line end:  900000\n",
      "157/157 [==============================] - 18s 113ms/step - loss: 0.0150 - accuracy: 0.9965 - val_loss: 0.0156 - val_accuracy: 0.9963\n",
      "Line start: 900000  Line end:  1000000\n",
      "157/157 [==============================] - 18s 112ms/step - loss: 0.0144 - accuracy: 0.9966 - val_loss: 0.0145 - val_accuracy: 0.9965\n",
      "Line start: 1000000  Line end:  1100000\n",
      "157/157 [==============================] - 18s 114ms/step - loss: 0.0144 - accuracy: 0.9966 - val_loss: 0.0163 - val_accuracy: 0.9959\n",
      "Line start: 1100000  Line end:  1200000\n",
      "157/157 [==============================] - 18s 112ms/step - loss: 0.0141 - accuracy: 0.9967 - val_loss: 0.0147 - val_accuracy: 0.9965\n",
      "Line start: 1200000  Line end:  1300000\n",
      "157/157 [==============================] - 18s 113ms/step - loss: 0.0138 - accuracy: 0.9968 - val_loss: 0.0144 - val_accuracy: 0.9965\n",
      "Line start: 1300000  Line end:  1400000\n",
      "157/157 [==============================] - 18s 114ms/step - loss: 0.0139 - accuracy: 0.9968 - val_loss: 0.0146 - val_accuracy: 0.9964\n",
      "Line start: 1400000  Line end:  1500000\n",
      "157/157 [==============================] - 20s 129ms/step - loss: 0.0134 - accuracy: 0.9969 - val_loss: 0.0144 - val_accuracy: 0.9965\n",
      "Line start: 1500000  Line end:  1600000\n",
      "157/157 [==============================] - 18s 113ms/step - loss: 0.0138 - accuracy: 0.9968 - val_loss: 0.0149 - val_accuracy: 0.9963\n",
      "Line start: 1600000  Line end:  1700000\n",
      "157/157 [==============================] - 18s 112ms/step - loss: 0.0132 - accuracy: 0.9969 - val_loss: 0.0133 - val_accuracy: 0.9968\n",
      "Line start: 1700000  Line end:  1800000\n",
      "157/157 [==============================] - 18s 114ms/step - loss: 0.0133 - accuracy: 0.9969 - val_loss: 0.0131 - val_accuracy: 0.9970\n",
      "Line start: 1800000  Line end:  1900000\n",
      "157/157 [==============================] - 18s 112ms/step - loss: 0.0131 - accuracy: 0.9970 - val_loss: 0.0141 - val_accuracy: 0.9967\n",
      "Line start: 1900000  Line end:  2000000\n",
      "157/157 [==============================] - 18s 112ms/step - loss: 0.0129 - accuracy: 0.9970 - val_loss: 0.0150 - val_accuracy: 0.9964\n",
      "Line start: 1905347  Line end:  2005347\n",
      "157/157 [==============================] - 18s 114ms/step - loss: 0.0120 - accuracy: 0.9973 - val_loss: 0.0134 - val_accuracy: 0.9967\n",
      "Epoch: 4\n",
      "Lines to train on: 2005347\n",
      "Line start: 0  Line end:  100000\n",
      "157/157 [==============================] - 18s 113ms/step - loss: 0.0128 - accuracy: 0.9970 - val_loss: 0.0128 - val_accuracy: 0.9970\n",
      "Line start: 100000  Line end:  200000\n",
      "157/157 [==============================] - 18s 112ms/step - loss: 0.0124 - accuracy: 0.9971 - val_loss: 0.0136 - val_accuracy: 0.9967\n",
      "Line start: 200000  Line end:  300000\n",
      "157/157 [==============================] - 18s 113ms/step - loss: 0.0122 - accuracy: 0.9972 - val_loss: 0.0144 - val_accuracy: 0.9965\n",
      "Line start: 300000  Line end:  400000\n",
      "157/157 [==============================] - 18s 112ms/step - loss: 0.0123 - accuracy: 0.9972 - val_loss: 0.0117 - val_accuracy: 0.9972\n",
      "Line start: 400000  Line end:  500000\n",
      "157/157 [==============================] - 18s 112ms/step - loss: 0.0125 - accuracy: 0.9971 - val_loss: 0.0131 - val_accuracy: 0.9969\n",
      "Line start: 500000  Line end:  600000\n",
      "157/157 [==============================] - 18s 114ms/step - loss: 0.0122 - accuracy: 0.9972 - val_loss: 0.0128 - val_accuracy: 0.9969\n",
      "Line start: 600000  Line end:  700000\n",
      "157/157 [==============================] - 18s 112ms/step - loss: 0.0120 - accuracy: 0.9972 - val_loss: 0.0123 - val_accuracy: 0.9971\n",
      "Line start: 700000  Line end:  800000\n",
      "157/157 [==============================] - 18s 112ms/step - loss: 0.0121 - accuracy: 0.9973 - val_loss: 0.0120 - val_accuracy: 0.9972\n",
      "Line start: 800000  Line end:  900000\n",
      "157/157 [==============================] - 18s 112ms/step - loss: 0.0120 - accuracy: 0.9973 - val_loss: 0.0116 - val_accuracy: 0.9973\n",
      "Line start: 900000  Line end:  1000000\n",
      "157/157 [==============================] - 18s 112ms/step - loss: 0.0117 - accuracy: 0.9974 - val_loss: 0.0117 - val_accuracy: 0.9973\n",
      "Line start: 1000000  Line end:  1100000\n",
      "157/157 [==============================] - 18s 112ms/step - loss: 0.0118 - accuracy: 0.9973 - val_loss: 0.0112 - val_accuracy: 0.9974\n",
      "Line start: 1100000  Line end:  1200000\n",
      "157/157 [==============================] - 18s 113ms/step - loss: 0.0116 - accuracy: 0.9974 - val_loss: 0.0122 - val_accuracy: 0.9973\n",
      "Line start: 1200000  Line end:  1300000\n",
      "157/157 [==============================] - 18s 113ms/step - loss: 0.0114 - accuracy: 0.9974 - val_loss: 0.0109 - val_accuracy: 0.9975\n",
      "Line start: 1300000  Line end:  1400000\n",
      "157/157 [==============================] - 18s 113ms/step - loss: 0.0116 - accuracy: 0.9974 - val_loss: 0.0110 - val_accuracy: 0.9975\n",
      "Line start: 1400000  Line end:  1500000\n",
      "157/157 [==============================] - 18s 112ms/step - loss: 0.0114 - accuracy: 0.9974 - val_loss: 0.0116 - val_accuracy: 0.9973\n",
      "Line start: 1500000  Line end:  1600000\n",
      "157/157 [==============================] - 18s 114ms/step - loss: 0.0115 - accuracy: 0.9974 - val_loss: 0.0112 - val_accuracy: 0.9975\n",
      "Line start: 1600000  Line end:  1700000\n",
      "157/157 [==============================] - 18s 113ms/step - loss: 0.0112 - accuracy: 0.9974 - val_loss: 0.0119 - val_accuracy: 0.9972\n",
      "Line start: 1700000  Line end:  1800000\n",
      "157/157 [==============================] - 18s 112ms/step - loss: 0.0110 - accuracy: 0.9975 - val_loss: 0.0104 - val_accuracy: 0.9977\n",
      "Line start: 1800000  Line end:  1900000\n",
      "157/157 [==============================] - 18s 112ms/step - loss: 0.0112 - accuracy: 0.9975 - val_loss: 0.0109 - val_accuracy: 0.9975\n",
      "Line start: 1900000  Line end:  2000000\n",
      "157/157 [==============================] - 18s 113ms/step - loss: 0.0109 - accuracy: 0.9975 - val_loss: 0.0108 - val_accuracy: 0.9976\n",
      "Line start: 1905347  Line end:  2005347\n",
      "157/157 [==============================] - 18s 112ms/step - loss: 0.0104 - accuracy: 0.9977 - val_loss: 0.0114 - val_accuracy: 0.9973\n",
      "Epoch: 5\n",
      "Lines to train on: 2005347\n",
      "Line start: 0  Line end:  100000\n",
      "157/157 [==============================] - 18s 112ms/step - loss: 0.0110 - accuracy: 0.9975 - val_loss: 0.0110 - val_accuracy: 0.9975\n",
      "Line start: 100000  Line end:  200000\n",
      "157/157 [==============================] - 18s 114ms/step - loss: 0.0113 - accuracy: 0.9974 - val_loss: 0.0108 - val_accuracy: 0.9975\n",
      "Line start: 200000  Line end:  300000\n",
      "157/157 [==============================] - 18s 113ms/step - loss: 0.0107 - accuracy: 0.9976 - val_loss: 0.0108 - val_accuracy: 0.9975\n",
      "Line start: 300000  Line end:  400000\n",
      "157/157 [==============================] - 18s 112ms/step - loss: 0.0109 - accuracy: 0.9976 - val_loss: 0.0105 - val_accuracy: 0.9977\n",
      "Line start: 400000  Line end:  500000\n",
      "157/157 [==============================] - 18s 113ms/step - loss: 0.0108 - accuracy: 0.9976 - val_loss: 0.0107 - val_accuracy: 0.9975\n",
      "Line start: 500000  Line end:  600000\n",
      "157/157 [==============================] - 18s 112ms/step - loss: 0.0106 - accuracy: 0.9976 - val_loss: 0.0105 - val_accuracy: 0.9976\n",
      "Line start: 600000  Line end:  700000\n",
      "157/157 [==============================] - 18s 113ms/step - loss: 0.0106 - accuracy: 0.9976 - val_loss: 0.0110 - val_accuracy: 0.9974\n",
      "Line start: 700000  Line end:  800000\n",
      "157/157 [==============================] - 18s 112ms/step - loss: 0.0106 - accuracy: 0.9976 - val_loss: 0.0104 - val_accuracy: 0.9976\n",
      "Line start: 800000  Line end:  900000\n",
      "157/157 [==============================] - 18s 112ms/step - loss: 0.0105 - accuracy: 0.9976 - val_loss: 0.0191 - val_accuracy: 0.9967\n",
      "Line start: 900000  Line end:  1000000\n",
      "157/157 [==============================] - 18s 112ms/step - loss: 0.0107 - accuracy: 0.9976 - val_loss: 0.0111 - val_accuracy: 0.9976\n",
      "Line start: 1000000  Line end:  1100000\n"
     ]
    },
    {
     "name": "stdout",
     "output_type": "stream",
     "text": [
      "157/157 [==============================] - 18s 112ms/step - loss: 0.0105 - accuracy: 0.9977 - val_loss: 0.0101 - val_accuracy: 0.9976\n",
      "Line start: 1100000  Line end:  1200000\n",
      "157/157 [==============================] - 18s 114ms/step - loss: 0.0105 - accuracy: 0.9977 - val_loss: 0.0105 - val_accuracy: 0.9976\n",
      "Line start: 1200000  Line end:  1300000\n",
      "157/157 [==============================] - 18s 111ms/step - loss: 0.0102 - accuracy: 0.9977 - val_loss: 0.0108 - val_accuracy: 0.9975\n",
      "Line start: 1300000  Line end:  1400000\n",
      "157/157 [==============================] - 18s 112ms/step - loss: 0.0101 - accuracy: 0.9978 - val_loss: 0.0102 - val_accuracy: 0.9977\n",
      "Line start: 1400000  Line end:  1500000\n",
      "157/157 [==============================] - 18s 112ms/step - loss: 0.0101 - accuracy: 0.9977 - val_loss: 0.0104 - val_accuracy: 0.9977\n",
      "Line start: 1500000  Line end:  1600000\n",
      "157/157 [==============================] - 18s 114ms/step - loss: 0.0102 - accuracy: 0.9977 - val_loss: 0.0100 - val_accuracy: 0.9978\n",
      "Line start: 1600000  Line end:  1700000\n",
      "157/157 [==============================] - 18s 113ms/step - loss: 0.0103 - accuracy: 0.9977 - val_loss: 0.0100 - val_accuracy: 0.9978\n",
      "Line start: 1700000  Line end:  1800000\n",
      "157/157 [==============================] - 18s 113ms/step - loss: 0.0101 - accuracy: 0.9977 - val_loss: 0.0099 - val_accuracy: 0.9977\n",
      "Line start: 1800000  Line end:  1900000\n",
      "157/157 [==============================] - 18s 116ms/step - loss: 0.0100 - accuracy: 0.9978 - val_loss: 0.0099 - val_accuracy: 0.9978\n",
      "Line start: 1900000  Line end:  2000000\n",
      "157/157 [==============================] - 18s 112ms/step - loss: 0.0098 - accuracy: 0.9978 - val_loss: 0.0095 - val_accuracy: 0.9978\n",
      "Line start: 1905347  Line end:  2005347\n",
      "157/157 [==============================] - 18s 113ms/step - loss: 0.0094 - accuracy: 0.9980 - val_loss: 0.0094 - val_accuracy: 0.9978\n"
     ]
    }
   ],
   "source": [
    "epoch_loop = 0\n",
    "val_accuracy_previous = 0\n",
    "break_counter = 0\n",
    "val_accuracy_list = []\n",
    "while epoch_loop < epochs:\n",
    "    epoch_loop += 1\n",
    "    print('Epoch:', epoch_loop)\n",
    "    abc=0\n",
    "    max_lines = len(lines)-1\n",
    "    print('Lines to train on:', max_lines)\n",
    "    outer_loop = np.ceil(max_lines/num_samples)  # Divide and round up (round up needed for small data sets to run)\n",
    "    if outer_loop == 1:\n",
    "        num_samples_in_loop = max_lines          # If max_lines is smaller than num_samples (small data sets)\n",
    "    else:\n",
    "        num_samples_in_loop = num_samples\n",
    "    text_offset = 0\n",
    "    while abc < outer_loop:\n",
    "        \n",
    "        text_offset = 0 + num_samples*abc\n",
    "        if text_offset + num_samples > max_lines:       # adjust last piece so that last num_samples fits\n",
    "            text_offset = max_lines - num_samples\n",
    "        print('Line start:', text_offset, ' Line end: ', text_offset+num_samples)\n",
    "        abc += 1\n",
    "        \n",
    "   \n",
    "        encoder_input_data, decoder_input_data, decoder_target_data = make_trainingdata( \n",
    "                    lines, text_offset, num_samples_in_loop, max_encoder_seq_length, \n",
    "                    num_encoder_tokens, max_decoder_seq_length, num_decoder_tokens)  #input_texts_in_loop,input_texts,                    target_texts\n",
    "                                                                              \n",
    "    \n",
    "        history = model.fit(\n",
    "        [encoder_input_data, decoder_input_data],\n",
    "        decoder_target_data,\n",
    "        batch_size=batch_size,\n",
    "        epochs=1, #epochs,\n",
    "        #callbacks=[callback_stopping, lr_scheduler], #, tensorboard_cb],\n",
    "        #verbose=2,\n",
    "        validation_split=0.2)\n",
    "        val_accuracy = history.history[\"val_accuracy\"][0]\n",
    "        val_accuracy_list.append(val_accuracy)\n",
    "        if val_accuracy_previous < val_accuracy:\n",
    "            val_accuracy_previous = val_accuracy\n",
    "            break_counter = 0\n",
    "            best_weights = model.get_weights()\n",
    "        else:\n",
    "            break_counter += 1\n",
    "        if break_counter == 20:\n",
    "            break\n",
    "    model.save_weights('weights220225')\n",
    "    if break_counter == 20:\n",
    "        model.set_weights(best_weights)\n",
    "        break    \n",
    "    \n",
    "        "
   ]
  },
  {
   "cell_type": "markdown",
   "metadata": {},
   "source": [
    "# Save weights\n",
    "model.save_weights('weights')"
   ]
  },
  {
   "cell_type": "code",
   "execution_count": 41,
   "metadata": {},
   "outputs": [
    {
     "name": "stdout",
     "output_type": "stream",
     "text": [
      "val_accuracy\n"
     ]
    },
    {
     "data": {
      "image/png": "[encoded data removed]",
      "text/plain": [
       "<Figure size 576x360 with 1 Axes>"
      ]
     },
     "metadata": {
      "needs_background": "light"
     },
     "output_type": "display_data"
    }
   ],
   "source": [
    "# Evaluate model\n",
    "print(\"val_accuracy\")\n",
    "pd.DataFrame(val_accuracy_list).plot(figsize=(8,5))\n",
    "plt.show()"
   ]
  },
  {
   "cell_type": "code",
   "execution_count": 42,
   "metadata": {},
   "outputs": [],
   "source": [
    "# Create the test data one hot vectors\n",
    "x_test1, x_test2, y_test = make_testdata(test_x, \n",
    "                           test_y, 0, len(test_x)-1,\n",
    "                           max_encoder_seq_length, num_encoder_tokens, max_decoder_seq_length, num_decoder_tokens) "
   ]
  },
  {
   "cell_type": "code",
   "execution_count": 43,
   "metadata": {},
   "outputs": [
    {
     "name": "stdout",
     "output_type": "stream",
     "text": [
      "6963/6963 [==============================] - 161s 22ms/step - loss: 0.0095 - accuracy: 0.9979\n",
      "Test loss: 0.009541474282741547\n",
      "Test accuracy: 0.9978694915771484\n"
     ]
    }
   ],
   "source": [
    "# If your gpu runs out of memory, you can try uncommenting line below, for a TF_GPU_ALLOCATOR=cuda_malloc_async\n",
    "#os.environ[\"TF_GPU_ALLOCATOR\"]=\"cuda_malloc_async\"\n",
    "\n",
    "score = model.evaluate([x_test1, x_test2], y_test)\n",
    "\n",
    "print('Test loss: {}'.format(score[0]))\n",
    "print('Test accuracy: {}'.format(score[1]))"
   ]
  },
  {
   "cell_type": "markdown",
   "metadata": {
    "collapsed": true
   },
   "source": [
    "## Fixing Custom Sentences"
   ]
  },
  {
   "cell_type": "code",
   "execution_count": 44,
   "metadata": {},
   "outputs": [],
   "source": [
    "# Change back to float32, to avoid errors when inferencing.\n",
    "# Mixed precision does not work on all versions of Tensorflow\n",
    "#policy = mixed_precision.Policy('float32')\n",
    "#mixed_precision.set_global_policy(policy) "
   ]
  },
  {
   "cell_type": "code",
   "execution_count": 45,
   "metadata": {},
   "outputs": [],
   "source": [
    "# Build a new encoder\n",
    "enc_inputs = Input(shape=(None, num_encoder_tokens))\n",
    "enc_masking_layer = Masking(mask_value=0., input_shape=(max_encoder_seq_length, num_encoder_tokens))\n",
    "enc_masked_inputs = enc_masking_layer(enc_inputs)\n",
    "enc_1 = Bidirectional(LSTM(latent_dim, return_sequences=True, \n",
    "                               dropout=0.1, \n",
    "                               #kernel_regularizer=regularizers.l1_l2(l1=1e-5, l2=1e-4), \n",
    "                               #bias_regularizer=regularizers.l2(1e-4), \n",
    "                               #activity_regularizer=regularizers.l2(1e-5), \n",
    "                               input_shape=(None, num_encoder_tokens)\n",
    "                               ))(enc_masked_inputs)\n",
    "\n",
    "enc_2 = Bidirectional(LSTM(latent_dim, return_sequences=True, \n",
    "                               dropout=0.1, \n",
    "                               #kernel_regularizer=regularizers.l1_l2(l1=1e-5, l2=1e-4), \n",
    "                               #bias_regularizer=regularizers.l2(1e-4), \n",
    "                               #activity_regularizer=regularizers.l2(1e-5),\n",
    "                               ))(enc_1)\n",
    "enc_3 = Bidirectional(LSTM(latent_dim, return_state=True, \n",
    "                               dropout=0.1,\n",
    "                               #kernel_regularizer=regularizers.l1_l2(l1=1e-5, l2=1e-4), \n",
    "                               #bias_regularizer=regularizers.l2(1e-4),\n",
    "                               #activity_regularizer=regularizers.l2(1e-5),\n",
    "                               ))\n",
    "\n",
    "enc_outputs, forw_h, forw_c, backw_h, backw_c  = enc_3(enc_2)\n",
    "st_h = Concatenate()([forw_h, backw_h]) \n",
    "st_c = Concatenate()([forw_c, backw_c]) \n",
    "enc_states = [st_h, st_c]\n",
    "enc_model = Model(enc_inputs, enc_states)"
   ]
  },
  {
   "cell_type": "code",
   "execution_count": 46,
   "metadata": {},
   "outputs": [
    {
     "name": "stdout",
     "output_type": "stream",
     "text": [
      "Model: \"model_1\"\n",
      "__________________________________________________________________________________________________\n",
      "Layer (type)                    Output Shape         Param #     Connected to                     \n",
      "==================================================================================================\n",
      "input_3 (InputLayer)            [(None, None, 63)]   0                                            \n",
      "__________________________________________________________________________________________________\n",
      "masking_2 (Masking)             (None, None, 63)     0           input_3[0][0]                    \n",
      "__________________________________________________________________________________________________\n",
      "bidirectional_3 (Bidirectional) (None, None, 512)    655360      masking_2[0][0]                  \n",
      "__________________________________________________________________________________________________\n",
      "bidirectional_4 (Bidirectional) (None, None, 512)    1574912     bidirectional_3[0][0]            \n",
      "__________________________________________________________________________________________________\n",
      "bidirectional_5 (Bidirectional) [(None, 512), (None, 1574912     bidirectional_4[0][0]            \n",
      "__________________________________________________________________________________________________\n",
      "concatenate_2 (Concatenate)     (None, 512)          0           bidirectional_5[0][1]            \n",
      "                                                                 bidirectional_5[0][3]            \n",
      "__________________________________________________________________________________________________\n",
      "concatenate_3 (Concatenate)     (None, 512)          0           bidirectional_5[0][2]            \n",
      "                                                                 bidirectional_5[0][4]            \n",
      "==================================================================================================\n",
      "Total params: 3,805,184\n",
      "Trainable params: 3,805,184\n",
      "Non-trainable params: 0\n",
      "__________________________________________________________________________________________________\n"
     ]
    },
    {
     "data": {
      "image/png": "[encoded data removed]",
      "text/plain": [
       "<IPython.core.display.Image object>"
      ]
     },
     "execution_count": 46,
     "metadata": {},
     "output_type": "execute_result"
    }
   ],
   "source": [
    "enc_model.summary()\n",
    "tf.keras.utils.plot_model(enc_model, show_shapes=True, show_layer_names=True)"
   ]
  },
  {
   "cell_type": "code",
   "execution_count": 47,
   "metadata": {},
   "outputs": [
    {
     "name": "stdout",
     "output_type": "stream",
     "text": [
      "input_1\n",
      "masking\n",
      "bidirectional\n",
      "bidirectional_1\n",
      "input_2\n",
      "bidirectional_2\n",
      "masking_1\n",
      "concatenate\n",
      "concatenate_1\n",
      "lstm_3\n",
      "dense\n",
      "predictions\n"
     ]
    }
   ],
   "source": [
    "for layer in model.layers:\n",
    "    print(layer.name)"
   ]
  },
  {
   "cell_type": "code",
   "execution_count": 48,
   "metadata": {},
   "outputs": [],
   "source": [
    "# Get the weights from the training model and set them in the inference model.\n",
    "# Not all layers have weights, get from those layers that have weights.\n",
    "enc_model.layers[2].set_weights(model.layers[2].get_weights())\n",
    "enc_model.layers[3].set_weights(model.layers[3].get_weights())\n",
    "enc_model.layers[4].set_weights(model.layers[5].get_weights())"
   ]
  },
  {
   "cell_type": "code",
   "execution_count": 49,
   "metadata": {},
   "outputs": [],
   "source": [
    "# Build a new decoder, with three inputs, and one output\n",
    "dec_inputs        = Input(shape=(None, num_decoder_tokens))\n",
    "dec_masking_layer = Masking(mask_value=0., input_shape=(None, num_decoder_tokens))\n",
    "dec_masked_inputs = dec_masking_layer(dec_inputs)\n",
    "dec_state_input_h = Input(shape=(latent_dim*2,)) # *2 because of concat on Bidirectional\n",
    "dec_state_input_c = Input(shape=(latent_dim*2,)) # *2 because of concat on Bidirectional\n",
    "dec_states_inputs = [dec_state_input_h, dec_state_input_c]\n",
    "# We set up our decoder to return full output sequences,\n",
    "# and to return internal states as well. We did not use the\n",
    "# return states in the training model, but we use them in inference.\n",
    "dec_lstm = LSTM(latent_dim*2, return_sequences=True, return_state=True)  # *2 because of concat on Bidirectional\n",
    "dec_output, final_memory_state, final_carry_state  = dec_lstm(dec_masked_inputs, initial_state=dec_states_inputs)\n",
    "dec_states = [final_memory_state, final_carry_state]                       \n",
    "\n",
    "dec_dense = Dense(num_decoder_tokens)(dec_output)\n",
    "dec_outputs = Activation('softmax', dtype='float32', name='predictions')(dec_dense)\n",
    "\n",
    "dec_model = Model(\n",
    "    [dec_inputs] + dec_states_inputs,\n",
    "    [dec_outputs] + dec_states)"
   ]
  },
  {
   "cell_type": "code",
   "execution_count": 50,
   "metadata": {},
   "outputs": [
    {
     "name": "stdout",
     "output_type": "stream",
     "text": [
      "Model: \"model_2\"\n",
      "__________________________________________________________________________________________________\n",
      "Layer (type)                    Output Shape         Param #     Connected to                     \n",
      "==================================================================================================\n",
      "input_4 (InputLayer)            [(None, None, 65)]   0                                            \n",
      "__________________________________________________________________________________________________\n",
      "masking_3 (Masking)             (None, None, 65)     0           input_4[0][0]                    \n",
      "__________________________________________________________________________________________________\n",
      "input_5 (InputLayer)            [(None, 512)]        0                                            \n",
      "__________________________________________________________________________________________________\n",
      "input_6 (InputLayer)            [(None, 512)]        0                                            \n",
      "__________________________________________________________________________________________________\n",
      "lstm_7 (LSTM)                   [(None, None, 512),  1183744     masking_3[0][0]                  \n",
      "                                                                 input_5[0][0]                    \n",
      "                                                                 input_6[0][0]                    \n",
      "__________________________________________________________________________________________________\n",
      "dense_1 (Dense)                 (None, None, 65)     33345       lstm_7[0][0]                     \n",
      "__________________________________________________________________________________________________\n",
      "predictions (Activation)        (None, None, 65)     0           dense_1[0][0]                    \n",
      "==================================================================================================\n",
      "Total params: 1,217,089\n",
      "Trainable params: 1,217,089\n",
      "Non-trainable params: 0\n",
      "__________________________________________________________________________________________________\n"
     ]
    },
    {
     "data": {
      "image/png": "[encoded data removed]",
      "text/plain": [
       "<IPython.core.display.Image object>"
      ]
     },
     "execution_count": 50,
     "metadata": {},
     "output_type": "execute_result"
    }
   ],
   "source": [
    "# Let us see the decoder model in graphical form\n",
    "dec_model.summary()\n",
    "tf.keras.utils.plot_model(dec_model, show_shapes=True, show_layer_names=True)"
   ]
  },
  {
   "cell_type": "code",
   "execution_count": 51,
   "metadata": {},
   "outputs": [
    {
     "name": "stdout",
     "output_type": "stream",
     "text": [
      "input_4\n",
      "masking_3\n",
      "input_5\n",
      "input_6\n",
      "lstm_7\n",
      "dense_1\n",
      "predictions\n"
     ]
    }
   ],
   "source": [
    "# Let us look att the names of the different layers\n",
    "for layer in dec_model.layers:\n",
    "    print(layer.name)"
   ]
  },
  {
   "cell_type": "code",
   "execution_count": 52,
   "metadata": {},
   "outputs": [],
   "source": [
    "# Get the weights from the model and set them in the decoder                      \n",
    "dec_model.layers[4].set_weights(model.layers[9].get_weights())\n",
    "dec_model.layers[5].set_weights(model.layers[10].get_weights())"
   ]
  },
  {
   "cell_type": "code",
   "execution_count": 53,
   "metadata": {},
   "outputs": [],
   "source": [
    "reverse_input_char_index = dict(\n",
    "    (i, char) for char, i in input_token_index.items())\n",
    "reverse_target_char_index = dict(\n",
    "    (i, char) for char, i in target_token_index.items())\n",
    "\n",
    "def decode_sequence(input_seq):\n",
    "    # Encode the input as state vectors.\n",
    "    states_value = enc_model.predict(input_seq)\n",
    "\n",
    "    # Generate empty target sequence of length 1.\n",
    "    target_seq = np.zeros((1, 1, num_decoder_tokens), dtype=\"float32\")\n",
    "    # Populate the first character of target sequence with the start character.\n",
    "    target_seq[0, 0, target_token_index['\\t']] = 1.\n",
    "\n",
    "    # Sampling loop for a batch of sequences\n",
    "    # (to simplify, here we assume a batch of size 1).\n",
    "    stop_condition = False\n",
    "    decoded_sentence = ''\n",
    "    while not stop_condition:\n",
    "        output_tokens, h, c = dec_model.predict(\n",
    "            [target_seq] + states_value)\n",
    "\n",
    "        # Sample a token\n",
    "        sampled_token_index = np.argmax(output_tokens[0, -1, :])\n",
    "        sampled_char = reverse_target_char_index[sampled_token_index]\n",
    "        decoded_sentence += sampled_char\n",
    "\n",
    "        # Exit condition: either hit max length\n",
    "        # or find stop character.\n",
    "        if (sampled_char == '\\n' or\n",
    "           len(decoded_sentence) > max_decoder_seq_length):\n",
    "            stop_condition = True\n",
    "\n",
    "        # Update the target sequence (of length 1).\n",
    "        target_seq = np.zeros((1, 1, num_decoder_tokens), dtype=\"float32\")\n",
    "        target_seq[0, 0, sampled_token_index] = 1.\n",
    "\n",
    "        # Update states\n",
    "        states_value = [h, c]\n",
    "\n",
    "    return decoded_sentence"
   ]
  },
  {
   "cell_type": "code",
   "execution_count": 54,
   "metadata": {},
   "outputs": [
    {
     "name": "stdout",
     "output_type": "stream",
     "text": [
      "\n",
      "From test set:\n",
      "-\n",
      "Input   sentence: Klimatförhållandena i området är arida.\n",
      "Decoded sentence: Klimatförhållandena i området är arida.\n",
      "\n",
      "-\n",
      "Input   sentence: På den tiden bodde han i Genua.\n",
      "Decoded sentence: På den tiden bodde han i Genua.\n",
      "\n",
      "-\n",
      "Input   sentence: Terrängen på Otok Olib är  platt.\n",
      "Decoded sentence: Terrängen på Otok Olib är platt.\n",
      "\n",
      "-\n",
      "Input   sentence: Elite Hockey Prospects.\n",
      "Decoded sentence: Elite Hockey Prospects.\n",
      "\n",
      "-\n",
      "Input   sentence: Arten är reproducerande i Sverige.\n",
      "Decoded sentence: Arten är reproducerande i Sverige.\n",
      "\n",
      "-\n",
      "Input   sentence: Klimatet i område tär tempererat.\n",
      "Decoded sentence: Klimatet i området är tempererat.\n",
      "\n",
      "-\n",
      "Input   sentence: Inlandsklimat råder i trakte.n\n",
      "Decoded sentence: Inlandsklimat råder i trakten.\n",
      "\n",
      "-\n",
      "Input   sentence: Punta Tasbapauni äär en udde i Honduras.\n",
      "Decoded sentence: Punta Tasbapauni är en udde i Honduras.\n",
      "\n",
      "-\n",
      "Input   sentence: Geografiskt ligger öarna i Melanesien.\n",
      "Decoded sentence: Geografiskt ligger öarna i Melanseien.\n",
      "\n",
      "-\n",
      "Input   sentence: Monte Wager liger på ön Isa Wager.\n",
      "Decoded sentence: Monte Wager ligger på ön Isa Wager.\n",
      "\n",
      "-\n",
      "Input   sentence: Snowcap Icefield ligger uppe på en höjd.\n",
      "Decoded sentence: Snowcap Icefield ligger uppe på en höjd.\n",
      "\n",
      "-\n",
      "Input   sentence: Bud Lake är en sjö i Kanada.\n",
      "Decoded sentence: Bud Lake är en sjö i Kanada.\n",
      "\n",
      "-\n",
      "Input   sentence: Medelhavsklimat råder i trakten.\n",
      "Decoded sentence: Medelhavsklimat råder i trakten.\n",
      "\n",
      "-\n",
      "Input   sentence: En historiaf rån Ådalarna.\n",
      "Decoded sentence: En historia från Ådalarna.\n",
      "\n",
      "-\n",
      "Input   sentence: Kustklimat råder i trkten.\n",
      "Decoded sentence: Kustklimat råder i trakten.\n",
      "\n",
      "-\n",
      "Input   sentence: Phou Talanien är ett berg i Las.\n",
      "Decoded sentence: Phou Talanien är ett berg i Laos.\n",
      "\n",
      "-\n",
      "Input   sentence: Kustklimat råder i trakten.\n",
      "Decoded sentence: Kustklimat råder i trakten.\n",
      "\n",
      "-\n",
      "Input   sentence: Inga underarter finns listade.\n",
      "Decoded sentence: Inga underarter finns listade.\n",
      "\n",
      "-\n",
      "Input   sentence: I trakten råder ett klalt ökenklimat.\n",
      "Decoded sentence: I trakten råder ett kallt ökenklimat.\n",
      "\n",
      "-\n",
      "Input   sentence: Puerto del Aire är en ort i Mexiko.\n",
      "Decoded sentence: Puerto del Aire är en ort i Mexiko.\n",
      "\n"
     ]
    }
   ],
   "source": [
    "print()\n",
    "print(\"From test set:\")\n",
    "for seq_index in range(20):\n",
    "    # Take one sequence (part of the test set)\n",
    "    # for trying out decoding.\n",
    "    input_seq = x_test1[seq_index: seq_index + 1]\n",
    "    decoded_sentence = decode_sequence(input_seq)\n",
    "    print('-')\n",
    "    print('Input   sentence:', test_x[seq_index])\n",
    "    print('Decoded sentence:', decoded_sentence)\n",
    "    "
   ]
  },
  {
   "cell_type": "code",
   "execution_count": null,
   "metadata": {},
   "outputs": [],
   "source": []
  }
 ],
 "metadata": {
  "anaconda-cloud": {},
  "kernelspec": {
   "display_name": "Python 3",
   "language": "python",
   "name": "python3"
  },
  "language_info": {
   "codemirror_mode": {
    "name": "ipython",
    "version": 3
   },
   "file_extension": ".py",
   "mimetype": "text/x-python",
   "name": "python",
   "nbconvert_exporter": "python",
   "pygments_lexer": "ipython3",
   "version": "3.9.7"
  }
 },
 "nbformat": 4,
 "nbformat_minor": 1
}
