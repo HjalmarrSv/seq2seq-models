{
 "cells": [
  {
   "cell_type": "markdown",
   "metadata": {},
   "source": [
    "#  A character embedding based seq2seq neural network\n",
    "## For using as spell-checker, grammar checker, etc."
   ]
  },
  {
   "cell_type": "markdown",
   "metadata": {},
   "source": [
    "The notebook is based on the [Spell-checker project](https://github.com/HjalmarrSv/Spell-Checker).\n",
    "\n",
    "Data can be found as on [Project Gutenberg](http://www.gutenberg.org/ebooks/search/?sort_order=downloads) or as cleaned wikipedia dumps. The neural net will learn, to repeat, that which is found in \"./books\" folder. The file, or files, will need to have one sentence per line.\n",
    "\n",
    "To save time for multiple runs, file are saved in folder \"./data\" and weights of the neural network are saved and reused. Note that reusing only works for the same symbol set and neural net configuration. If you have varying symbols in different data sets (books), run all of them at the same time (put them all in the books folder), and use the offset variable to chew through all of the data piece by piece."
   ]
  },
  {
   "cell_type": "markdown",
   "metadata": {},
   "source": [
    "Results:\n",
    "\n",
    "2000 K sentences, 10 to 40 letters.\n",
    "\n",
    "<table>\n",
    "<tr><td><td><td><td>Highest<td>scores<td>2M<td>sentences<td>(10-40)<td>\n",
    "<tr><td>dim<td>batch<td>tr_acc<td>val_acc<td>test_acc<td>dropout<td>trollsländeart**<td>Honduras***<td>Ådalarna***\n",
    "<tr><td>16 <td>2048 <td>99.94<td>99.58<td>97.38<td>0.1<td>trollsländeart<td>Honduras<td>alaran\n",
    "<tr><td>32<td>1024<td>99.89*<td>99.64<td>99.65<td>0.3<td>trollsländeart<td>Honduras<td>Ådalarna\n",
    "<tr><td>32<td>512<td>99.97<td>99.64<td>99.65<td>0.1<td>trollsländeart<td>Honduras<td>Ådalarna\n",
    "<tr><td>32<td>256<td>99.89*<td>99.66<td>99.66<td>0.2<td>trollsländeart<td>Honduras<td>Ådalarna\n",
    "<tr><td>32 <td>128<td>99.89<td>99.68<td>99.68<td>0.3<td>trollsländeart<td>Honduras<td>Ådalara   \n",
    "<tr><td>   <td>     <td>      <td>       <td>        <td>   <td>              <td>        <td>\n",
    "<tr><td><td>     <td>      <td>       <td>        <td>   <td>*manually stopped<td>       <td>**from training set\n",
    "<tr><td><td>     <td>      <td>       <td>        <td>0.3<td>= 0.1, 0.2, 0.3<td>        <td>***from test set\n",
    "<tr><td><td>     <td>      <td>       <td>        <td>0.2<td>=0.1, 0.15, 0.2<td>        <td>\n",
    "<tr><td><td>     <td>      <td>       <td>        <td>0.1<td>= 0.1, 0.1, 0.1<td>        <td>\n",
    "</table>    \n",
    "\n",
    "\n",
    "\n",
    "100 K sentences, 10 to 40 letters.\n",
    "\n",
    "<table>\n",
    "<tr><td><td><td><td>Highest<td>scores<td>100K<td>sentences<td>(10-40)<td>\n",
    "<tr><td>dim<td>batch<td>tr_acc<td>val_acc<td>test_acc<td>dropout<td>trollsländeart**<td>Honduras***<td>Ådalarna***\n",
    "<tr><td>1  <td>1024 <td>93.36*<td>88.67* <td>90.02   <td>0.3<td>kkagtagegktart<td>Spanien <td>\n",
    "<tr><td>1  <td>64   <td>98.82*<td>93.46* <td>        <td>0.3<td>              <td>        <td>\n",
    "<tr><td>2  <td>1024 <td>95.55 <td>90.88* <td>90.69   <td>0.3<td>trollalääxeart<td>Honduras<td>\n",
    "<tr><td>2  <td>64   <td>99.68 <td>94.84  <td>94.81   <td>0.3<td>trollsländeart<td>Honduras<td>Zalarvag\n",
    "<tr><td>4  <td>1024 <td>98.92 <td>94.31  <td>94.28   <td>0.3<td>trollsländeart<td>        <td>linassaalan\n",
    "<tr><td>4  <td>64   <td>99.91 <td>96.27  <td>96.25   <td>0.3<td>trollsländeart<td>Honduras<td>Maradagna\n",
    "<tr><td>8  <td>1024 <td>99.05 <td>94.26  <td>94.26   <td>0.3<td>trollsländeart<td>Colombia<td>svalmare\n",
    "<tr><td>8  <td>64   <td>99.99 <td>97.19  <td>97.19   <td>0.3<td>trollsländeart<td>Honduras<td>Våladran\n",
    "<tr><td>16 <td>1024 <td>99.81 <td>96.29  <td>96.26   <td>0.3<td>trollsländeart<td>Honduras<td>dinalar\n",
    "<tr><td>16 <td>128  <td>99.99 <td>98.06  <td>98.04   <td>0.3<td>trollsländeart<td>Honduras<td>Gåranal\n",
    "<tr><td>16 <td>64   <td>100.00<td>98.01  <td>98.01   <td>0.3<td>trollsländeart<td>Honduras<td>Panalar    \n",
    "<tr><td>32 <td>1024 <td>99.84 <td>97.32  <td>97.29   <td>0.3<td>trollsländeart<td>Honduras<td>mörlanada\n",
    "<tr><td>32 <td>128  <td>100.00<td>97.80  <td>97.80   <td>0.3<td>trollsländeart<td>Honduras<td>marnin\n",
    "<tr><td>32 <td>64   <td>100.00<td>98.57  <td>98.58   <td>0.3<td>trollsländeart<td>Honduras<td>Ödalarna\n",
    "<tr><td>32 <td>32   <td>100.00<td>98.37  <td>98.35   <td>0.3<td>trollsländeart<td>Honduras<td>dalarna    \n",
    "<tr><td>64 <td>1024 <td>99.67 <td>95.33  <td>95.28   <td>0.3<td>trollsländeart<td>Honduras<td>sandarn\n",
    "<tr><td>   <td>     <td>      <td>       <td>        <td>   <td>              <td>        <td>\n",
    "<tr><td><td>     <td>      <td>       <td>        <td>   <td>*average of 2 runs<td>       <td>**from training set\n",
    "<tr><td><td>     <td>      <td>       <td>        <td>   <td>                 <td>        <td>***from test set\n",
    "</table> "
   ]
  },
  {
   "cell_type": "markdown",
   "metadata": {},
   "source": [
    "## Load libraries"
   ]
  },
  {
   "cell_type": "code",
   "execution_count": 1,
   "metadata": {},
   "outputs": [
    {
     "name": "stderr",
     "output_type": "stream",
     "text": [
      "2022-01-20 10:56:45.350986: I tensorflow/stream_executor/platform/default/dso_loader.cc:53] Successfully opened dynamic library libcudart.so.11.0\n"
     ]
    }
   ],
   "source": [
    "import bz2\n",
    "from   collections                import namedtuple\n",
    "from   __future__                 import print_function\n",
    "import numpy                      as     np\n",
    "import os\n",
    "from   os                         import listdir\n",
    "from   os.path                    import isfile, join\n",
    "import pandas                     as     pd\n",
    "import matplotlib.pyplot          as plt\n",
    "import re\n",
    "from   sklearn.model_selection    import train_test_split\n",
    "import tensorflow                 as     tf\n",
    "from   tensorflow                 import keras\n",
    "from   tensorflow.keras           import mixed_precision, regularizers\n",
    "from   tensorflow.keras.callbacks import EarlyStopping\n",
    "from   tensorflow.keras.layers    import (Bidirectional, Concatenate, Dense, Embedding, Flatten,\n",
    "                                         GlobalAveragePooling1D, Input, LSTM)\n",
    "from   tensorflow.keras.models    import Model\n",
    "from   tensorflow.python.client   import device_lib\n",
    "import time"
   ]
  },
  {
   "cell_type": "code",
   "execution_count": 2,
   "metadata": {},
   "outputs": [],
   "source": [
    "batch_size  = 1024   # Limited by GPU memory. Larger is much faster, but uses more memory.\n",
    "output_dim  = 16     # Embedding dim\n",
    "epochs      = 500    # Number of epochs to train for. Smaller data sets\n",
    "                     # needs more runs than larger data sets. 1 is only\n",
    "                     # useful for testing. Less is better, an overtrained model is useless.\n",
    "input_dim   = 60     # time steps, ie number of letters\n",
    "\n",
    "max_length  = 60     # was 92 # Limit the data we will use to train our model\n",
    "min_length  = 10     # min/max on sentence lengths\n",
    "units       = 64\n",
    "output_size = 10\n",
    "latent_dim  = 256     # Latent dimensionality of the encoding space.\n",
    "num_samples = 2000000 # Number of samples to train on. Used with the offset variable you can chew through\n",
    "                      # large data sets, without using much memory. 100000\n",
    "threshold   = 0.95    # introduce 5 % errors, i.e. about once for every 20 chars.\n",
    "\n",
    "# Paths to subfolders\n",
    "path        = './books/'\n",
    "path_data   = './data/'"
   ]
  },
  {
   "cell_type": "markdown",
   "metadata": {},
   "source": [
    "## Uncomment to check hardware. Please note that a GPU is needed if you want to run anything but the smallest datasets."
   ]
  },
  {
   "cell_type": "code",
   "execution_count": 3,
   "metadata": {},
   "outputs": [],
   "source": [
    "# uncomment if you have GPU problems\n",
    "#physical_devices = tf.config.experimental.list_physical_devices('GPU')\n",
    "#tf.config.experimental.set_memory_growth(physical_devices[0], enable=True)"
   ]
  },
  {
   "cell_type": "code",
   "execution_count": 4,
   "metadata": {},
   "outputs": [],
   "source": [
    "# uncomment to see what hardware you have\n",
    "#print(device_lib.list_local_devices())"
   ]
  },
  {
   "cell_type": "code",
   "execution_count": 5,
   "metadata": {},
   "outputs": [],
   "source": [
    "# For loading of books, encoding needs to be defined \n",
    "# for other os than linux.\n",
    "\n",
    "def load_book(path):\n",
    "    \"\"\"Load a book from its file\"\"\"\n",
    "    input_file = os.path.join(path)\n",
    "    with open(input_file, encoding='utf-8') as f:\n",
    "        book = f.read()\n",
    "    return book\n",
    "\n",
    "# For loading of precomputed data\n",
    "def load_data(file, path):\n",
    "    \"\"\"Load data from its file\"\"\"\n",
    "    loaded_data = []\n",
    "    input_file = os.path.join(path, file)\n",
    "    print (input_file)\n",
    "    # Load and decompress data from file\n",
    "    with bz2.open(\"./data/sentences.bz2\", \"rt\") as f:\n",
    "        loaded_data = f.read()\n",
    "    return loaded_data\n",
    "\n",
    "def load_vocab_input(file, path):\n",
    "    \"\"\"Load data from its file\"\"\"\n",
    "    input_characters = set()\n",
    "    input_file = os.path.join(path, file)\n",
    "    # Load and decompress data from file\n",
    "    with bz2.open(\"./data/vocab_input.bz2\", \"rt\") as f:\n",
    "        loaded_data = f.read()\n",
    "    for char in loaded_data:\n",
    "        input_characters.add(char)\n",
    "    return input_characters\n",
    "\n",
    "def load_vocab_target(file, path):\n",
    "    \"\"\"Load data from its file\"\"\"\n",
    "    target_characters = set()\n",
    "    input_file = os.path.join(path, file)\n",
    "    # Load and decompress data from file\n",
    "    with bz2.open(\"./data/vocab_target.bz2\", \"rt\") as f:\n",
    "        loaded_data = f.read()\n",
    "    for char in loaded_data:\n",
    "        target_characters.add(char)\n",
    "    return target_characters"
   ]
  },
  {
   "cell_type": "code",
   "execution_count": 6,
   "metadata": {},
   "outputs": [],
   "source": [
    "def make_trainingdata (inp_texts, targ_texts, text_offset, num_samples, \n",
    "                       max_encoder_seq_length, num_encoder_tokens, max_decoder_seq_length, num_decoder_tokens):\n",
    "    # not one hot\n",
    "    enc_input_data = np.zeros(\n",
    "        (num_samples, max_encoder_seq_length), dtype=\"float32\"   #len(inp_texts)\n",
    "    )\n",
    "    dec_input_data = np.zeros(\n",
    "        (num_samples, max_decoder_seq_length), dtype=\"float32\"   #len(inp_texts)\n",
    "    )\n",
    "    # one hot\n",
    "    dec_target_data = np.zeros(\n",
    "        (num_samples, max_decoder_seq_length, num_decoder_tokens), dtype=\"float32\"   #len(inp_texts)\n",
    "    )\n",
    "\n",
    "    # not one hot\n",
    "    for i, (input_text, target_text) in enumerate(zip(inp_texts, targ_texts)):\n",
    "        for t, char in enumerate(input_text):\n",
    "            enc_input_data[i, t] = input_token_index[char]\n",
    "        enc_input_data[i, t + 1] = input_token_index[\" \"]\n",
    "        for t, char in enumerate(target_text):\n",
    "            # decoder_target_data is ahead of decoder_input_data by one timestep\n",
    "            dec_input_data[i, t] = target_token_index[char]\n",
    "            if t > 0:\n",
    "                # decoder_target_data will be ahead by one timestep\n",
    "                # and will not include the start character.\n",
    "                # one hot + not one hot\n",
    "                dec_target_data[i, t - 1, target_token_index[char]] = 1.0\n",
    "        dec_input_data[i, t + 1] = target_token_index[\" \"]\n",
    "        # one hot\n",
    "        dec_target_data[i, t:, target_token_index[\" \"]] = 1.0\n",
    "    return enc_input_data, dec_input_data, dec_target_data"
   ]
  },
  {
   "cell_type": "code",
   "execution_count": 7,
   "metadata": {},
   "outputs": [
    {
     "name": "stdout",
     "output_type": "stream",
     "text": [
      "./data/sentences.bz2\n",
      "Loaded sentences.\n",
      "Loaded vocab_input.\n",
      "Loaded vocab_target.\n"
     ]
    }
   ],
   "source": [
    "# Global variables\n",
    "# Check if data files exists\n",
    "# Using try is a cheat. Properly done the code would check if flie exists.\n",
    "try:\n",
    "    loaded_data = load_data('sentences.bz2', path_data)\n",
    "    sentences_exist = True\n",
    "    print('Loaded sentences.')\n",
    "    sentences = []\n",
    "    for line in loaded_data.splitlines():\n",
    "        sentences.append(line)\n",
    "except:\n",
    "    sentences_exist = False\n",
    "    print('No sentences found to load. Going to load books.')\n",
    "    \n",
    "try:\n",
    "    vocab_input = load_vocab_input('vocab_input.bz2', path_data)\n",
    "    vocab_input_exists = True\n",
    "    print('Loaded vocab_input.')\n",
    "    vocab_target = load_vocab_target('vocab_target.bz2', path_data)\n",
    "    print('Loaded vocab_target.')\n",
    "    vocab_target_exists = True\n",
    "except:\n",
    "    vocab_target_exists = vocab_input_exists = False"
   ]
  },
  {
   "cell_type": "markdown",
   "metadata": {},
   "source": [
    "## Define file loading functions"
   ]
  },
  {
   "cell_type": "code",
   "execution_count": 8,
   "metadata": {},
   "outputs": [],
   "source": [
    "# Collect all of the book file names\n",
    "if sentences_exist == False:\n",
    "    book_files = [f for f in listdir(path) if isfile(join(path, f))]\n",
    "    book_files = book_files[0:]"
   ]
  },
  {
   "cell_type": "code",
   "execution_count": 9,
   "metadata": {},
   "outputs": [],
   "source": [
    "# Load the books using the file names\n",
    "if sentences_exist == False:\n",
    "    books = []\n",
    "    for book in book_files:\n",
    "        books.append(load_book(path+book))"
   ]
  },
  {
   "cell_type": "code",
   "execution_count": 10,
   "metadata": {},
   "outputs": [],
   "source": [
    "# Compare the number of words in each book \n",
    "if sentences_exist == False:\n",
    "    for i in range(len(books)):\n",
    "        print(\"There are {} words in {}.\".format(len(books[i].split()), book_files[i]))\n"
   ]
  },
  {
   "cell_type": "code",
   "execution_count": 11,
   "metadata": {},
   "outputs": [],
   "source": [
    "# Check to ensure the text looks alright\n",
    "if sentences_exist == False:\n",
    "    print(books[0][:500],\"/.../\")"
   ]
  },
  {
   "cell_type": "markdown",
   "metadata": {},
   "source": [
    "## Preparing the Data"
   ]
  },
  {
   "cell_type": "code",
   "execution_count": 12,
   "metadata": {},
   "outputs": [],
   "source": [
    "def clean_text(text):\n",
    "    '''Remove unwanted characters and extra spaces from the text'''\n",
    "    # The following have to be removed:\n",
    "    # \\x01 used as padding char\n",
    "    # \\t used as start char\n",
    "    # \\n used as end char\n",
    "    #text = re.sub(r'\\n', ' ', text) \n",
    "    text = re.sub(r'[{}@_*>()\\\\#%+=\\[\\]]','', text)\n",
    "    text = re.sub('a0','', text)\n",
    "    text = re.sub('\\'92t','\\'t', text)\n",
    "    text = re.sub('\\'92s','\\'s', text)\n",
    "    text = re.sub('\\'92m','\\'m', text)\n",
    "    text = re.sub('\\'92ll','\\'ll', text)\n",
    "    text = re.sub('\\'91','', text)\n",
    "    text = re.sub('\\'92','', text)\n",
    "    text = re.sub('\\'93','', text)\n",
    "    text = re.sub('\\'94','', text)\n",
    "    #text = re.sub('\\.','. ', text)\n",
    "    #text = re.sub('\\!','! ', text)\n",
    "    #text = re.sub('\\?','? ', text)\n",
    "    text = re.sub(' +',' ', text)\n",
    "    #text = [text.islower()]\n",
    "    return text"
   ]
  },
  {
   "cell_type": "code",
   "execution_count": 13,
   "metadata": {},
   "outputs": [],
   "source": [
    "# Clean the text of the books\n",
    "if sentences_exist == False:\n",
    "    clean_books = []\n",
    "    for book in books:\n",
    "        clean_books.append(clean_text(book))"
   ]
  },
  {
   "cell_type": "code",
   "execution_count": 14,
   "metadata": {},
   "outputs": [],
   "source": [
    "# Check to ensure the text has been cleaned properly\n",
    "if sentences_exist == False:\n",
    "    print(clean_books[0][:500],\"/.../\")"
   ]
  },
  {
   "cell_type": "code",
   "execution_count": 15,
   "metadata": {},
   "outputs": [],
   "source": [
    "# Split the text from the books into sentences.\n",
    "# Choose whether only lower case or not below.\n",
    "if sentences_exist == False:\n",
    "    sentences = []\n",
    "    save_sentences = \"\"\n",
    "    for book in clean_books:\n",
    "        for sentence in book.splitlines():\n",
    "            #sentence = sentence.lower() # lower case to halve the nr of symbols\n",
    "            sentences.append(sentence)\n",
    "            save_sentences += (sentence + '\\n')\n",
    "    print(\"There are {} sentences.\".format(len(sentences)))\n",
    "    # Write compressed data to file\n",
    "    with bz2.open(\"./data/sentences.bz2\", \"wt\") as bzip_file:\n",
    "        unused = bzip_file.write(save_sentences)\n",
    "        #unused = bzip_file.write(save_sentences.encode())     \n",
    "        # encoding=’utf8′, errors=’strict’\n",
    "    save_sentences = \"\""
   ]
  },
  {
   "cell_type": "code",
   "execution_count": 16,
   "metadata": {},
   "outputs": [
    {
     "name": "stdout",
     "output_type": "stream",
     "text": [
      "['I ändelser kan även u och o kvarstå.', 'Här säger man alltså skojin och sättjin.', 'Den har runt ansikte med runda ögon.', 'Kroppen är kort och kraftig.', 'Scottish fold är lugna och vänliga.']\n"
     ]
    }
   ],
   "source": [
    "# Check to ensure the text has been split correctly.\n",
    "print(sentences[:5])"
   ]
  },
  {
   "cell_type": "code",
   "execution_count": 17,
   "metadata": {},
   "outputs": [],
   "source": [
    "# Find the length of each sentence\n",
    "lengths = []\n",
    "for sentence in sentences:\n",
    "    lengths.append(len(sentence))\n",
    "lengths = pd.DataFrame(lengths, columns=[\"counts\"])"
   ]
  },
  {
   "cell_type": "code",
   "execution_count": 18,
   "metadata": {},
   "outputs": [
    {
     "data": {
      "text/html": [
       "<div>\n",
       "<style scoped>\n",
       "    .dataframe tbody tr th:only-of-type {\n",
       "        vertical-align: middle;\n",
       "    }\n",
       "\n",
       "    .dataframe tbody tr th {\n",
       "        vertical-align: top;\n",
       "    }\n",
       "\n",
       "    .dataframe thead th {\n",
       "        text-align: right;\n",
       "    }\n",
       "</style>\n",
       "<table border=\"1\" class=\"dataframe\">\n",
       "  <thead>\n",
       "    <tr style=\"text-align: right;\">\n",
       "      <th></th>\n",
       "      <th>counts</th>\n",
       "    </tr>\n",
       "  </thead>\n",
       "  <tbody>\n",
       "    <tr>\n",
       "      <th>count</th>\n",
       "      <td>2.228165e+06</td>\n",
       "    </tr>\n",
       "    <tr>\n",
       "      <th>mean</th>\n",
       "      <td>3.364417e+01</td>\n",
       "    </tr>\n",
       "    <tr>\n",
       "      <th>std</th>\n",
       "      <td>4.520924e+00</td>\n",
       "    </tr>\n",
       "    <tr>\n",
       "      <th>min</th>\n",
       "      <td>1.000000e+01</td>\n",
       "    </tr>\n",
       "    <tr>\n",
       "      <th>25%</th>\n",
       "      <td>3.000000e+01</td>\n",
       "    </tr>\n",
       "    <tr>\n",
       "      <th>50%</th>\n",
       "      <td>3.400000e+01</td>\n",
       "    </tr>\n",
       "    <tr>\n",
       "      <th>75%</th>\n",
       "      <td>3.800000e+01</td>\n",
       "    </tr>\n",
       "    <tr>\n",
       "      <th>max</th>\n",
       "      <td>4.000000e+01</td>\n",
       "    </tr>\n",
       "  </tbody>\n",
       "</table>\n",
       "</div>"
      ],
      "text/plain": [
       "             counts\n",
       "count  2.228165e+06\n",
       "mean   3.364417e+01\n",
       "std    4.520924e+00\n",
       "min    1.000000e+01\n",
       "25%    3.000000e+01\n",
       "50%    3.400000e+01\n",
       "75%    3.800000e+01\n",
       "max    4.000000e+01"
      ]
     },
     "execution_count": 18,
     "metadata": {},
     "output_type": "execute_result"
    }
   ],
   "source": [
    "lengths.describe()"
   ]
  },
  {
   "cell_type": "code",
   "execution_count": 19,
   "metadata": {},
   "outputs": [
    {
     "name": "stdout",
     "output_type": "stream",
     "text": [
      "We will use 2228165 sentences to train and test our model.\n"
     ]
    }
   ],
   "source": [
    "# Get the chosen length of sentences\n",
    "good_sentences = []\n",
    "\n",
    "for sentence in sentences:\n",
    "    if len(sentence) <= max_length and len(sentence) >= min_length:\n",
    "        good_sentences.append(sentence)\n",
    "\n",
    "# Find the length of each sentence\n",
    "lengths = []\n",
    "for sentence in good_sentences:\n",
    "    lengths.append(len(sentence))\n",
    "lengths = pd.DataFrame(lengths, columns=[\"counts\"])\n",
    "print(\"We will use {} sentences to train and test our model.\".format(len(good_sentences)))"
   ]
  },
  {
   "cell_type": "code",
   "execution_count": 20,
   "metadata": {},
   "outputs": [
    {
     "data": {
      "text/html": [
       "<div>\n",
       "<style scoped>\n",
       "    .dataframe tbody tr th:only-of-type {\n",
       "        vertical-align: middle;\n",
       "    }\n",
       "\n",
       "    .dataframe tbody tr th {\n",
       "        vertical-align: top;\n",
       "    }\n",
       "\n",
       "    .dataframe thead th {\n",
       "        text-align: right;\n",
       "    }\n",
       "</style>\n",
       "<table border=\"1\" class=\"dataframe\">\n",
       "  <thead>\n",
       "    <tr style=\"text-align: right;\">\n",
       "      <th></th>\n",
       "      <th>counts</th>\n",
       "    </tr>\n",
       "  </thead>\n",
       "  <tbody>\n",
       "    <tr>\n",
       "      <th>count</th>\n",
       "      <td>2.228165e+06</td>\n",
       "    </tr>\n",
       "    <tr>\n",
       "      <th>mean</th>\n",
       "      <td>3.364417e+01</td>\n",
       "    </tr>\n",
       "    <tr>\n",
       "      <th>std</th>\n",
       "      <td>4.520924e+00</td>\n",
       "    </tr>\n",
       "    <tr>\n",
       "      <th>min</th>\n",
       "      <td>1.000000e+01</td>\n",
       "    </tr>\n",
       "    <tr>\n",
       "      <th>25%</th>\n",
       "      <td>3.000000e+01</td>\n",
       "    </tr>\n",
       "    <tr>\n",
       "      <th>50%</th>\n",
       "      <td>3.400000e+01</td>\n",
       "    </tr>\n",
       "    <tr>\n",
       "      <th>75%</th>\n",
       "      <td>3.800000e+01</td>\n",
       "    </tr>\n",
       "    <tr>\n",
       "      <th>max</th>\n",
       "      <td>4.000000e+01</td>\n",
       "    </tr>\n",
       "  </tbody>\n",
       "</table>\n",
       "</div>"
      ],
      "text/plain": [
       "             counts\n",
       "count  2.228165e+06\n",
       "mean   3.364417e+01\n",
       "std    4.520924e+00\n",
       "min    1.000000e+01\n",
       "25%    3.000000e+01\n",
       "50%    3.400000e+01\n",
       "75%    3.800000e+01\n",
       "max    4.000000e+01"
      ]
     },
     "execution_count": 20,
     "metadata": {},
     "output_type": "execute_result"
    }
   ],
   "source": [
    "lengths.describe()"
   ]
  },
  {
   "cell_type": "code",
   "execution_count": 21,
   "metadata": {},
   "outputs": [
    {
     "name": "stdout",
     "output_type": "stream",
     "text": [
      "Number of training sentences: 2005348\n",
      "Number of testing sentences:  222817\n"
     ]
    }
   ],
   "source": [
    "# Split the data into training and testing sentences (testing is for\n",
    "# inferencing). There will be three data sets; training which is split\n",
    "# into training and validation during fit, and testing for inferencing.\n",
    "# Note that inferencing does not use the test set, as of yet.\n",
    "training, testing = train_test_split(good_sentences, test_size = 0.1, random_state = 2)\n",
    "\n",
    "print(\"Number of training sentences:\", len(training))\n",
    "print(\"Number of testing sentences: \", len(testing))"
   ]
  },
  {
   "cell_type": "code",
   "execution_count": 22,
   "metadata": {},
   "outputs": [],
   "source": [
    "letters = ['a','b','c','d','e','f','g','h','i','j','k','l','m','n','o',\n",
    "           'p','q','r','s','t','u','v','w','x','y','z','å','ä','ö',' ','.']\n",
    "\n",
    "# Note that caps and numbers are not introduced as errors, because the data does not contain them.\n",
    "#           'A','B','C','D','E','F','G','H','I','J','K','L','M','N','O','P',\n",
    "#           'Q','R','S','T','U','V','X','Y','Z','Å','Ä','Ö',\n",
    "\n",
    "def noise_maker(sentence, threshold):\n",
    "    '''Relocate, remove, or add characters to create spelling mistakes'''\n",
    "    noisy_sentence = \"\"\n",
    "    i = 0\n",
    "    while i < len(sentence):\n",
    "        random = np.random.uniform(0,1,1)\n",
    "        # Most characters will be correct since the threshold value is high\n",
    "        if random < threshold:\n",
    "            noisy_sentence+=sentence[i]\n",
    "        else:\n",
    "            new_random = np.random.uniform(0,1,1)\n",
    "            # ~20% chance characters will swap locations\n",
    "            if new_random > 0.8:\n",
    "                if i == (len(sentence) - 1):\n",
    "                    # If last character in sentence, it will not be typed\n",
    "                    continue\n",
    "                else:\n",
    "                    # if any other character, swap order with following character\n",
    "                    noisy_sentence+=sentence[i+1]\n",
    "                    noisy_sentence+=sentence[i]\n",
    "                    i += 1\n",
    "            # ~20% chance an extra letter will be added to the sentence\n",
    "            elif new_random > 0.60:\n",
    "                noisy_sentence+=sentence[i]\n",
    "                noisy_sentence+=sentence[i]\n",
    "                #random_letter = np.random.choice(letters, 1)[0]\n",
    "                #noisy_sentence.append(vocab_to_int[random_letter])\n",
    "            # ~40% chance a letter will be substituted for another\n",
    "            elif new_random > 0.20:\n",
    "                noisy_sentence+=sentence[i]\n",
    "                #random_letter = np.random.choice(letters, 1)[0]\n",
    "                #noisy_sentence.append(vocab_to_int[random_letter])\n",
    "            # 20% chance a character will not be typed\n",
    "            else:\n",
    "                pass     \n",
    "        i += 1\n",
    "    return noisy_sentence"
   ]
  },
  {
   "cell_type": "markdown",
   "metadata": {},
   "source": [
    "*Note: The noise_maker function is used to create spelling mistakes that are similar to those we would make. Sometimes we forget to type a letter, type a letter in the wrong location, or add an extra letter.*"
   ]
  },
  {
   "cell_type": "code",
   "execution_count": 23,
   "metadata": {},
   "outputs": [
    {
     "name": "stdout",
     "output_type": "stream",
     "text": [
      "Lac Gatelier är en sjö i Kanada.\n",
      "Lac Gatelier är en sjö i Kanada.\n",
      "\n",
      "Medelhavsklimat råder i trakten.\n",
      "Medelhavsklimatt råder it rakten..\n",
      "\n",
      "Falls Brook är ett vattendrag i Kanada.\n",
      "Falls Broo är ett vatttendrg i Kaanada.\n",
      "\n",
      "Orijärvi är en sjö i Finland.\n",
      "Orijärvii är en sjö i Finland.\n",
      "\n",
      "Tejgaon är en ort i Bangladesh.\n",
      "Tejagon är en ort i Banglaadeh.\n",
      "\n"
     ]
    }
   ],
   "source": [
    "# Check to ensure noise_maker is making mistakes correctly.\n",
    "\n",
    "for sentence in training[:5]:\n",
    "    print(sentence)\n",
    "    print(noise_maker(sentence, threshold))\n",
    "    print()"
   ]
  },
  {
   "cell_type": "markdown",
   "metadata": {
    "collapsed": true
   },
   "source": [
    "# the Model data"
   ]
  },
  {
   "cell_type": "markdown",
   "metadata": {},
   "source": [
    "## Initialize and save space"
   ]
  },
  {
   "cell_type": "code",
   "execution_count": 24,
   "metadata": {},
   "outputs": [],
   "source": [
    "input_texts = []\n",
    "target_texts = []\n",
    "\n",
    "if vocab_target_exists:\n",
    "    target_characters = vocab_target\n",
    "    target_characters = sorted(list(target_characters))\n",
    "else: \n",
    "    target_characters = set()\n",
    "    target_characters.add(chr(1)) # to reserve first spot, 0, for padding\n",
    "\n",
    "if vocab_input_exists:\n",
    "    input_characters = vocab_input\n",
    "    input_characters = sorted(list(input_characters))\n",
    "else:\n",
    "    input_characters = set()\n",
    "    input_characters.add(chr(1)) # to reserve first spot, 0, for padding\n",
    "\n",
    "lines = training\n",
    "\n",
    "training = []\n",
    "good_sentences = []\n",
    "sentences = []"
   ]
  },
  {
   "cell_type": "code",
   "execution_count": 25,
   "metadata": {},
   "outputs": [],
   "source": [
    "added_characters = False\n",
    "# offset for large datasets, if you want to run it piece by piece\n",
    "line_offset = 0\n",
    "\n",
    "for line in lines[line_offset: min((num_samples+line_offset), len(lines) - 1)]:\n",
    "    target_text = str (line)\n",
    "    input_text = noise_maker(line, threshold)\n",
    "    # We use \"tab\" as the \"start sequence\" character\n",
    "    # for the targets, and \"\\n\" as \"end sequence\" character.\n",
    "    target_text = \"\\t\" + target_text + \"\\n\"\n",
    "    input_texts.append(input_text)\n",
    "    target_texts.append(target_text)\n",
    "    \n",
    "    for char in input_text:\n",
    "        if char not in input_characters:\n",
    "            input_characters.add(char)\n",
    "            added_characters = True\n",
    "    for char in target_text:\n",
    "        if char not in target_characters:\n",
    "            target_characters.add(char)\n",
    "            added_characters = True\n",
    "            "
   ]
  },
  {
   "cell_type": "code",
   "execution_count": 26,
   "metadata": {},
   "outputs": [],
   "source": [
    "# Make test texts\n",
    "test_x = []\n",
    "test_y = []\n",
    "\n",
    "# test texts, same vocab\n",
    "\n",
    "for line in testing: #[line_offset: min((num_samples+line_offset), len(training) - 1)]:\n",
    "    y = str (line)\n",
    "    x = noise_maker(line, threshold)\n",
    "    # We use \"tab\" as the \"start sequence\" character\n",
    "    # for the targets, and \"\\n\" as \"end sequence\" character.\n",
    "    y = \"\\t\" + y + \"\\n\"\n",
    "    test_x.append(x)\n",
    "    test_y.append(y)\n",
    "    for char in x:\n",
    "        if char not in input_characters:\n",
    "            input_characters.add(char)#append(char)#add(char)\n",
    "            added_characters = True\n",
    "    for char in y:\n",
    "        if char not in target_characters:\n",
    "            target_characters.add(char)#append(char)#add(char)\n",
    "            added_characters = True"
   ]
  },
  {
   "cell_type": "code",
   "execution_count": 27,
   "metadata": {},
   "outputs": [],
   "source": [
    "if not vocab_input_exists:\n",
    "    print('saving vocab')\n",
    "    input_characters = sorted(list(input_characters))\n",
    "    vocab_input=\"\"\n",
    "    for char in input_characters:\n",
    "        vocab_input += char\n",
    "    with bz2.open(\"./data/vocab_input.bz2\", \"wt\") as bzip_file:\n",
    "        unused = bzip_file.write(vocab_input)\n",
    "    added_characters = False\n",
    "\n",
    "if not vocab_target_exists:\n",
    "    print('saving vocab')\n",
    "    target_characters = sorted(list(target_characters))\n",
    "    vocab_target=\"\"\n",
    "    for char in target_characters:\n",
    "        vocab_target += char\n",
    "    with bz2.open(\"./data/vocab_target.bz2\", \"wt\") as bzip_file:\n",
    "        unused = bzip_file.write(vocab_target)\n",
    "    added_characters = False"
   ]
  },
  {
   "cell_type": "code",
   "execution_count": 28,
   "metadata": {},
   "outputs": [],
   "source": [
    "# Note that added characters (new characters in new datasets) are\n",
    "# save correctly, but read incorrectly and then sorted. This is a bug.\n",
    "# It is better to use a fixed vocabulary (list of symbols), that are \n",
    "# always guaranteed to remain in the same order, even when data \n",
    "# sets (texts/books), contain different characters/symbols.\n",
    "if added_characters:\n",
    "    vocab_input=\"\"\n",
    "    for char in input_characters:\n",
    "        vocab_input += char\n",
    "    with bz2.open(\"./data/vocab_input.bz2\", \"wt\") as bzip_file:\n",
    "        unused = bzip_file.write(vocab_input)\n",
    "    vocab_target=\"\"\n",
    "    for char in target_characters:\n",
    "        vocab_target += char\n",
    "    with bz2.open(\"./data/vocab_target.bz2\", \"wt\") as bzip_file:\n",
    "        unused = bzip_file.write(target_characters)"
   ]
  },
  {
   "cell_type": "code",
   "execution_count": 29,
   "metadata": {},
   "outputs": [
    {
     "name": "stdout",
     "output_type": "stream",
     "text": [
      "Number of samples: 2005348\n",
      "Number of unique input tokens: 63\n",
      "Number of unique output tokens: 65\n",
      "Max sequence length for inputs: 71\n",
      "Max sequence length for outputs: 71\n"
     ]
    }
   ],
   "source": [
    "num_encoder_tokens = len(input_characters)\n",
    "num_decoder_tokens = len(target_characters)\n",
    "max_encoder_seq_length = max_length + 11 # max([len(txt) for txt in clean_books])\n",
    "max_decoder_seq_length = max_encoder_seq_length # + 2 # max([len(txt) for txt in target_texts])\n",
    "\n",
    "print(\"Number of samples:\", len(lines))\n",
    "print(\"Number of unique input tokens:\", num_encoder_tokens)\n",
    "print(\"Number of unique output tokens:\", num_decoder_tokens)\n",
    "print(\"Max sequence length for inputs:\", max_encoder_seq_length)\n",
    "print(\"Max sequence length for outputs:\", max_decoder_seq_length)"
   ]
  },
  {
   "cell_type": "code",
   "execution_count": 30,
   "metadata": {},
   "outputs": [
    {
     "name": "stdout",
     "output_type": "stream",
     "text": [
      "{'\\x01': 0, ' ': 1, '!': 2, '.': 3, '?': 4, 'A': 5, 'B': 6, 'C': 7, 'D': 8, 'E': 9, 'F': 10, 'G': 11, 'H': 12, 'I': 13, 'J': 14, 'K': 15, 'L': 16, 'M': 17, 'N': 18, 'O': 19, 'P': 20, 'Q': 21, 'R': 22, 'S': 23, 'T': 24, 'U': 25, 'V': 26, 'W': 27, 'X': 28, 'Y': 29, 'Z': 30, 'a': 31, 'b': 32, 'c': 33, 'd': 34, 'e': 35, 'f': 36, 'g': 37, 'h': 38, 'i': 39, 'j': 40, 'k': 41, 'l': 42, 'm': 43, 'n': 44, 'o': 45, 'p': 46, 'q': 47, 'r': 48, 's': 49, 't': 50, 'u': 51, 'v': 52, 'w': 53, 'x': 54, 'y': 55, 'z': 56, 'Ä': 57, 'Å': 58, 'Ö': 59, 'ä': 60, 'å': 61, 'ö': 62}\n",
      "{'\\x01': 0, '\\t': 1, '\\n': 2, ' ': 3, '!': 4, '.': 5, '?': 6, 'A': 7, 'B': 8, 'C': 9, 'D': 10, 'E': 11, 'F': 12, 'G': 13, 'H': 14, 'I': 15, 'J': 16, 'K': 17, 'L': 18, 'M': 19, 'N': 20, 'O': 21, 'P': 22, 'Q': 23, 'R': 24, 'S': 25, 'T': 26, 'U': 27, 'V': 28, 'W': 29, 'X': 30, 'Y': 31, 'Z': 32, 'a': 33, 'b': 34, 'c': 35, 'd': 36, 'e': 37, 'f': 38, 'g': 39, 'h': 40, 'i': 41, 'j': 42, 'k': 43, 'l': 44, 'm': 45, 'n': 46, 'o': 47, 'p': 48, 'q': 49, 'r': 50, 's': 51, 't': 52, 'u': 53, 'v': 54, 'w': 55, 'x': 56, 'y': 57, 'z': 58, 'Ä': 59, 'Å': 60, 'Ö': 61, 'ä': 62, 'å': 63, 'ö': 64}\n"
     ]
    }
   ],
   "source": [
    "input_token_index = dict([(char, i) for i, char in enumerate(input_characters)])\n",
    "target_token_index = dict([(char, i) for i, char in enumerate(target_characters)])\n",
    "\n",
    "print(input_token_index)\n",
    "print(target_token_index)\n",
    "\n",
    "# not one hot\n",
    "encoder_input_data = np.zeros(\n",
    "    (len(input_texts), max_encoder_seq_length), dtype=\"float32\"\n",
    ")\n",
    "decoder_input_data = np.zeros(\n",
    "    (len(input_texts), max_decoder_seq_length), dtype=\"float32\"\n",
    ")\n",
    "# one hot\n",
    "decoder_target_data = np.zeros(\n",
    "    (len(input_texts), max_decoder_seq_length, num_decoder_tokens), dtype=\"float32\"\n",
    ")"
   ]
  },
  {
   "cell_type": "code",
   "execution_count": 31,
   "metadata": {},
   "outputs": [],
   "source": [
    "# not one hot\n",
    "for i, (input_text, target_text) in enumerate(zip(input_texts, target_texts)):\n",
    "    for t, char in enumerate(input_text):\n",
    "        encoder_input_data[i, t] = input_token_index[char]\n",
    "    encoder_input_data[i, t + 1] = input_token_index[\" \"]\n",
    "    for t, char in enumerate(target_text):\n",
    "        # decoder_target_data is ahead of decoder_input_data by one timestep\n",
    "        decoder_input_data[i, t] = target_token_index[char]\n",
    "        if t > 0:\n",
    "            # decoder_target_data will be ahead by one timestep\n",
    "            # and will not include the start character.\n",
    "# one hot + not one hot + one hot\n",
    "            decoder_target_data[i, t - 1, target_token_index[char]] = 1.0\n",
    "    decoder_input_data[i, t + 1] = target_token_index[\" \"]\n",
    "    decoder_target_data[i, t:, target_token_index[\" \"]] = 1.0"
   ]
  },
  {
   "cell_type": "markdown",
   "metadata": {},
   "source": [
    "# Build the RNN model"
   ]
  },
  {
   "cell_type": "code",
   "execution_count": 49,
   "metadata": {},
   "outputs": [],
   "source": [
    "# Functional model \n",
    "\n",
    "# Input 1, the misspelled sentence\n",
    "encoder_inputs    = Input(shape=(max_encoder_seq_length))      #batch_input_shape=(None,\n",
    "                    # max_encoder_seq_length)) #shape=(None,)) # num_encoder_tokens))\n",
    "# Embedding 1\n",
    "encoder_embedding = Embedding(input_dim=num_encoder_tokens, output_dim=output_dim,\n",
    "                    embeddings_initializer=\"uniform\", embeddings_regularizer=None,\n",
    "                    activity_regularizer=None, embeddings_constraint=None,\n",
    "                    mask_zero=True, input_length=max_encoder_seq_length)\n",
    "encoder_embedded  = encoder_embedding(encoder_inputs)\n",
    "\n",
    "# The encoder\n",
    "encoder_1 = Bidirectional(LSTM(latent_dim, return_sequences=True, \n",
    "                               dropout=0.1, \n",
    "                               #kernel_regularizer=regularizers.l1_l2(l1=1e-5, l2=1e-4), \n",
    "                               #bias_regularizer=regularizers.l2(1e-4), \n",
    "                               #activity_regularizer=regularizers.l2(1e-5)\n",
    "                               ))(encoder_embedded)\n",
    "encoder_2 = Bidirectional(LSTM(latent_dim, return_sequences=True, \n",
    "                               dropout=0.2, \n",
    "                               #kernel_regularizer=regularizers.l1_l2(l1=1e-5, l2=1e-4), \n",
    "                               #bias_regularizer=regularizers.l2(1e-4), \n",
    "                               #activity_regularizer=regularizers.l2(1e-5)\n",
    "                               ))(encoder_1)\n",
    "encoder_3 = Bidirectional(LSTM(latent_dim,  \n",
    "                               return_state=True, \n",
    "                               dropout=0.3,\n",
    "                               #kernel_regularizer=regularizers.l1_l2(l1=1e-5, l2=1e-4), \n",
    "                               #bias_regularizer=regularizers.l2(1e-4),\n",
    "                               #activity_regularizer=regularizers.l2(1e-5)\n",
    "                               ), input_shape=(max_encoder_seq_length, output_dim))\n",
    "encoder_outputs, forward_h, forward_c, backward_h, backward_c  = encoder_3(encoder_2)\n",
    "state_h = Concatenate()([forward_h, backward_h]) #Average()([forward_h, backward_h])\n",
    "state_c = Concatenate()([forward_c, backward_c]) #Average()([forward_c, backward_c])\n",
    "\n",
    "# We discard `encoder_outputs` and only keep the states.\n",
    "encoder_states = [state_h, state_c]\n",
    "\n",
    "# Set up the decoder, using `encoder_states` as initial state.\n",
    "decoder_inputs    = Input(shape=(max_decoder_seq_length))\n",
    "decoder_embedding = Embedding(input_dim=num_decoder_tokens, output_dim=output_dim,\n",
    "                        embeddings_initializer=\"uniform\", embeddings_regularizer=None,\n",
    "                        activity_regularizer=None, embeddings_constraint=None,\n",
    "                        mask_zero=True, input_length=max_decoder_seq_length)\n",
    "decoder_embedded  = decoder_embedding(decoder_inputs)\n",
    "\n",
    "# We set up our decoder to return full output sequences,\n",
    "# and to return internal states as well. We don't use the\n",
    "# return states in the training model, but we will use them in inference.\n",
    "decoder_lstm = LSTM(latent_dim*2, return_sequences=True, \n",
    "                    return_state=True)\n",
    "\n",
    "decoder_output, _, _ = decoder_lstm(decoder_embedded, initial_state=encoder_states)\n",
    "\n",
    "decoder_dense = Dense(num_decoder_tokens, activation=\"softmax\") \n",
    "decoder_outputs = decoder_dense(decoder_output)"
   ]
  },
  {
   "cell_type": "code",
   "execution_count": 33,
   "metadata": {},
   "outputs": [
    {
     "name": "stdout",
     "output_type": "stream",
     "text": [
      "Model: \"model\"\n",
      "__________________________________________________________________________________________________\n",
      "Layer (type)                    Output Shape         Param #     Connected to                     \n",
      "==================================================================================================\n",
      "input_1 (InputLayer)            [(None, 71)]         0                                            \n",
      "__________________________________________________________________________________________________\n",
      "embedding (Embedding)           (None, 71, 32)       2016        input_1[0][0]                    \n",
      "__________________________________________________________________________________________________\n",
      "bidirectional (Bidirectional)   (None, 71, 512)      591872      embedding[0][0]                  \n",
      "__________________________________________________________________________________________________\n",
      "bidirectional_1 (Bidirectional) (None, 71, 512)      1574912     bidirectional[0][0]              \n",
      "__________________________________________________________________________________________________\n",
      "input_2 (InputLayer)            [(None, 71)]         0                                            \n",
      "__________________________________________________________________________________________________\n",
      "bidirectional_2 (Bidirectional) [(None, 512), (None, 1574912     bidirectional_1[0][0]            \n",
      "__________________________________________________________________________________________________\n",
      "embedding_1 (Embedding)         (None, 71, 32)       2080        input_2[0][0]                    \n",
      "__________________________________________________________________________________________________\n",
      "concatenate (Concatenate)       (None, 512)          0           bidirectional_2[0][1]            \n",
      "                                                                 bidirectional_2[0][3]            \n",
      "__________________________________________________________________________________________________\n",
      "concatenate_1 (Concatenate)     (None, 512)          0           bidirectional_2[0][2]            \n",
      "                                                                 bidirectional_2[0][4]            \n",
      "__________________________________________________________________________________________________\n",
      "lstm_3 (LSTM)                   [(None, 71, 512), (N 1116160     embedding_1[0][0]                \n",
      "                                                                 concatenate[0][0]                \n",
      "                                                                 concatenate_1[0][0]              \n",
      "__________________________________________________________________________________________________\n",
      "dense (Dense)                   (None, 71, 65)       33345       lstm_3[0][0]                     \n",
      "==================================================================================================\n",
      "Total params: 4,895,297\n",
      "Trainable params: 4,895,297\n",
      "Non-trainable params: 0\n",
      "__________________________________________________________________________________________________\n"
     ]
    }
   ],
   "source": [
    "model = Model(inputs=[encoder_inputs, decoder_inputs], outputs=decoder_outputs)\n",
    "model.summary()"
   ]
  },
  {
   "cell_type": "code",
   "execution_count": 34,
   "metadata": {},
   "outputs": [
    {
     "data": {
      "image/png": "[encoded data removed]",
      "text/plain": [
       "<IPython.core.display.Image object>"
      ]
     },
     "execution_count": 34,
     "metadata": {},
     "output_type": "execute_result"
    }
   ],
   "source": [
    "# Let us see the model in graphical form\n",
    "tf.keras.utils.plot_model(model, show_shapes=True, show_layer_names=True)"
   ]
  },
  {
   "cell_type": "markdown",
   "metadata": {
    "collapsed": true
   },
   "source": [
    "## Training the Model"
   ]
  },
  {
   "cell_type": "code",
   "execution_count": 35,
   "metadata": {},
   "outputs": [],
   "source": [
    "model.compile(\n",
    "    optimizer=\"rmsprop\", loss=\"categorical_crossentropy\", metrics=['accuracy']) \n",
    "# Alternatives: rmsprop, Adam (bad), Nadam (not good on multilayer)"
   ]
  },
  {
   "cell_type": "code",
   "execution_count": 36,
   "metadata": {},
   "outputs": [],
   "source": [
    "callback_stopping = tf.keras.callbacks.EarlyStopping(monitor='val_accuracy', patience=10, restore_best_weights=True)\n",
    "lr_scheduler = keras.callbacks.ReduceLROnPlateau(factor=0.5, patience=5)"
   ]
  },
  {
   "cell_type": "code",
   "execution_count": 37,
   "metadata": {},
   "outputs": [],
   "source": [
    "# Do not run this line if no weights are saved!\n",
    "#status = model.load_weights('weights') "
   ]
  },
  {
   "cell_type": "code",
   "execution_count": 38,
   "metadata": {},
   "outputs": [
    {
     "name": "stderr",
     "output_type": "stream",
     "text": [
      "2022-01-20 11:04:44.501184: W tensorflow/core/framework/cpu_allocator_impl.cc:80] Allocation of 29536000000 exceeds 10% of free system memory.\n",
      "2022-01-20 11:04:54.610231: I tensorflow/compiler/mlir/mlir_graph_optimization_pass.cc:176] None of the MLIR Optimization Passes are enabled (registered 2)\n",
      "2022-01-20 11:04:54.630280: I tensorflow/core/platform/profile_utils/cpu_utils.cc:114] CPU Frequency: 2999510000 Hz\n"
     ]
    },
    {
     "name": "stdout",
     "output_type": "stream",
     "text": [
      "Epoch 1/500\n"
     ]
    },
    {
     "name": "stderr",
     "output_type": "stream",
     "text": [
      "2022-01-20 11:05:04.889168: I tensorflow/stream_executor/platform/default/dso_loader.cc:53] Successfully opened dynamic library libcudnn.so.8\n",
      "2022-01-20 11:05:05.469189: I tensorflow/stream_executor/cuda/cuda_dnn.cc:359] Loaded cuDNN version 8100\n",
      "2022-01-20 11:05:06.130281: I tensorflow/stream_executor/platform/default/dso_loader.cc:53] Successfully opened dynamic library libcublas.so.11\n",
      "2022-01-20 11:05:06.855308: I tensorflow/stream_executor/platform/default/dso_loader.cc:53] Successfully opened dynamic library libcublasLt.so.11\n",
      "2022-01-20 11:05:06.855377: I tensorflow/stream_executor/cuda/cuda_blas.cc:1838] TensorFloat-32 will be used for the matrix multiplication. This will only be logged once.\n"
     ]
    },
    {
     "name": "stdout",
     "output_type": "stream",
     "text": [
      "12500/12500 [==============================] - 657s 52ms/step - loss: 0.1201 - accuracy: 0.9349 - val_loss: 0.0206 - val_accuracy: 0.9900\n",
      "Epoch 2/500\n",
      "12500/12500 [==============================] - 632s 51ms/step - loss: 0.0179 - accuracy: 0.9914 - val_loss: 0.0132 - val_accuracy: 0.9941\n",
      "Epoch 3/500\n",
      "12500/12500 [==============================] - 630s 50ms/step - loss: 0.0130 - accuracy: 0.9941 - val_loss: 0.0111 - val_accuracy: 0.9952\n",
      "Epoch 4/500\n",
      "12500/12500 [==============================] - 630s 50ms/step - loss: 0.0111 - accuracy: 0.9950 - vil_loss: 0.0102 % val_accuracy: 0.9956\n",
      "Epoch 5/500\n",
      "12500/12500 [==============================] - 629s 50ms/step - loss: 0.0100 - accuracy: 0.9955 - val_loss: 0.0099 - val_accuracy: 0.9958\n",
      "Epoch 6/500\n",
      "12500/12500 [==============================] - 631s 50ms/step - loss: 0.0092 - accuracy: 0.9959 - val_loss: 0.0094 - val_accuracy: 0.9961\n",
      "Epoch 7/500\n",
      "12500/12500 [==============================] - 634s 51ms/step - loss: 0.0086 - accuracy: 0.9961 - val_loss: 0.0092 - val_accuracy: 0.9962\n",
      "Epoch 8/500\n",
      "12500/12500 [==============================] - 632s 51ms/step - loss: 0.0082 - accuracy: 0.9963 - val_loss: 0.0090 - val_accuracy: 0.9963\n",
      "Epoch 9/500\n",
      "12500/12500 [==============================] - 633s 51ms/step - loss: 0.0078 - accuracy: 0.9965 - val_loss: 0.0089 - val_accuracy: 0.9963\n",
      "Epoch 10/500\n",
      "12500/12500 [==============================] - 633s 51ms/step - loss: 0.0075 - accuracy: 0.9966 - val_loss: 0.0089 - val_accuracy: 0.9963\n",
      "Epoch 11/500\n",
      "12500/12500 [==============================] - 634s 51ms/step - loss: 0.0072 - accuracy: 0.9967 - val_loss: 0.0087 - val_accuracy: 0.9964\n",
      "Epoch 12/500\n",
      "12500/12500 [==============================] - 633s 51ms/step - loss: 0.0070 - accuracy: 0.9968 - val_loss: 0.0088 - val_accuracy: 0.9964\n",
      "Epoch 13/500\n",
      "12500/12500 [==============================] - 636s 51ms/step - loss: 0.0068 - accuracy: 0.9968 - val_loss: 0.0087 - val_accuracy: 0.9965\n",
      "Epoch 14/500\n",
      "12500/12500 [==============================] - 637s 51ms/step - loss: 0.0066 - accuracy: 0.9969 - val_loss: 0.0088 - val_accuracy: 0.9964\n",
      "Epoch 15/500\n",
      "12500/12500 [==============================] - 637s 51ms/step - loss: 0.0064 - accuracy: 0.9970 - val_loss: 0.0088 - val_accuracy: 0.9965\n",
      "Epoch 16/500\n",
      "12500/12500 [==============================] - 638s 51ms/step - loss: 0.0063 - accuracy: 0.9970 - val_loss: 0.0087 - val_accuracy: 0.9965\n",
      "Epoch 17/500\n",
      "12500/12500 [==============================] - 637s 51ms/step - loss: 0.0049 - accuracy: 0.9977 - val_loss: 0.0083 - val_accuracy: 0.9968\n",
      "Epoch 18/500\n",
      "12500/12500 [==============================] - 638s 51ms/step - loss: 0.0046 - accuracy: 0.9978 - val_loss: 0.0084 - val_accuracy: 0.9968\n",
      "Epoch 19/500\n",
      "12500/12500 [==============================] - 636s 51ms/step - loss: 0.0044 - accuracy: 0.9979 - val_loss: 0.0086 - val_accuracy: 0.9967\n",
      "Epoch 20/500\n",
      "12500/12500 [==============================] - 636s 51ms/step - loss: 0.0042 - accuracy: 0.9979 - val_loss: 0.0086 - val_accuracy: 0.9967\n",
      "Epoch 21/500\n",
      "12500/12500 [==============================] - 636s 51ms/step - loss: 0.0041 - accuracy: 0.9980 - val_loss: 0.0088 - val_accuracy: 0.9967\n",
      "Epoch 22/500\n",
      "12500/12500 [==============================] - 637s 51ms/step - loss: 0.0040 - accuracy: 0.9980 - val_loss: 0.0089 - val_accuracy: 0.9967\n",
      "Epoch 23/500\n",
      "12500/12500 [==============================] - 637s 51ms/step - loss: 0.0033 - accuracy: 0.9983 - val_loss: 0.0089 - val_accuracy: 0.9968\n",
      "Epoch 24/500\n",
      "12500/12500 [==============================] - 637s 51ms/step - loss: 0.0031 - accuracy: 0.9984 - val_loss: 0.0092 - val_accuracy: 0.9968\n",
      "Epoch 25/500\n",
      "12500/12500 [==============================] - 637s 51ms/step - loss: 0.0030 - accuracy: 0.9985 - val_loss: 0.0092 - val_accuracy: 0.9967\n",
      "Epoch 26/500\n",
      "12500/12500 [==============================] - 636s 51ms/step - loss: 0.0029 - accuracy: 0.9985 - val_loss: 0.0094 - val_accuracy: 0.9967\n",
      "Epoch 27/500\n",
      "12500/12500 [==============================] - 638s 51ms/step - loss: 0.0028 - accuracy: 0.9985 - val_loss: 0.0096 - val_accuracy: 0.9967\n",
      "Epoch 28/500\n",
      "12500/12500 [==============================] - 638s 51ms/step - loss: 0.0025 - accuracy: 0.9987 - val_loss: 0.0095 - val_accuracy: 0.9967\n",
      "Epoch 29/500\n",
      "12500/12500 [==============================] - 639s 51ms/step - loss: 0.0024 - accuracy: 0.9988 - val_loss: 0.0097 - val_accuracy: 0.9967\n",
      "Epoch 30/500\n",
      "12500/12500 [==============================] - 639s 51ms/step - loss: 0.0023 - accuracy: 0.9988 - val_loss: 0.0098 - val_accuracy: 0.9967\n",
      "Epoch 31/500\n",
      "12500/12500 [==============================] - 639s 51ms/step - loss: 0.0023 - accuracy: 0.9988 - val_loss: 0.0098 - val_accuracy: 0.9967\n",
      "Epoch 32/500\n",
      "12500/12500 [==============================] - 637s 51ms/step - loss: 0.0022 - accuracy: 0.9988 - val_loss: 0.0099 - val_accuracy: 0.9967\n",
      "Epoch 33/500\n",
      "12500/12500 [==============================] - 638s 51ms/step - loss: 0.0021 - accuracy: 0.9989 - val_loss: 0.0101 - val_accuracy: 0.9967\n",
      "Epoch 34/500\n",
      "12500/12500 [==============================] - 637s 51ms/step - loss: 0.0020 - accuracy: 0.9989 - val_loss: 0.0100 - val_accuracy: 0.9967\n"
     ]
    }
   ],
   "source": [
    "history = model.fit(\n",
    "    [encoder_input_data, decoder_input_data],\n",
    "    decoder_target_data,\n",
    "    batch_size=batch_size,\n",
    "    epochs=epochs,\n",
    "    callbacks=[callback_stopping, lr_scheduler],\n",
    "    validation_split=0.2)"
   ]
  },
  {
   "cell_type": "markdown",
   "metadata": {},
   "source": [
    "3-layer, regularization, rmsprop, test_set, embedding"
   ]
  },
  {
   "cell_type": "code",
   "execution_count": 39,
   "metadata": {},
   "outputs": [],
   "source": [
    "# Save weights\n",
    "model.save_weights('weights')"
   ]
  },
  {
   "cell_type": "code",
   "execution_count": 40,
   "metadata": {},
   "outputs": [
    {
     "name": "stdout",
     "output_type": "stream",
     "text": [
      "All scores\n"
     ]
    },
    {
     "data": {
      "image/png": "[encoded data removed]",
      "text/plain": [
       "<Figure size 576x360 with 1 Axes>"
      ]
     },
     "metadata": {
      "needs_background": "light"
     },
     "output_type": "display_data"
    },
    {
     "name": "stdout",
     "output_type": "stream",
     "text": [
      "Only accuracy scores\n"
     ]
    },
    {
     "data": {
      "image/png": "[encoded data removed]",
      "text/plain": [
       "<Figure size 432x288 with 1 Axes>"
      ]
     },
     "metadata": {
      "needs_background": "light"
     },
     "output_type": "display_data"
    },
    {
     "name": "stdout",
     "output_type": "stream",
     "text": [
      "Only loss scores\n"
     ]
    },
    {
     "data": {
      "image/png": "[encoded data removed]",
      "text/plain": [
       "<Figure size 432x288 with 1 Axes>"
      ]
     },
     "metadata": {
      "needs_background": "light"
     },
     "output_type": "display_data"
    },
    {
     "name": "stdout",
     "output_type": "stream",
     "text": [
      "Learning rate\n"
     ]
    },
    {
     "data": {
      "image/png": "[encoded data removed]",
      "text/plain": [
       "<Figure size 432x288 with 1 Axes>"
      ]
     },
     "metadata": {
      "needs_background": "light"
     },
     "output_type": "display_data"
    }
   ],
   "source": [
    "# Evaluate model\n",
    "print(\"All scores\")\n",
    "pd.DataFrame(history.history).plot(figsize=(8,5))\n",
    "plt.show()\n",
    "\n",
    "print(\"Only accuracy scores\")\n",
    "plt.plot(history.history['accuracy'], label='accuracy')\n",
    "plt.plot(history.history['val_accuracy'], label = 'val_accuracy')\n",
    "plt.show()\n",
    "\n",
    "print(\"Only loss scores\")\n",
    "plt.plot(history.history['loss'], label='loss')\n",
    "plt.plot(history.history['val_loss'], label = 'val_los')\n",
    "plt.show()\n",
    "\n",
    "print(\"Learning rate\")\n",
    "plt.plot(history.history['lr'], label='learning_rate')\n",
    "plt.show()"
   ]
  },
  {
   "cell_type": "code",
   "execution_count": 41,
   "metadata": {},
   "outputs": [
    {
     "name": "stdout",
     "output_type": "stream",
     "text": [
      "6964/6964 [==============================] - 132s 18ms/step - loss: 0.0090 - accuracy: 0.9968\n",
      "Test loss: 0.009032908827066422\n",
      "Test accuracy: 0.9968098998069763\n"
     ]
    }
   ],
   "source": [
    "# Evaluate on test set\n",
    "x_test1, x_test2, y_test = make_trainingdata(test_x, \n",
    "                           test_y, 0, len(test_x),\n",
    "                           max_encoder_seq_length, num_encoder_tokens, max_decoder_seq_length, num_decoder_tokens) \n",
    "score = model.evaluate([x_test1, x_test2], y_test)\n",
    "print('Test loss: {}'.format(score[0]))\n",
    "print('Test accuracy: {}'.format(score[1]))"
   ]
  },
  {
   "cell_type": "markdown",
   "metadata": {
    "collapsed": true
   },
   "source": [
    "## Fixing Custom Sentences"
   ]
  },
  {
   "cell_type": "code",
   "execution_count": 42,
   "metadata": {},
   "outputs": [],
   "source": [
    "# Next: inference mode (sampling).\n",
    "# Here's the drill:\n",
    "# 1) encode input and retrieve initial decoder state\n",
    "# 2) run one step of decoder with this initial state\n",
    "# and a \"start of sequence\" token as target.\n",
    "# Output will be the next target token\n",
    "# 3) Repeat with the current target token and current states\n",
    "\n",
    "# Define sampling models\n",
    "encoder_model = Model(encoder_inputs, encoder_states)"
   ]
  },
  {
   "cell_type": "code",
   "execution_count": 43,
   "metadata": {},
   "outputs": [
    {
     "name": "stdout",
     "output_type": "stream",
     "text": [
      "Model: \"model_1\"\n",
      "__________________________________________________________________________________________________\n",
      "Layer (type)                    Output Shape         Param #     Connected to                     \n",
      "==================================================================================================\n",
      "input_1 (InputLayer)            [(None, 71)]         0                                            \n",
      "__________________________________________________________________________________________________\n",
      "embedding (Embedding)           (None, 71, 32)       2016        input_1[0][0]                    \n",
      "__________________________________________________________________________________________________\n",
      "bidirectional (Bidirectional)   (None, 71, 512)      591872      embedding[0][0]                  \n",
      "__________________________________________________________________________________________________\n",
      "bidirectional_1 (Bidirectional) (None, 71, 512)      1574912     bidirectional[0][0]              \n",
      "__________________________________________________________________________________________________\n",
      "bidirectional_2 (Bidirectional) [(None, 512), (None, 1574912     bidirectional_1[0][0]            \n",
      "__________________________________________________________________________________________________\n",
      "concatenate (Concatenate)       (None, 512)          0           bidirectional_2[0][1]            \n",
      "                                                                 bidirectional_2[0][3]            \n",
      "__________________________________________________________________________________________________\n",
      "concatenate_1 (Concatenate)     (None, 512)          0           bidirectional_2[0][2]            \n",
      "                                                                 bidirectional_2[0][4]            \n",
      "==================================================================================================\n",
      "Total params: 3,743,712\n",
      "Trainable params: 3,743,712\n",
      "Non-trainable params: 0\n",
      "__________________________________________________________________________________________________\n"
     ]
    },
    {
     "data": {
      "image/png": "[encoded data removed]",
      "text/plain": [
       "<IPython.core.display.Image object>"
      ]
     },
     "execution_count": 43,
     "metadata": {},
     "output_type": "execute_result"
    }
   ],
   "source": [
    "encoder_model.summary()\n",
    "tf.keras.utils.plot_model(encoder_model, show_shapes=True, show_layer_names=True)"
   ]
  },
  {
   "cell_type": "code",
   "execution_count": 44,
   "metadata": {},
   "outputs": [],
   "source": [
    "decoder_state_input_h = Input(shape=(latent_dim*2,)) # *2 because of concat on Bidirectional\n",
    "decoder_state_input_c = Input(shape=(latent_dim*2,)) # *2 because of concat on Bidirectional\n",
    "decoder_states_inputs = [decoder_state_input_h, decoder_state_input_c]\n",
    "decoder_output, state_h, state_c = decoder_lstm(\n",
    "    decoder_embedded, initial_state=decoder_states_inputs)\n",
    "decoder_states = [state_h, state_c]\n",
    "decoder_outputs = decoder_dense(decoder_output)\n",
    "decoder_model = Model(\n",
    "    [decoder_inputs] + decoder_states_inputs,\n",
    "    [decoder_outputs] + decoder_states)\n",
    "\n",
    "# Reverse-lookup token index to decode sequences back to\n",
    "# something readable.\n",
    "reverse_input_char_index = dict(\n",
    "    (i, char) for char, i in input_token_index.items())\n",
    "reverse_target_char_index = dict(\n",
    "    (i, char) for char, i in target_token_index.items())"
   ]
  },
  {
   "cell_type": "code",
   "execution_count": 45,
   "metadata": {},
   "outputs": [
    {
     "name": "stdout",
     "output_type": "stream",
     "text": [
      "Model: \"model_2\"\n",
      "__________________________________________________________________________________________________\n",
      "Layer (type)                    Output Shape         Param #     Connected to                     \n",
      "==================================================================================================\n",
      "input_2 (InputLayer)            [(None, 71)]         0                                            \n",
      "__________________________________________________________________________________________________\n",
      "embedding_1 (Embedding)         (None, 71, 32)       2080        input_2[0][0]                    \n",
      "__________________________________________________________________________________________________\n",
      "input_3 (InputLayer)            [(None, 512)]        0                                            \n",
      "__________________________________________________________________________________________________\n",
      "input_4 (InputLayer)            [(None, 512)]        0                                            \n",
      "__________________________________________________________________________________________________\n",
      "lstm_3 (LSTM)                   [(None, 71, 512), (N 1116160     embedding_1[0][0]                \n",
      "                                                                 input_3[0][0]                    \n",
      "                                                                 input_4[0][0]                    \n",
      "__________________________________________________________________________________________________\n",
      "dense (Dense)                   (None, 71, 65)       33345       lstm_3[1][0]                     \n",
      "==================================================================================================\n",
      "Total params: 1,151,585\n",
      "Trainable params: 1,151,585\n",
      "Non-trainable params: 0\n",
      "__________________________________________________________________________________________________\n"
     ]
    },
    {
     "data": {
      "image/png": "[encoded data removed]",
      "text/plain": [
       "<IPython.core.display.Image object>"
      ]
     },
     "execution_count": 45,
     "metadata": {},
     "output_type": "execute_result"
    }
   ],
   "source": [
    "decoder_model.summary()\n",
    "tf.keras.utils.plot_model(decoder_model, show_shapes=True, show_layer_names=True)"
   ]
  },
  {
   "cell_type": "code",
   "execution_count": 46,
   "metadata": {},
   "outputs": [],
   "source": [
    "def decode_sequence(input_seq):\n",
    "    # Encode the input as state vectors.\n",
    "    states_value = encoder_model.predict(input_seq)\n",
    "\n",
    "    # Generate empty target sequence of length 1. Not One hot.\n",
    "    target_seq = np.zeros((1, 1)) \n",
    "    # Populate the first character of target sequence with the start character.\n",
    "    target_seq[0, 0] = target_token_index['\\t'] \n",
    "\n",
    "    # Sampling loop for a batch of sequences\n",
    "    # (to simplify, here we assume a batch of size 1).\n",
    "    stop_condition = False\n",
    "    decoded_sentence = ''\n",
    "    while not stop_condition:\n",
    "        output_tokens, h, c = decoder_model.predict(\n",
    "            [target_seq] + states_value)\n",
    "\n",
    "        # Sample a token\n",
    "        sampled_token_index = np.argmax(output_tokens[0, -1, :])\n",
    "        sampled_char = reverse_target_char_index[sampled_token_index]\n",
    "        decoded_sentence += sampled_char\n",
    "\n",
    "        # Exit condition: either hit max length\n",
    "        # or find stop character.\n",
    "        if (sampled_char == '\\n' or\n",
    "            len(decoded_sentence) > max_decoder_seq_length):\n",
    "            stop_condition = True\n",
    "\n",
    "        # Update the target sequence (of length 1).\n",
    "        target_seq = np.zeros((1, 1)) #, num_decoder_tokens))\n",
    "        target_seq[0, 0] = sampled_token_index #target_seq[0, 0, sampled_token_index] = 1.\n",
    "\n",
    "        # Update states\n",
    "        states_value = [h, c]\n",
    "\n",
    "    return decoded_sentence"
   ]
  },
  {
   "cell_type": "code",
   "execution_count": 47,
   "metadata": {},
   "outputs": [
    {
     "name": "stdout",
     "output_type": "stream",
     "text": [
      "From training set:\n",
      "WARNING:tensorflow:Model was constructed with shape (None, 71) for input KerasTensor(type_spec=TensorSpec(shape=(None, 71), dtype=tf.float32, name='input_2'), name='input_2', description=\"created by layer 'input_2'\"), but it was called on an input with incompatible shape (None, 1).\n",
      "-\n",
      "Input   sentence: Lac Gattelier är en sjö i Kanada.\n",
      "Decoded sentence: Lac Gatelier är en sjö i Kanada.\n",
      "\n",
      "-\n",
      "Input   sentence: Medelhavskliamt råder i trakten.\n",
      "Decoded sentence: Medelhavsklimat råder i trakten.\n",
      "\n",
      "-\n",
      "Input   sentence: Fallss Brook är ett vattendrag i Kanada.\n",
      "Decoded sentence: Falls Brook är ett vattendrag i Kanada.\n",
      "\n",
      "-\n",
      "Input   sentence: Orijjärvi är ne sjö i Finland.\n",
      "Decoded sentence: Orijärvi är en sjö i Finland.\n",
      "\n",
      "-\n",
      "Input   sentence: TTejgaon är en ort i Bnagladesh.\n",
      "Decoded sentence: Tejgaon är en ort i Bangladesh.\n",
      "\n",
      "-\n",
      "Input   sentence: Medelhavsklimat råder i trakten.\n",
      "Decoded sentence: Medelhavsklimat råder i trakten.\n",
      "\n",
      "-\n",
      "Input   sentence: Inga nderarer finns litsade.\n",
      "Decoded sentence: Inga underarter finns listade.\n",
      "\n",
      "-\n",
      "Input   sentence: Mahli Minor är en kanal i Indien.\n",
      "Decoded sentence: Mahli Minor är en kanal i Indien.\n",
      "\n",
      "-\n",
      "Input   sentence: I trakten råder ett hett ökeklimat.\n",
      "Decoded sentence: I trakten råder ett hett ökenklimat.\n",
      "\n",
      "-\n",
      "Input   sentence: Cerro Blanco är ett berg i Chile.\n",
      "Decoded sentence: Cerro Blanco är ett berg i Chile.\n",
      "\n",
      "-\n",
      "Input   sentence: Terrängen runt Kuala Geukueh är platt.\n",
      "Decoded sentence: Terrängen runt Kuala Geukueh är platt.\n",
      "\n",
      "-\n",
      "Input   sentence: Jonga är ett berg i Angola.\n",
      "Decoded sentence: Jonga är ett berg i Angola.\n",
      "\n",
      "-\n",
      "Input   sentence: Trakten ingåri  den boreala klimatzonen.\n",
      "Decoded sentence: Trakten ingår i den boreala klimatzonen.\n",
      "\n",
      "-\n",
      "Input   sentence: Savannklimat råder i trakten.\n",
      "Decoded sentence: Savannklimat råder i trakten.\n",
      "\n",
      "-\n",
      "Input   sentence: Trithemis grouti är ne trollsländerat.\n",
      "Decoded sentence: Trithemis grouti är en trollsländeart.\n",
      "\n",
      "-\n",
      "Input   sentence: Savannklimat råder it rakten.\n",
      "Decoded sentence: Savannklimat råder i trakten.\n",
      "\n",
      "-\n",
      "Input   sentence: Det finns inga samhällen i närheten.\n",
      "Decoded sentence: Det finns inga samhällen i närheten.\n",
      "\n",
      "-\n",
      "Input   sentence: Cooloola ingår i familjen Cooloolidae.\n",
      "Decoded sentence: Cooloola ingår i familjen Cooloolidae.\n",
      "\n",
      "-\n",
      "Input   sentence: Sjungn på frasnka.\n",
      "Decoded sentence: Sjungen på franska.\n",
      "\n",
      "-\n",
      "Input   sentence: Devadurga är en ort i Indien.\n",
      "Decoded sentence: Devadurga är en ort i Indien.\n",
      "\n"
     ]
    }
   ],
   "source": [
    "# Predict on training set\n",
    "print(\"From training set:\")\n",
    "for seq_index in range(20):\n",
    "    # Take one sequence (part of the training set)\n",
    "    # for trying out decoding.\n",
    "    input_seq = encoder_input_data[seq_index: seq_index + 1]\n",
    "    decoded_sentence = decode_sequence(input_seq)\n",
    "    print('-')\n",
    "    print('Input   sentence:', input_texts[seq_index])\n",
    "    print('Decoded sentence:', decoded_sentence)"
   ]
  },
  {
   "cell_type": "code",
   "execution_count": 48,
   "metadata": {},
   "outputs": [
    {
     "name": "stdout",
     "output_type": "stream",
     "text": [
      "\n",
      "From test set:\n",
      "-\n",
      "Input   sentence: Kliimatfförhållandena i området är arida.\n",
      "Decoded sentence: Klimatförhållandena i området är arida.\n",
      "\n",
      "-\n",
      "Input   sentence: På den tiden bodde  han i Genua.\n",
      "Decoded sentence: På den tiden bodde han i Genua.\n",
      "\n",
      "-\n",
      "Input   sentence: Terrängen påOtok Olib är platt.\n",
      "Decoded sentence: Terrängen på Otok Olib är platt.\n",
      "\n",
      "-\n",
      "Input   sentence: Elite Hockeyy PPrsopects.\n",
      "Decoded sentence: Elite Hockey Prispocets.\n",
      "\n",
      "-\n",
      "Input   sentence: rten är reproducerande i Sverige.\n",
      "Decoded sentence: Arten är reproducerande i Sverige.\n",
      "\n",
      "-\n",
      "Input   sentence: Klimatet i området är tempererat.\n",
      "Decoded sentence: Klimatet i området är tempererat.\n",
      "\n",
      "-\n",
      "Input   sentence: Inlandskliat årder i trakten.\n",
      "Decoded sentence: Inlandsklimat råder i trakten.\n",
      "\n",
      "-\n",
      "Input   sentence: Punta Tasbapauni är en udde i Honduras.\n",
      "Decoded sentence: Punta Tasbapauni är en udde i Honduras.\n",
      "\n",
      "-\n",
      "Input   sentence: Geografiskt ligger öarna i Melanesien.\n",
      "Decoded sentence: Geografiskt ligger öarna i Melanesien.\n",
      "\n",
      "-\n",
      "Input   sentence: Monte Wager liggre på ön Isla Wager.\n",
      "Decoded sentence: Monte Wager ligger på ön Isla Wager.\n",
      "\n",
      "-\n",
      "Input   sentence: Snowcap Icefield ligger upe på en höjd.\n",
      "Decoded sentence: Snowcap Icefield ligger uppe på en höjd.\n",
      "\n",
      "-\n",
      "Input   sentence: Bud Lakeär en sjö i Kanada.\n",
      "Decoded sentence: Bud Lake är en sjö i Kanada.\n",
      "\n",
      "-\n",
      "Input   sentence: Medelhavsklimat  råder i  trakten.\n",
      "Decoded sentence: Medelhavsklimat råder i trakten.\n",
      "\n",
      "-\n",
      "Input   sentence: En histoira från Ådalara.\n",
      "Decoded sentence: En historia från Ådalara.\n",
      "\n",
      "-\n",
      "Input   sentence: Kutsklimat råder i trakten.\n",
      "Decoded sentence: Kustklimat råder i trakten.\n",
      "\n",
      "-\n",
      "Input   sentence: Phou Talanien är ett berg i Laos.\n",
      "Decoded sentence: Phou Talanien är ett berg i Laos.\n",
      "\n",
      "-\n",
      "Input   sentence: Kutklimat råde ri trakten.\n",
      "Decoded sentence: Kustklimat råder i trakten.\n",
      "\n",
      "-\n",
      "Input   sentence: Inga underarter finns listade.\n",
      "Decoded sentence: Inga underarter finns listade.\n",
      "\n",
      "-\n",
      "Input   sentence: I trakten råder ett kallt ökenkliat.\n",
      "Decoded sentence: I trakten råder ett kallt ökenklimat.\n",
      "\n",
      "-\n",
      "Input   sentence: Puerot dl Aire är en ort i Mexiko.\n",
      "Decoded sentence: Puerto del Aire är en ort i Mexiko.\n",
      "\n",
      "-\n",
      "Input   sentence: Klimatet i området är empererat.\n",
      "Decoded sentence: Klimatet i området är tempererat.\n",
      "\n",
      "-\n",
      "Input   sentence: Terrängen runt San Miguel är varierad.\n",
      "Decoded sentence: Terrängen runt San Miguel är varierad.\n",
      "\n",
      "-\n",
      "Input   sentence: Ej att förväxla med Aldebaran.\n",
      "Decoded sentence: Ej att förväxla med Aldebaran.\n",
      "\n",
      "-\n",
      "Input   sentence: Terränge runt Tilhar är mycket platt.\n",
      "Decoded sentence: Terrängen runt Tilhar är mycket platt.\n",
      "\n",
      "-\n",
      "Input   sentence: Medlehavsklimat råder i trakten.\n",
      "Decoded sentence: Medelhavsklimat råder i trakten.\n",
      "\n",
      "-\n",
      "Input   sentence: Kyawbyuu Taung är en kulle i Burma.\n",
      "Decoded sentence: Kyawbyu Taung är en kulle i Burma.\n",
      "\n",
      "-\n",
      "Input   sentence: Det finnsina samhällen i närheten.\n",
      "Decoded sentence: Det finns inga samhällen i närheten.\n",
      "\n",
      "-\n",
      "Input   sentence: Arten har ej påträffats i Sverige.\n",
      "Decoded sentence: Arten har ej påträffats i Sverige.\n",
      "\n",
      "-\n",
      "Input   sentence: Leif Rieber är en beröömd dirigent.\n",
      "Decoded sentence: Leif Rieber är en berömd dirigent.\n",
      "\n",
      "-\n",
      "Input   sentence: Liilla Nätiholmen är en ö i Finland.\n",
      "Decoded sentence: Lilla Nätiholmen är en ö i Finland.\n",
      "\n",
      "-\n",
      "Input   sentence: Kowubei inågr i Pagiri.\n",
      "Decoded sentence: Kowubei ingår i Pagiri.\n",
      "\n",
      "-\n",
      "Input   sentence: Oued Bou Nafaa är en wadi i Allgeriet.\n",
      "Decoded sentence: Oued Bou Nafaa är en wadi i Algeriet.\n",
      "\n",
      "-\n",
      "Input   sentence: Compostela är en kommun i Filippinerna.\n",
      "Decoded sentence: Compostela är en kommun i Filippinerna.\n",
      "\n",
      "-\n",
      "Input   sentence: Inga underarter finns listade.\n",
      "Decoded sentence: Inga underarter finns listade.\n",
      "\n",
      "-\n",
      "Input   sentence: Medelhavsklimat råder i trakten.\n",
      "Decoded sentence: Medelhavsklimat råder i trakten.\n",
      "\n",
      "-\n",
      "Input   sentence: Savanklimatt råder i trakten.\n",
      "Decoded sentence: Savannklimat råder i trakten.\n",
      "\n",
      "-\n",
      "Input   sentence: Sun Kunda  är en orti  Gambia.\n",
      "Decoded sentence: Sun Kunda är en ort i Gambia.\n",
      "\n",
      "-\n",
      "Input   sentence: Silis ingår i familjen fluggbaggar.\n",
      "Decoded sentence: Silis ingår i familjen flugbaggar.\n",
      "\n",
      "-\n",
      "Input   sentence: Kallas även för Condor ellerr Vulture.\n",
      "Decoded sentence: Kallas även för Condor eller Välutre.\n",
      "\n",
      "-\n",
      "Input   sentence: Tropiskt monsunklimat råder i trakten..\n",
      "Decoded sentence: Tropiskt monsunklimat råder i trakten.\n",
      "\n",
      "-\n",
      "Input   sentence: Savannkllimat råder i trakten.\n",
      "Decoded sentence: Savannklimat råder i trakten.\n",
      "\n",
      "-\n",
      "Input   sentence: Haveet är nära Hammo söderu.\n",
      "Decoded sentence: Havet är nära Hammo söderut.\n",
      "\n",
      "-\n",
      "Input   sentence: Ett kallt stäppklimat råder i trakten.\n",
      "Decoded sentence: Ett kallt stäppklimat råder i trakten.\n",
      "\n",
      "-\n",
      "Input   sentence: Hungry Bay är en vik i Australien.\n",
      "Decoded sentence: Hungry Bay är en vik i Australien.\n",
      "\n",
      "-\n",
      "Input   sentence: De slåss och Bond lyckas dödah ono.\n",
      "Decoded sentence: De slåss och Bond lyckas döda honom.\n",
      "\n",
      "-\n",
      "Input   sentence: South Wolf Island är en ö i Kanaad.\n",
      "Decoded sentence: South Wolf Island är en ö i Kanada.\n",
      "\n",
      "-\n",
      "Input   sentence: Trakten ingår i den boreala klimatzonen.\n",
      "Decoded sentence: Trakten ingår i den boreala klimatzonen.\n",
      "\n",
      "-\n",
      "Input   sentence: Tanhatr är en wadi i Algeriet.\n",
      "Decoded sentence: Tanhatr är en wadi i Algeriet.\n",
      "\n",
      "-\n",
      "Input   sentence: Serra da Picada är ett berg i Brrasilien.\n",
      "Decoded sentence: Serra da Picada är ett berg i Brasilien.\n",
      "\n",
      "-\n",
      "Input   sentence: Punta del Aceituno är en udde i Spanien.\n",
      "Decoded sentence: Punta del Aceituno är en udde i Spanien.\n",
      "\n",
      "-\n",
      "Input   sentence: Ingau nderarter finns ilstade.\n",
      "Decoded sentence: Inga underarter finns listade.\n",
      "\n",
      "-\n",
      "Input   sentence: TTropiskt monsunklimat råder i trakten\n",
      "Decoded sentence: Tropiskt monsunklimat råder i trakten.\n",
      "\n",
      "-\n",
      "Input   sentence: Abdelkader Jilali är en kulle i Marocko.\n",
      "Decoded sentence: Abdelkader Jilali är en kulle i Marocko.\n",
      "\n",
      "-\n",
      "Input   sentence: Trakkten ingår i den boreala klimatzonen.\n",
      "Decoded sentence: Trakten ingår i den boreala klimatzonen.\n",
      "\n",
      "-\n",
      "Input   sentence: Cerro Colorrado är ett berg i Argentina.\n",
      "Decoded sentence: Cerro Colorado är ett berg i Argentina.\n",
      "\n",
      "-\n",
      "Input   sentence: Jaspers Brush är en ort i Australine.\n",
      "Decoded sentence: Jaspers Brush är en ort i Australien.\n",
      "\n",
      "-\n",
      "Input   sentence: Trakten ingår i den boreala klimatzonen.\n",
      "Decoded sentence: Trakten ingår i den boreala klimatzonen.\n",
      "\n",
      "-\n",
      "Input   sentence: hengnan är en ocken i Kina.\n",
      "Decoded sentence: Shengnan är en socken i Kina.\n",
      "\n",
      "-\n",
      "Input   sentence: Terrängen inåt land är platt.\n",
      "Decoded sentence: Terrängen inåt land är platt.\n",
      "\n",
      "-\n",
      "Input   sentence: Det ingår i Los Morros de Hacha Chica.\n",
      "Decoded sentence: Det ingår i Los Morros de Hacha Chica.\n",
      "\n",
      "-\n",
      "Input   sentence: Staurodonta är ett släkte a vfjärilar.\n",
      "Decoded sentence: Staurodonta är ett släkte av fjärilar.\n",
      "\n",
      "-\n",
      "Input   sentence: Savannklima tråder i traten.\n",
      "Decoded sentence: Savannklimat råder i trakten.\n",
      "\n",
      "-\n",
      "Input   sentence: Hvaet är nära Gristhorpe åt nordost.\n",
      "Decoded sentence: Havet är nära Gristhorpe åt nordost.\n",
      "\n",
      "-\n",
      "Input   sentence: Den ligger i Östantarktis.\n",
      "Decoded sentence: Den ligger i Östantarktis.\n",
      "\n",
      "-\n",
      "Input   sentence: Stewiacke Valley r en dal i Kanada.\n",
      "Decoded sentence: Stewiacke Valley är en dal i Kanada.\n",
      "\n",
      "-\n",
      "Input   sentence: Klimatet i området är tempeererat.\n",
      "Decoded sentence: Klimatet i området är tempererat.\n",
      "\n",
      "-\n",
      "Input   sentence: Inlandsklimat råder i traken.\n",
      "Decoded sentence: Inlandsklimat råder i trakten.\n",
      "\n",
      "-\n",
      "Input   sentence: Sanchaheär enn sokcen i Kina.\n",
      "Decoded sentence: Sanchahe är en socken i Kina.\n",
      "\n",
      "-\n",
      "Input   sentence: Den övevintrar i Australsaien.\n",
      "Decoded sentence: Den övervintrar i Australsaien.\n",
      "\n",
      "-\n",
      "Input   sentence: Plaine du Hodna är en slätt i Algeriet.\n",
      "Decoded sentence: Plaine du Hodna är en slätt i Algeriet.\n",
      "\n",
      "-\n",
      "Input   sentence: Savannklimat råder i traken.\n",
      "Decoded sentence: Savannklimat råder i trakten.\n",
      "\n",
      "-\n",
      "Input   sentence: Baitu är en köpinghuvudort  iKKina.\n",
      "Decoded sentence: Baitu är en köpinghuvudort i Kina.\n",
      "\n",
      "-\n",
      "Input   sentence: Artten är reproducerande i Sverige.\n",
      "Decoded sentence: Arten är reproducerande i Sverige.\n",
      "\n",
      "-\n",
      "Input   sentence: Pngkung Munduk ligger på ön Bali.\n",
      "Decoded sentence: Pangkung Munduk ligger på ön Bali.\n",
      "\n",
      "-\n",
      "Input   sentence: Savannklimat råder i trakten.\n",
      "Decoded sentence: Savannklimat råder i trakten.\n",
      "\n",
      "-\n",
      "Input   sentence: Trakten ingår i den boreala klimatznen.\n",
      "Decoded sentence: Trakten ingår i den boreala klimatzonen.\n",
      "\n"
     ]
    },
    {
     "name": "stdout",
     "output_type": "stream",
     "text": [
      "-\n",
      "Input   sentence: Havet är nära Gopnath Point åt sydost.\n",
      "Decoded sentence: Havet är nära Gopnath Point åt sydost.\n",
      "\n",
      "-\n",
      "Input   sentence: Muang Toumlan är ett distrikt  i Laos.\n",
      "Decoded sentence: Muang Toumlan är ett distrikt i Laos.\n",
      "\n",
      "-\n",
      "Input   sentence: Savannklimmat råder i trakten.\n",
      "Decoded sentence: Savannklimat råder i trakten.\n",
      "\n",
      "-\n",
      "Input   sentence: Gunung Liyyang ingår i Pegunungan Muller.\n",
      "Decoded sentence: Gunung Liyang ingår i Pegunungan Muller.\n",
      "\n",
      "-\n",
      "Input   sentence: Cerro Acalocotzipi är  ett berg i Mexio.\n",
      "Decoded sentence: Cerro Acalocotzipi är ett berg i Mexiko.\n",
      "\n",
      "-\n",
      "Input   sentence: Confe yär en ort i repubbliken rIland.\n",
      "Decoded sentence: Confey är en ort i republiken Irland.\n",
      "\n",
      "-\n",
      "Input   sentence: Tankaw är ett vattendrag i Ghana.\n",
      "Decoded sentence: Tankaw är ett vattendrag i Ghana.\n",
      "\n",
      "-\n",
      "Input   sentence: Punta Xoal är en uudde i Mexiko.\n",
      "Decoded sentence: Punta Xoal är en udde i Mexiko.\n",
      "\n",
      "-\n",
      "Input   sentence: Torpiskt monsunklmat råder i trakkten.\n",
      "Decoded sentence: Tropiskt monsunklimat råder i trakten.\n",
      "\n",
      "-\n",
      "Input   sentence: IUCNN kategoriserar arten som utdöd.\n",
      "Decoded sentence: IUCN kategoriserar arten som utdöd.\n",
      "\n",
      "-\n",
      "Input   sentence: Inlandsklimat råder i trakten.\n",
      "Decoded sentence: Inlandsklimat råder i trakten.\n",
      "\n",
      "-\n",
      "Input   sentence: Skriften är svårdaterd.\n",
      "Decoded sentence: Skriften är svårdaterad.\n",
      "\n",
      "-\n",
      "Input   sentence: Kustklimat råder i trakten.\n",
      "Decoded sentence: Kustklimat råder i trakten.\n",
      "\n",
      "-\n",
      "Input   sentence: Ett kall tstäppklimat råder i traketn.\n",
      "Decoded sentence: Ett kallt stäppklimat råder i trakten.\n",
      "\n",
      "-\n",
      "Input   sentence: Karossen riades av IItalDesign.\n",
      "Decoded sentence: Karossen ritades av Ital Design.\n",
      "\n",
      "-\n",
      "Input   sentence: Zarapicos ären kommun i Spanien.\n",
      "Decoded sentence: Zarapicos är en kommun i Spanien.\n",
      "\n",
      "-\n",
      "Input   sentence: Därefter brände sliken.\n",
      "Decoded sentence: Därefter brände sliken.\n",
      "\n",
      "-\n",
      "Input   sentence: Kustklimat råder i trkten.\n",
      "Decoded sentence: Kustklimat råder i trakten.\n",
      "\n",
      "-\n",
      "Input   sentence: I traktne råder ett hett ökenklimat.\n",
      "Decoded sentence: I trakten råder ett hett ökenklimat.\n",
      "\n",
      "-\n",
      "Input   sentence: Trakten inår i den borreala klimatzonen.\n",
      "Decoded sentence: Trakten ingår i den boreala klimatzonen.\n",
      "\n",
      "-\n",
      "Input   sentence: I trakten råder etth ett ökenklimat.\n",
      "Decoded sentence: I trakten råder ett hett ökenklimat.\n",
      "\n",
      "-\n",
      "Input   sentence: Haaremisaari är en ö i Finland.\n",
      "Decoded sentence: Haaremisaari är en ö i Finland.\n",
      "\n",
      "-\n",
      "Input   sentence: Savannklimat råder i trakten.\n",
      "Decoded sentence: Savannklimat råder i trakten.\n",
      "\n",
      "-\n",
      "Input   sentence: Tropiskt monsunklimat rådre i trakten..\n",
      "Decoded sentence: Tropiskt monsunklimat råder i trakten.\n",
      "\n"
     ]
    }
   ],
   "source": [
    "# Predict on test set\n",
    "print()\n",
    "print(\"From test set:\")\n",
    "for seq_index in range(100):\n",
    "    # Take one sequence (part of the test set)\n",
    "    # for trying out decoding.\n",
    "    input_seq = x_test1[seq_index: seq_index + 1]\n",
    "    decoded_sentence = decode_sequence(input_seq)\n",
    "    print('-')\n",
    "    print('Input   sentence:', test_x[seq_index])\n",
    "    print('Decoded sentence:', decoded_sentence)\n",
    "    "
   ]
  }
 ],
 "metadata": {
  "anaconda-cloud": {},
  "kernelspec": {
   "display_name": "Python 3",
   "language": "python",
   "name": "python3"
  },
  "language_info": {
   "codemirror_mode": {
    "name": "ipython",
    "version": 3
   },
   "file_extension": ".py",
   "mimetype": "text/x-python",
   "name": "python",
   "nbconvert_exporter": "python",
   "pygments_lexer": "ipython3",
   "version": "3.9.7"
  }
 },
 "nbformat": 4,
 "nbformat_minor": 1
}
